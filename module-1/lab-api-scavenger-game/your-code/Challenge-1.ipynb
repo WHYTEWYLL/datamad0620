{
 "cells": [
  {
   "cell_type": "code",
   "execution_count": 186,
   "metadata": {},
   "outputs": [],
   "source": [
    "# enter your code below\n",
    "import requests\n",
    "from dotenv import load_dotenv\n",
    "import os\n",
    "import re\n",
    "load_dotenv()\n",
    "\n",
    "\n",
    "url=\"https://api.github.com/repos/ironhack-datalabs/datamad0620/forks\"\n",
    "res= requests.get(url)"
   ]
  },
  {
   "cell_type": "code",
   "execution_count": 187,
   "metadata": {},
   "outputs": [],
   "source": [
    "def getFromGithub(endpoint, queryParams={}):\n",
    "    url = f\"https://api.github.com{endpoint}\"\n",
    "\n",
    "    apiKey = os.getenv(\"clave\")\n",
    "    if not apiKey:\n",
    "        raise ValueError(\"Please setup the GITHUB_APIKEY env variable\")\n",
    "    headers = {\n",
    "        \"Authorization\": f\"token {apiKey}\"\n",
    "    }\n",
    "    \n",
    "    res = requests.get(url, headers=headers, params=queryParams)\n",
    "    print(res.url)\n",
    "    return res.json()"
   ]
  },
  {
   "cell_type": "code",
   "execution_count": 188,
   "metadata": {},
   "outputs": [],
   "source": [
    "#Challenge1"
   ]
  },
  {
   "cell_type": "code",
   "execution_count": 227,
   "metadata": {},
   "outputs": [
    {
     "name": "stdout",
     "output_type": "stream",
     "text": [
      "https://api.github.com/repos/ironhack-datalabs/datamad0620/forks\n",
      "https://api.github.com/repos/agalvezcorell/datamad0620-1/languages\n",
      "https://api.github.com/repos/ferrero-felipe/datamad0620/languages\n",
      "https://api.github.com/repos/IreneLopezLujan/datamad0620/languages\n",
      "https://api.github.com/repos/laura-barahona22/datamad0620/languages\n",
      "https://api.github.com/repos/josellado/datamad0620/languages\n",
      "https://api.github.com/repos/CarlosSanzDGP/datamad0620/languages\n",
      "https://api.github.com/repos/must4in3/datamad0620/languages\n",
      "https://api.github.com/repos/carlos-estevez/datamad0620/languages\n",
      "https://api.github.com/repos/jopampuro/datamad0620/languages\n",
      "https://api.github.com/repos/Antoniosm88/datamad0620/languages\n",
      "https://api.github.com/repos/Jorge-Doncel/datamad0620/languages\n",
      "https://api.github.com/repos/pabloestevezm/datamad0620/languages\n",
      "https://api.github.com/repos/gthecrack/datamad0620/languages\n",
      "https://api.github.com/repos/adrianacoca/datamad0620/languages\n",
      "https://api.github.com/repos/antonioomsg/datamad0620/languages\n",
      "https://api.github.com/repos/JaimeSanz28/datamad0620/languages\n",
      "https://api.github.com/repos/aplazobel/datamad0620/languages\n",
      "https://api.github.com/repos/uscoburgo/datamad0620/languages\n",
      "https://api.github.com/repos/WHYTEWYLL/datamad0620/languages\n",
      "https://api.github.com/repos/paularotaola/datamad0620/languages\n",
      "https://api.github.com/repos/Nereland/datamad0620/languages\n",
      "https://api.github.com/repos/miriamvelloso/datamad0620/languages\n",
      "https://api.github.com/repos/sofiavpuebla/datamad0620/languages\n"
     ]
    },
    {
     "data": {
      "text/plain": [
       "{'HTML', 'Jupyter Notebook', 'Python', 'Shell'}"
      ]
     },
     "execution_count": 227,
     "metadata": {},
     "output_type": "execute_result"
    }
   ],
   "source": [
    "repo=getFromGithub(\"/repos/ironhack-datalabs/datamad0620/forks\")\n",
    "language=[getFromGithub(rep['languages_url'][22:]) for rep in repo]\n",
    "final=[ y for x in language for y in x]\n",
    "set(final)"
   ]
  },
  {
   "cell_type": "code",
   "execution_count": null,
   "metadata": {},
   "outputs": [],
   "source": []
  }
 ],
 "metadata": {
  "kernelspec": {
   "display_name": "Python 3",
   "language": "python",
   "name": "python3"
  },
  "language_info": {
   "codemirror_mode": {
    "name": "ipython",
    "version": 3
   },
   "file_extension": ".py",
   "mimetype": "text/x-python",
   "name": "python",
   "nbconvert_exporter": "python",
   "pygments_lexer": "ipython3",
   "version": "3.8.2"
  }
 },
 "nbformat": 4,
 "nbformat_minor": 4
}
