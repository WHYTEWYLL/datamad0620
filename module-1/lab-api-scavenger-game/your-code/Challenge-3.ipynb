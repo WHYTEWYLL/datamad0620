{
 "cells": [
  {
   "cell_type": "code",
   "execution_count": null,
   "metadata": {},
   "outputs": [],
   "source": [
    "#Challenge3"
   ]
  },
  {
   "cell_type": "code",
   "execution_count": 6,
   "metadata": {},
   "outputs": [],
   "source": [
    "# enter your code below\n",
    "import requests\n",
    "from dotenv import load_dotenv\n",
    "import os\n",
    "import re\n",
    "import base64\n",
    "load_dotenv()\n",
    "\n",
    "\n",
    "url=\"https://api.github.com/repos/ironhack-datalabs/datamad0620/forks\"\n",
    "res= requests.get(url)"
   ]
  },
  {
   "cell_type": "code",
   "execution_count": 2,
   "metadata": {},
   "outputs": [],
   "source": [
    "def getFromGithub(endpoint, queryParams={}):\n",
    "    url = f\"https://api.github.com{endpoint}\"\n",
    "\n",
    "    apiKey = os.getenv(\"clave\")\n",
    "    if not apiKey:\n",
    "        raise ValueError(\"Please setup the GITHUB_APIKEY env variable\")\n",
    "    headers = {\n",
    "        \"Authorization\": f\"token {apiKey}\"\n",
    "    }\n",
    "    \n",
    "    res = requests.get(url, headers=headers, params=queryParams)\n",
    "    print(res.url)\n",
    "    return res.json()"
   ]
  },
  {
   "cell_type": "code",
   "execution_count": 3,
   "metadata": {},
   "outputs": [
    {
     "name": "stdout",
     "output_type": "stream",
     "text": [
      "https://api.github.com/repos/ironhack-datalabs/scavenger/contents\n"
     ]
    }
   ],
   "source": [
    "repo=getFromGithub(\"/repos/ironhack-datalabs/scavenger/contents\")\n",
    "repo\n",
    "lol=[x[\"name\"] for x in repo if x[\"name\"]!='.gitignore']"
   ]
  },
  {
   "cell_type": "code",
   "execution_count": 4,
   "metadata": {},
   "outputs": [
    {
     "name": "stdout",
     "output_type": "stream",
     "text": [
      "https://api.github.com/repos/ironhack-datalabs/scavenger/contents/15024\n",
      "https://api.github.com/repos/ironhack-datalabs/scavenger/contents/15534\n",
      "https://api.github.com/repos/ironhack-datalabs/scavenger/contents/17020\n",
      "https://api.github.com/repos/ironhack-datalabs/scavenger/contents/30351\n",
      "https://api.github.com/repos/ironhack-datalabs/scavenger/contents/40303\n",
      "https://api.github.com/repos/ironhack-datalabs/scavenger/contents/44639\n",
      "https://api.github.com/repos/ironhack-datalabs/scavenger/contents/45525\n",
      "https://api.github.com/repos/ironhack-datalabs/scavenger/contents/47222\n",
      "https://api.github.com/repos/ironhack-datalabs/scavenger/contents/47830\n",
      "https://api.github.com/repos/ironhack-datalabs/scavenger/contents/49418\n",
      "https://api.github.com/repos/ironhack-datalabs/scavenger/contents/50896\n",
      "https://api.github.com/repos/ironhack-datalabs/scavenger/contents/55417\n",
      "https://api.github.com/repos/ironhack-datalabs/scavenger/contents/55685\n",
      "https://api.github.com/repos/ironhack-datalabs/scavenger/contents/60224\n",
      "https://api.github.com/repos/ironhack-datalabs/scavenger/contents/64880\n",
      "https://api.github.com/repos/ironhack-datalabs/scavenger/contents/66032\n",
      "https://api.github.com/repos/ironhack-datalabs/scavenger/contents/68848\n",
      "https://api.github.com/repos/ironhack-datalabs/scavenger/contents/70751\n",
      "https://api.github.com/repos/ironhack-datalabs/scavenger/contents/70985\n",
      "https://api.github.com/repos/ironhack-datalabs/scavenger/contents/88596\n",
      "https://api.github.com/repos/ironhack-datalabs/scavenger/contents/89046\n",
      "https://api.github.com/repos/ironhack-datalabs/scavenger/contents/89338\n",
      "https://api.github.com/repos/ironhack-datalabs/scavenger/contents/91701\n",
      "https://api.github.com/repos/ironhack-datalabs/scavenger/contents/97881\n",
      "https://api.github.com/repos/ironhack-datalabs/scavenger/contents/98750\n"
     ]
    }
   ],
   "source": [
    "archivos=[]\n",
    "for x in lol:\n",
    "    repo=getFromGithub(f\"/repos/ironhack-datalabs/scavenger/contents/{x}\")\n",
    "    for x in repo:\n",
    "        if re.search('.scavengerhunt',x[\"name\"]):\n",
    "            archivos.append(x)         \n",
    "\n"
   ]
  },
  {
   "cell_type": "code",
   "execution_count": 7,
   "metadata": {},
   "outputs": [
    {
     "name": "stdout",
     "output_type": "stream",
     "text": [
      "https://api.github.com/repos/ironhack-datalabs/scavenger/git/blobs/2add7632f1323136324efbf38ec66db1838b6173\n",
      "https://api.github.com/repos/ironhack-datalabs/scavenger/git/blobs/1269488f7fb1f4b56a8c0e5eb48cecbfadfa9219\n",
      "https://api.github.com/repos/ironhack-datalabs/scavenger/git/blobs/ba524d7abc4b3a0c0995eb85c9eef470e9e7172f\n",
      "https://api.github.com/repos/ironhack-datalabs/scavenger/git/blobs/d15a2cc44e31b14c65264271b81072e5ba0e1634\n",
      "https://api.github.com/repos/ironhack-datalabs/scavenger/git/blobs/3aaf448b40f878cf3067e2323616143bdde600de\n",
      "https://api.github.com/repos/ironhack-datalabs/scavenger/git/blobs/1c9064284a24b3486015eafdb391b141c27ada2b\n",
      "https://api.github.com/repos/ironhack-datalabs/scavenger/git/blobs/6abb415e0ae3450be0f323113bcca2af195ebbff\n",
      "https://api.github.com/repos/ironhack-datalabs/scavenger/git/blobs/e351fb73264581ce26504b97ef07daea35116f32\n",
      "https://api.github.com/repos/ironhack-datalabs/scavenger/git/blobs/f5cb13223fdc1b11f4cfbbe1694f533b3c579fa0\n",
      "https://api.github.com/repos/ironhack-datalabs/scavenger/git/blobs/c1187c4badc9be6990570cef850fc87dcf3523b0\n",
      "https://api.github.com/repos/ironhack-datalabs/scavenger/git/blobs/1a00a70b240d8947af0aaa04f1a93a52c72f7420\n",
      "https://api.github.com/repos/ironhack-datalabs/scavenger/git/blobs/209e3ef4b6247ce746048d5711befda46206d235\n",
      "https://api.github.com/repos/ironhack-datalabs/scavenger/git/blobs/3aaf448b40f878cf3067e2323616143bdde600de\n",
      "https://api.github.com/repos/ironhack-datalabs/scavenger/git/blobs/1c9064284a24b3486015eafdb391b141c27ada2b\n",
      "https://api.github.com/repos/ironhack-datalabs/scavenger/git/blobs/6abb415e0ae3450be0f323113bcca2af195ebbff\n",
      "https://api.github.com/repos/ironhack-datalabs/scavenger/git/blobs/f5cb13223fdc1b11f4cfbbe1694f533b3c579fa0\n",
      "https://api.github.com/repos/ironhack-datalabs/scavenger/git/blobs/e351fb73264581ce26504b97ef07daea35116f32\n",
      "https://api.github.com/repos/ironhack-datalabs/scavenger/git/blobs/397b22b2dc371e8db59ed327f0b75321e4c0d0f2\n",
      "https://api.github.com/repos/ironhack-datalabs/scavenger/git/blobs/09e16f36b3c4993ba924b1074629283a49869be9\n",
      "https://api.github.com/repos/ironhack-datalabs/scavenger/git/blobs/41d25f51c301c5eee3737998b0d86573e4e91b90\n",
      "https://api.github.com/repos/ironhack-datalabs/scavenger/git/blobs/fb828e4a926b0a84fc16111fc0ee3eeec41f0ce7\n",
      "https://api.github.com/repos/ironhack-datalabs/scavenger/git/blobs/bf3efa02f721c40c03a613824e345243a35f6812\n",
      "https://api.github.com/repos/ironhack-datalabs/scavenger/git/blobs/04d0ffb8d895a9e3ee244493e829a24468bd1f60\n",
      "https://api.github.com/repos/ironhack-datalabs/scavenger/git/blobs/47eb4306e5fec9e051dacabc7039348109784b94\n"
     ]
    },
    {
     "data": {
      "text/plain": [
       "[b'In\\n',\n",
       " b'data\\n',\n",
       " b'science,\\n',\n",
       " b'80\\n',\n",
       " b'percent\\n',\n",
       " b'of\\n',\n",
       " b'time\\n',\n",
       " b'spent\\n',\n",
       " b'is\\n',\n",
       " b'preparing\\n',\n",
       " b'data,\\n',\n",
       " b'20\\n',\n",
       " b'percent\\n',\n",
       " b'of\\n',\n",
       " b'time\\n',\n",
       " b'is\\n',\n",
       " b'spent\\n',\n",
       " b'complaining\\n',\n",
       " b'about\\n',\n",
       " b'the\\n',\n",
       " b'need\\n',\n",
       " b'to\\n',\n",
       " b'prepare\\n',\n",
       " b'data.\\n']"
      ]
     },
     "execution_count": 7,
     "metadata": {},
     "output_type": "execute_result"
    }
   ],
   "source": [
    "archivos.sort(key=lambda x: x[\"name\"])\n",
    "mensaje=[]\n",
    "for cada in archivos:\n",
    "    d=cada[\"git_url\"].split(\"/\")\n",
    "    repo=getFromGithub(f\"/repos/ironhack-datalabs/scavenger/git/blobs/{d[8]}\")\n",
    "    mensaje.append(base64.b64decode(repo[\"content\"]))\n",
    "mensaje      "
   ]
  },
  {
   "cell_type": "code",
   "execution_count": 8,
   "metadata": {},
   "outputs": [],
   "source": [
    "meme=\"\"\n",
    "for x in mensaje:\n",
    "    rea = str(x).replace(\"\\n\", \"\").replace(\"b'\", \"\")\n",
    "    meme+=rea\n",
    "\n"
   ]
  },
  {
   "cell_type": "code",
   "execution_count": 9,
   "metadata": {},
   "outputs": [
    {
     "data": {
      "text/plain": [
       "'In data science, 80 percent of time spent is preparing data, 20 percent of time is spent complaining about the need to prepare data. '"
      ]
     },
     "execution_count": 9,
     "metadata": {},
     "output_type": "execute_result"
    }
   ],
   "source": [
    "meme.replace(\"\\\\n'\",\" \")"
   ]
  },
  {
   "cell_type": "code",
   "execution_count": null,
   "metadata": {},
   "outputs": [],
   "source": []
  }
 ],
 "metadata": {
  "kernelspec": {
   "display_name": "Python 3",
   "language": "python",
   "name": "python3"
  },
  "language_info": {
   "codemirror_mode": {
    "name": "ipython",
    "version": 3
   },
   "file_extension": ".py",
   "mimetype": "text/x-python",
   "name": "python",
   "nbconvert_exporter": "python",
   "pygments_lexer": "ipython3",
   "version": "3.8.2"
  }
 },
 "nbformat": 4,
 "nbformat_minor": 4
}
