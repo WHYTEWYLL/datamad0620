{
 "cells": [
  {
   "cell_type": "markdown",
   "metadata": {},
   "source": [
    "# Before your start:\n",
    "- Read the README.md file\n",
    "- Comment as much as you can and use the resources in the README.md file\n",
    "- Happy learning!"
   ]
  },
  {
   "cell_type": "code",
   "execution_count": 60,
   "metadata": {},
   "outputs": [],
   "source": [
    "# import reduce from functools, numpy and pandas\n",
    "from functools import reduce\n",
    "import numpy as np\n",
    "import pandas as pd\n",
    "import ssl"
   ]
  },
  {
   "cell_type": "markdown",
   "metadata": {},
   "source": [
    "# Challenge 1 - Mapping\n",
    "\n",
    "#### We will use the map function to clean up a words in a book.\n",
    "\n",
    "In the following cell, we will read a text file containing the book The Prophet by Khalil Gibran."
   ]
  },
  {
   "cell_type": "code",
   "execution_count": 2,
   "metadata": {},
   "outputs": [
    {
     "data": {
      "text/plain": [
       "13637"
      ]
     },
     "execution_count": 2,
     "metadata": {},
     "output_type": "execute_result"
    }
   ],
   "source": [
    "# Run this code:\n",
    "\n",
    "location = '../58585-0.txt'\n",
    "with open(location, 'r', encoding=\"utf8\") as f:\n",
    "    prophet = f.read().split(' ')\n",
    "len(prophet)"
   ]
  },
  {
   "cell_type": "markdown",
   "metadata": {},
   "source": [
    "#### Let's remove the first 568 words since they contain information about the book but are not part of the book itself. \n",
    "\n",
    "Do this by removing from `prophet` elements 0 through 567 of the list (you can also do this by keeping elements 568 through the last element)."
   ]
  },
  {
   "cell_type": "code",
   "execution_count": 3,
   "metadata": {},
   "outputs": [
    {
     "data": {
      "text/plain": [
       "13637"
      ]
     },
     "execution_count": 3,
     "metadata": {},
     "output_type": "execute_result"
    }
   ],
   "source": [
    "# Your code here:\n",
    "prophet[568:]\n",
    "len(prophet)"
   ]
  },
  {
   "cell_type": "markdown",
   "metadata": {},
   "source": [
    "If you look through the words, you will find that many words have a reference attached to them. For example, let's look at words 1 through 10."
   ]
  },
  {
   "cell_type": "code",
   "execution_count": 4,
   "metadata": {},
   "outputs": [
    {
     "data": {
      "text/plain": [
       "['\\ufeffThe',\n",
       " 'Project',\n",
       " 'Gutenberg',\n",
       " 'EBook',\n",
       " 'of',\n",
       " 'The',\n",
       " 'Prophet,',\n",
       " 'by',\n",
       " 'Kahlil',\n",
       " 'Gibran\\n\\nThis',\n",
       " 'eBook']"
      ]
     },
     "execution_count": 4,
     "metadata": {},
     "output_type": "execute_result"
    }
   ],
   "source": [
    "# Your code here:\n",
    "\n",
    "prophet[:11]"
   ]
  },
  {
   "cell_type": "markdown",
   "metadata": {},
   "source": [
    "#### The next step is to create a function that will remove references. \n",
    "\n",
    "We will do this by splitting the string on the `{` character and keeping only the part before this character. Write your function below."
   ]
  },
  {
   "cell_type": "code",
   "execution_count": 5,
   "metadata": {},
   "outputs": [],
   "source": [
    "def reference(x):\n",
    "    '''\n",
    "    Input: A string\n",
    "    Output: The string with references removed\n",
    "    \n",
    "    Example:\n",
    "    Input: 'the{7}'\n",
    "    Output: 'the'\n",
    "    '''\n",
    "    \n",
    "    # Your code here:\n",
    "    return x.split(\"{\")[0]"
   ]
  },
  {
   "cell_type": "markdown",
   "metadata": {},
   "source": [
    "Now that we have our function, use the `map()` function to apply this function to our book, The Prophet. Return the resulting list to a new list called `prophet_reference`"
   ]
  },
  {
   "cell_type": "code",
   "execution_count": 6,
   "metadata": {},
   "outputs": [],
   "source": [
    "# Your code here:\n",
    "\n",
    "prophet_reference= list(map(reference,prophet))\n"
   ]
  },
  {
   "cell_type": "markdown",
   "metadata": {},
   "source": [
    "Another thing you may have noticed is that some words contain a line break. Let's write a function to split those words. Our function will return the string split on the character `\\n`. Write your function in the cell below."
   ]
  },
  {
   "cell_type": "code",
   "execution_count": 7,
   "metadata": {},
   "outputs": [],
   "source": [
    "def line_break(x):\n",
    "    '''\n",
    "    Input: A string\n",
    "    Output: A list of strings split on the line break (\\n) character\n",
    "        \n",
    "    Example:\n",
    "    Input: 'the\\nbeloved'\n",
    "    Output: ['the', 'beloved']\n",
    "    '''\n",
    "    return  x.split(\"\\n\")\n",
    "    \n",
    "    # Your code here:\n",
    "    "
   ]
  },
  {
   "cell_type": "markdown",
   "metadata": {},
   "source": [
    "Apply the `line_break` function to the `prophet_reference` list. Name the new list `prophet_line`."
   ]
  },
  {
   "cell_type": "code",
   "execution_count": 8,
   "metadata": {},
   "outputs": [],
   "source": [
    "# Your code here:\n",
    "\n",
    "\n",
    "prophet_line=list(map(line_break,prophet_reference))\n"
   ]
  },
  {
   "cell_type": "markdown",
   "metadata": {},
   "source": [
    "If you look at the elements of `prophet_line`, you will see that the function returned lists and not strings. Our list is now a list of lists. Flatten the list using list comprehension. Assign this new list to `prophet_flat`."
   ]
  },
  {
   "cell_type": "code",
   "execution_count": 20,
   "metadata": {},
   "outputs": [],
   "source": [
    "# Your code here:\n",
    "\n",
    "prophet_flat=[  palabras for palabras in prophet_line ]"
   ]
  },
  {
   "cell_type": "markdown",
   "metadata": {},
   "source": [
    "# Challenge 2 - Filtering\n",
    "\n",
    "When printing out a few words from the book, we see that there are words that we may not want to keep if we choose to analyze the corpus of text. Below is a list of words that we would like to get rid of. Create a function that will return false if it contains a word from the list of words specified and true otherwise."
   ]
  },
  {
   "cell_type": "code",
   "execution_count": 21,
   "metadata": {},
   "outputs": [],
   "source": [
    "def word_filter(x):\n",
    "    '''\n",
    "    Input: A string\n",
    "    Output: true if the word is not in the specified list and false if the word is in the list\n",
    "        \n",
    "    Example:\n",
    "    word list = ['and', 'the']\n",
    "    Input: 'and'\n",
    "    Output: False\n",
    "    \n",
    "    Input: 'John'\n",
    "    Output: True\n",
    "    '''\n",
    "    word_list = ['and', 'the', 'a', 'an']\n",
    "    \n",
    "    if x not in word_list:\n",
    "        return True\n",
    "    else:\n",
    "        return False\n",
    "    \n",
    "    # Your code here:\n",
    "    \n",
    "\n",
    "prophet_filter= list(filter ( word_filter , prophet_flat ))"
   ]
  },
  {
   "cell_type": "markdown",
   "metadata": {},
   "source": [
    "Use the `filter()` function to filter out the words speficied in the `word_filter()` function. Store the filtered list in the variable `prophet_filter`."
   ]
  },
  {
   "cell_type": "markdown",
   "metadata": {},
   "source": [
    "# Bonus Challenge - Part 1\n",
    "\n",
    "Rewrite the `word_filter` function above to not be case sensitive."
   ]
  },
  {
   "cell_type": "code",
   "execution_count": 29,
   "metadata": {},
   "outputs": [],
   "source": [
    "def word_filter_case(x):\n",
    "    \n",
    "    word_list = ['and', 'the', 'a', 'an']\n",
    "    \n",
    "    # Your code here:\n",
    "    \n",
    "    word_list = ['and', 'the', 'a', 'an']\n",
    "    \n",
    "    if x.lower not in word_list:\n",
    "        return True\n",
    "    else:\n",
    "        return False\n",
    "    \n",
    "    \n",
    "    \n",
    "\n",
    "prophet_filter= filter ( word_filter , prophet_flat )\n",
    "QW=list(prophet_filter)"
   ]
  },
  {
   "cell_type": "markdown",
   "metadata": {},
   "source": [
    "# Challenge 3 - Reducing\n",
    "\n",
    "#### Now that we have significantly cleaned up our text corpus, let's use the `reduce()` function to put the words back together into one long string separated by spaces. \n",
    "\n",
    "We will start by writing a function that takes two strings and concatenates them together with a space between the two strings."
   ]
  },
  {
   "cell_type": "code",
   "execution_count": 57,
   "metadata": {},
   "outputs": [],
   "source": [
    "def concat_space(a, b):\n",
    "    '''\n",
    "    Input:Two strings\n",
    "    Output: A single string separated by a space\n",
    "        \n",
    "    Example:\n",
    "    Input: 'John', 'Smith'\n",
    "    Output: 'John Smith'\n",
    "    '''\n",
    "    z=\"\"\n",
    "    for x in b:\n",
    "        z+=x\n",
    "    return a+\" \"+z\n",
    "    \n",
    "    # Your code here:\n"
   ]
  },
  {
   "cell_type": "markdown",
   "metadata": {},
   "source": [
    "Use the function above to reduce the text corpus in the list `prophet_filter` into a single string. Assign this new string to the variable `prophet_string`."
   ]
  },
  {
   "cell_type": "code",
   "execution_count": 58,
   "metadata": {},
   "outputs": [
    {
     "name": "stdout",
     "output_type": "stream",
     "text": [
      " ﻿The Project Gutenberg EBook of The Prophet, by Kahlil GibranThis eBook is for the use of anyone anywhere in the United States andmost other parts of the world at no cost and with almost no restrictionswhatsoever.  You may copy it, give it away or re-use it under the termsof the Project Gutenberg License included with this eBook or online atwww.gutenberg.org.  If you are not located in the United States, you'llhave to check the laws of the country where you are located before usingthis ebook.Title: The ProphetAuthor: Kahlil GibranRelease Date: January 1, 2019 [EBook #58585]Last Updated: January 3, 2018Language: EnglishCharacter set encoding: UTF-8*** START OF THIS PROJECT GUTENBERG EBOOK THE PROPHET ***Produced by David Widger from page images generouslyprovided by the Internet ArchiveTranscriber's Note: Page numbers, ie:  are included in thisutf-8 text file. For those wishing to use a text file unencumberedwith page numbers open or download the Latin-1 file 58585-8.txt.THE PROPHETBy Kahlil GibranNew York: Alfred A. Knopf1923_The Twelve Illustrations In This VolumeAre Reproduced From Original Drawings ByThe Author_“His power came from some great reservoirof spiritual life else it could not havebeen so universal and so potent, but themajesty and beauty of the language withwhich he clothed it were all his own?”--Claude BragdonTHE BOOKS OF KAHLIL GIBRANThe Madman. 1918 Twenty Drawings. 1919The Forerunner. 1920 The Prophet. 1923Sand and Foam. 1926 Jesus the Son ofMan. 1928 The Forth Gods. 1931 TheWanderer. 1932 The Garden of the Prophet1933 Prose Poems. 1934 Nymphs of theValley. 1948CONTENTS          The Coming of the Ship.......7          On Love.....................15          On Marriage.................19          On Children.................21          On Giving...................23          On Eating and Drinking......27          On Work.....................31          On Joy and Sorrow...........33          On Houses...................37          On Clothes..................41          On Buying and Selling.......43          On Crime and Punishment.....45          On Laws.....................51          On Freedom..................55          On Reason and Passion.......57          On Pain.....................60          On Self-Knowledge...........62          On Teaching.................64          On Friendship...............66          On Talking..................68          On Time.....................70          On Good and Evil............72          On Prayer...................76          On Pleasure.................79          On Beauty...................83          On Religion.................87          On Death....................90          The Farewell................92THE PROPHET|Almustafa, the chosen and thebeloved, who was a dawn unto his ownday, had waited twelve years in the cityof Orphalese for his ship that was toreturn and bear him back to the isle ofhis birth.And in the twelfth year, on the seventhday of Ielool, the month of reaping, heclimbed the hill without the city wallsand looked seaward; and he beheld hisship coming with the mist.Then the gates of his heart were flungopen, and his joy flew far over the sea.And he closed his eyes and prayed in thesilences of his soul.*****But as he descended the hill, a sadnesscame upon him, and he thought in hisheart:How shall I go in peace and withoutsorrow? Nay, not without a wound in thespirit shall I leave this city.  the days of pain I have spentwithin its walls, and long were thenights of aloneness; and who can departfrom his pain and his aloneness withoutregret?Too many fragments of the spirit have Iscattered in these streets, and too manyare the children of my longing that walknaked among these hills, and I cannotwithdraw from them without a burden andan ache.It is not a garment I cast off thisday, but a skin that I tear with my ownhands.Nor is it a thought I leave behind me,but a heart made sweet with hunger andwith thirst.*****Yet I cannot tarry longer.The sea that calls all things unto hercalls me, and I must embark.For to stay, though the hours burn inthe night, is to freeze and crystallizeand be bound in a mould.Fain would I take with me all that ishere. But how shall I?A voice cannot carry the tongue and lips that gave it wings. Alonemust it seek the ether.And alone and without his nest shall theeagle fly across the sun.*****Now when he reached the foot of thehill, he turned again towards the sea,and he saw his ship approaching theharbour, and upon her prow the mariners,the men of his own land.And his soul cried out to them, and hesaid:Sons of my ancient mother, you riders ofthe tides,How often have you sailed in my dreams.And now you come in my awakening, whichis my deeper dream.Ready am I to go, and my eagerness withsails full set awaits the wind.Only another breath will I breathe inthis still air, only another loving lookcast backward,And then I shall stand among you, aseafarer among seafarers.  you,vast sea, sleepless mother,Who alone are peace and freedom to theriver and the stream,Only another winding will this streammake, only another murmur in this glade,And then shall I come to you, aboundless drop to a boundless ocean.*****And as he walked he saw from afar menand women leaving their fields and theirvineyards and hastening towards the citygates.And he heard their voices calling hisname, and shouting from field to fieldtelling one another of the coming of hisship.And he said to himself:Shall the day of parting be the day ofgathering?And shall it be said that my eve was intruth my dawn?And what shall I give unto him who hasleft his plough in midfurrow, or tohim who has stopped the wheel of hiswinepress?  my heart become atree heavy-laden with fruit that I maygather and give unto them?And shall my desires flow like afountain that I may fill their cups?Am I a harp that the hand of the mightymay touch me, or a flute that his breathmay pass through me?A seeker of silences am I, and whattreasure have I found in silences that Imay dispense with confidence?If this is my day of harvest, in whatfields have I sowed the seed, and inwhat unremembered seasons?If this indeed be the hour in which Ilift up my lantern, it is not my flamethat shall burn therein.Empty and dark shall I raise my lantern,And the guardian of the night shall fillit with oil and he shall light it also.*****These things he said in words. But muchin his heart remained unsaid. For  could not speak his deepersecret.*****[Illustration: 0020]And when he entered into the city allthe people came to meet him, and theywere crying out to him as with onevoice.And the elders of the city stood forthand said:Go not yet away from us.A noontide have you been in ourtwilight, and your youth has given usdreams to dream.No stranger are you among us, nora guest, but our son and our dearlybeloved.Suffer not yet our eyes to hunger foryour face.*****And the priests and the priestesses saidunto him:Let not the waves of the sea separate usnow, and the years you have spent in ourmidst become a memory.You have walked among us a spirit, your shadow has been a lightupon our faces.Much have we loved you. But speechlesswas our love, and with veils has it beenveiled.Yet now it cries aloud unto you, andwould stand revealed before you.And ever has it been that love knowsnot its own depth until the hour ofseparation.*****And others came also and entreated him.But he answered them not. He only benthis head; and those who stood near sawhis tears falling upon his breast.And he and the people proceeded towardsthe great square before the temple.And there came out of the sanctuary awoman whose name was Almitra. And shewas a seeress.And he looked upon her with exceedingtenderness, for it was she who had firstsought and believed in him when he hadbeen but a day in their city.  hailed him, saying:Prophet of God, in quest of theuttermost, long have you searched thedistances for your ship.And now your ship has come, and you mustneeds go.Deep is your longing for the land ofyour memories and the dwelling placeof your greater desires; and our lovewould not bind you nor our needs holdyou.Yet this we ask ere you leave us, thatyou speak to us and give us of yourtruth.And we will give it unto our children,and they unto their children, and itshall not perish.In your aloneness you have watched withour days, and in your wakefulness youhave listened to the weeping and thelaughter of our sleep.Now therefore disclose us to ourselves,and tell us all that has been shownyou of that which is between birth anddeath.*****And he answered,People of Orphalese, of what can I save of that which is even nowmoving within your souls?***** *****Then said Almitra, Speak to us of_Love_.And he raised his head and looked uponthe people, and there fell a stillnessupon them. And with a great voice hesaid:When love beckons to you, follow him,Though his ways are hard and steep.And when his wings enfold you yield tohim,Though the sword hidden among hispinions may wound you.And when he speaks to you believe inhim,Though his voice may shatter your dreamsas the north wind lays waste the garden.For even as love crowns you so shallhe crucify you. Even as he is for yourgrowth so is he for your pruning.Even as he ascends to your height and your tenderest branchesthat quiver in the sun,So shall he descend to your roots andshake them in their clinging to theearth.*****Like sheaves of corn he gathers you untohimself.He threshes you to make you naked.He sifts you to free you from yourhusks.He grinds you to whiteness.He kneads you until you are pliant;And then he assigns you to his sacredfire, that you may become sacred breadfor God’s sacred feast.*****All these things shall love do unto youthat you may know the secrets of yourheart, and in that knowledge become afragment of Life’s heart.But if in your fear you would seek onlylove’s peace and love’s pleasure,Then it is better for you that youcover  nakedness and pass out oflove’s threshing-floor,Into the seasonless world where youshall laugh, but not all of yourlaughter, and weep, but not all of yourtears.*****Love gives naught but itself and takesnaught but from itself.Love possesses not nor would it bepossessed;For love is sufficient unto love.When you love you should not say, “Godis in my heart,” but rather, “I am inthe heart of God.”And think not you can direct the courseof love, for love, if it finds youworthy, directs your course.Love has no other desire but to fulfilitself.But if you love and must needs havedesires, let these be your desires:To melt and be like a running brook thatsings its melody to the night.  the pain of too much tenderness.To be wounded by your own understandingof love;And to bleed willingly and joyfully.To wake at dawn with a winged heart andgive thanks for another day of loving;To rest at the noon hour and meditatelove’s ecstacy;To return home at eventide withgratitude;And then to sleep with a prayer forthe beloved in your heart and a song ofpraise upon your lips.[Illustration: 0029]***** ***** Almitra spoke again and said,And what of _Marriage_ master?And he answered saying:You were born together, and together youshall be forevermore.You shall be together when the whitewings of death scatter your days.Aye, you shall be together even in thesilent memory of God.But let there be spaces in yourtogetherness,And let the winds of the heavens dancebetween you.*****Love one another, but make not a bond oflove:Let it rather be a moving sea betweenthe shores of your souls.Fill each other’s cup but drink not fromone cup.Give one another of your bread but eatnot from the same loaf.  anddance together and be joyous, but leteach one of you be alone,Even as the strings of a lute are alonethough they quiver with the same music.*****Give your hearts, but not into eachother’s keeping.For only the hand of Life can containyour hearts.And stand together yet not too neartogether:For the pillars of the temple standapart,And the oak tree and the cypress grownot in each other’s shadow.[Illustration: 0032]***** ***** a woman who held a babeagainst her bosom said, Speak to us of_Children_.And he said:Your children are not your children.They are the sons and daughters ofLife’s longing for itself.They come through you but not from you,And though they are with you yet theybelong not to you.*****You may give them your love but not yourthoughts,For they have their own thoughts.You may house their bodies but not theirsouls,For their souls dwell in the house oftomorrow, which you cannot visit, noteven in your dreams.You may strive to be like them, but seeknot to make them like you.  goes not backward nor tarries withyesterday.You are the bows from which yourchildren as living arrows are sentforth.The archer sees the mark upon the pathof the infinite, and He bends you withHis might that His arrows may go swiftand far.Let your bending in the Archer’s hand befor gladness;For even as he loves the arrow thatflies, so He loves also the bow that isstable.***** ***** said a rich man, Speak to us of_Giving_.And he answered:You give but little when you give ofyour possessions.It is when you give of yourself that youtruly give.For what are your possessions but thingsyou keep and guard for fear you may needthem tomorrow?And tomorrow, what shall tomorrow bringto the overprudent dog burying bonesin the trackless sand as he follows thepilgrims to the holy city?And what is fear of need but needitself?Is not dread of thirst when your well isfull, the thirst that is unquenchable?There are those who give little of the which they have--and they giveit for recognition and their hiddendesire makes their gifts unwholesome.And there are those who have little andgive it all.These are the believers in life andthe bounty of life, and their coffer isnever empty.There are those who give with joy, andthat joy is their reward.And there are those who give with pain,and that pain is their baptism.And there are those who give and knownot pain in giving, nor do they seekjoy, nor give with mindfulness ofvirtue;They give as in yonder valley the myrtlebreathes its fragrance into space.Through the hands of such as these Godspeaks, and from behind their eyes Hesmiles upon the earth.[Illustration: 0039]It is well to give when asked, but itis better to give unasked, throughunderstanding;And to the open-handed the search for who shall receive is joy greaterthan giving.And is there aught you would withhold?All you have shall some day be given;Therefore give now, that the seasonof giving may be yours and not yourinheritors’.You often say, “I would give, but onlyto the deserving.”The trees in your orchard say not so,nor the flocks in your pasture.They give that they may live, for towithhold is to perish.Surely he who is worthy to receive hisdays and his nights, is worthy of allelse from you.And he who has deserved to drink fromthe ocean of life deserves to fill hiscup from your little stream.And what desert greater shall there be,than that which lies in the courageand the confidence, nay the charity, ofreceiving?And who are you that men should rend bosom and unveil their pride,that you may see their worth naked andtheir pride unabashed?See first that you yourself deserve tobe a giver, and an instrument of giving.For in truth it is life that gives untolife--while you, who deem yourself agiver, are but a witness.And you receivers--and you areall receivers--assume no weight ofgratitude, lest you lay a yoke uponyourself and upon him who gives.Rather rise together with the giver onhis gifts as on wings;For to be overmindful of your debt, isito doubt his generosity who has thefreehearted earth for mother, and Godfor father.[Illustration: 0042]***** ***** an old man, a keeper of aninn, said, Speak to us of _Eating andDrinking_.And he said:Would that you could live on thefragrance of the earth, and like an airplant be sustained by the light.But since you must kill to eat, and robthe newly born of its mother’s milk toquench your thirst, let it then be anact of worship,And let your board stand an altar onwhich the pure and the innocent offorest and plain are sacrificed for thatwhich is purer and still more innocentin man.*****When you kill a beast say to him in yourheart,“By the same power that slays you, I tooam slain; and I too shall be consumed. the law that delivered you intomy hand shall deliver me into a mightierhand.Your blood and my blood is naught butthe sap that feeds the tree of heaven.”*****And when you crush an apple with yourteeth, say to it in your heart,“Your seeds shall live in my body,And the buds of your tomorrow shallblossom in my heart,And your fragrance shall be my breath,And together we shall rejoice throughall the seasons.”*****And in the autumn, when you gatherthe grapes of your vineyards for thewinepress, say in your heart,“I too am a vineyard, and my fruit shallbe gathered for the winepress,And like new wine I shall be kept ineternal vessels.”And in winter, when you draw the wine, there be in your heart a songfor each cup;And let there be in the song aremembrance for the autumn days, and forthe vineyard, and for the winepress.********** Then a ploughman said, Speakto us of _Work_.And he answered, saying:You work that you may keep pace with theearth and the soul of the earth.For to be idle is to become a strangerunto the seasons, and to step out oflife’s procession, that marches inmajesty and proud submission towards theinfinite.When you work you are a flute throughwhose heart the whispering of the hoursturns to music.Which of you would be a reed, dumb andsilent, when all else sings together inunison?Always you have been told that work is acurse and labour a misfortune.But I say to you that when you work youfulfil a part of earth’s furthest dream, to you when that dream wasborn,And in keeping yourself with labour youare in truth loving life,And to love life through labour is to beintimate with life’s inmost secret.*****But if you in your pain call birth anaffliction and the support of the flesha curse written upon your brow, then Ianswer that naught but the sweat ofyour brow shall wash away that which iswritten.You have been told also that life isdarkness, and in your weariness you echowhat was said by the weary.And I say that life is indeed darkness‘save when there is urge,And all urge is blind save when there isknowledge,And all knowledge is vain save whenthere is work,And all work is empty save when there islove;And when you work with love you bind to yourself, and to oneanother, and to God.*****And what is it to work with love?It is to weave the cloth with threadsdrawn from your heart, even as if yourbeloved were to wear that cloth.It is to build a house with affection,even as if your beloved were to dwell inthat house.It is to sow seeds with tenderness andreap the harvest with joy, even as ifyour beloved were to eat the fruit.It is to charge all things you fashionwith a breath of your own spirit,And to know that all the blessed deadare standing about you and watching.Often have I heard you say, as ifspeaking in sleep, “He who works inmarble, and finds the shape of his ownsoul in the stone, is nobler than he whoploughs the soil.  he who seizesthe rainbow to lay it on a cloth in thelikeness of man, is more than he whomakes the sandals for our feet.”But I say, not in sleep but in theoverwakefulness of noontide, that thewind speaks not more sweetly to thegiant oaks than to the least of all theblades of grass;And he alone is great who turns thevoice of the wind into a song madesweeter by his own loving.*****Work is love made visible.And if you cannot work with love butonly with distaste, it is better thatyou should leave your work and sit atthe gate of the temple and take alms ofthose who work with joy.For if you bake bread with indifference,you bake a bitter bread that feeds buthalf man’s hunger.And if you grudge the crushing of thegrapes, your grudge distils a poison inthe wine.  if you sing though asangels, and love not the singing, youmuffle man’s ears to the voices of theday and the voices of the night.***** ***** a woman said, Speak to us of_Joy and Sorrow_.And he answered:Your joy is your sorrow unmasked.And the selfsame well from which yourlaughter rises was oftentimes filledwith your tears.And how else can it be?The deeper that sorrow carves into yourbeing, the more joy you can contain.Is not the cup that holds your wine thevery cup that was burned in the potter’soven?And is not the lute that soothes yourspirit, the very wood that was hollowedwith knives?When you are joyous, look deep into yourheart and you shall find it is onlythat which has given you sorrow that isgiving you joy.When you are sorrowful look again in heart, and you shall see thatin truth you are weeping for that whichhas been your delight.*****Some of you say, “Joy is greater thansorrow,” and others say, “Nay, sorrow isthe greater.”But I say unto you, they areinseparable.Together they come, and when one sitsalone with you at your board, rememberthat the other is asleep upon your bed.Verily you are suspended like scalesbetween your sorrow and your joy.Only when you are empty are you atstandstill and balanced.When the treasure-keeper lifts you toweigh his gold and his silver, needsmust your joy or your sorrow rise orfall.***** ***** a mason came forth and said,Speak to us of _Houses_.And he answered and said:Build of your imaginings a bower in thewilderness ere you build a house withinthe city walls.For even as you have home-comings inyour twilight, so has the wanderer inyou, the ever distant and alone.Your house is your larger body.It grows in the sun and sleeps in thestillness of the night; and it is notdreamless. Does not your house dream?and dreaming, leave the city for groveor hilltop?Would that I could gather your housesinto my hand, and like a sower scatterthem in forest and meadow.Would the valleys were your streets, andthe green paths your alleys, that you seek one another throughvineyards, and come with the fragranceof the earth in your garments.But these things are not yet to be.In their fear your forefathers gatheredyou too near together. And that fearshall endure a little longer. A littlelonger shall your city walls separateyour hearths from your fields.*****And tell me, people of Orphalese, whathave you in these houses? And what is ityou guard with fastened doors?Have you peace, the quiet urge thatreveals your power?Have you remembrances, the glimmeringarches that span the summits of themind?Have you beauty, that leads the heartfrom things fashioned of wood and stoneto the holy mountain?Tell me, have you these in your houses?Or have you only comfort, and the lustfor comfort, that stealthy thing that the house a guest, and thenbecomes a host, and then a master?*****Ay, and it becomes a tamer, and withhook and scourge makes puppets of yourlarger desires.Though its hands are silken, its heartis of iron.It lulls you to sleep only to stand byyour bed and jeer at the dignity of theflesh.It makes mock of your sound senses, andlays them in thistledown like fragilevessels.Verily the lust for comfort murdersthe passion of the soul, and then walksgrinning in the funeral.But you, children of space, you restlessin rest, you shall not be trapped nortamed.Your house shall be not an anchor but amast.It shall not be a glistening film that a wound, but an eyelid thatguards the eye.You shall not fold your wings that youmay pass through doors, nor bend yourheads that they strike not against aceiling, nor fear to breathe lest wallsshould crack and fall down.You shall not dwell in tombs made by thedead for the living.And though of magnificence andsplendour, your house shall not holdyour secret nor shelter your longing.For that which is boundless in youabides in the mansion of the sky, whosedoor is the morning mist, and whosewindows are the songs and the silencesof night.***** ***** the weaver said, Speak to us of_Clothes_.And he answered:Your clothes conceal much of yourbeauty, yet they hide not theunbeautiful.And though you seek in garments thefreedom of privacy you may find in thema harness and a chain.Would that you could meet the sun andthe wind with more of your skin and lessof your raiment,For the breath of life is in thesunlight and the hand of life is in thewind.Some of you say, “It is the north windwho has woven the clothes we wear.”And I say, Ay, it was the north wind,But shame was his loom, and thesoftening of the sinews was his thread.And when his work was done he laughed inthe forest.  not that modestyis for a shield against the eye of theunclean.And when the unclean shall be no more,what were modesty but a fetter and afouling of the mind?And forget not that the earth delightsto feel your bare feet and the windslong to play with your hair.***** ***** a merchant said, Speak to us of_Buying and Selling_.And he answered and said:To you the earth yields her fruit, andyou shall not want if you but know howto fill your hands.It is in exchanging the gifts of theearth that you shall find abundance andbe satisfied.Yet unless the exchange be in love andkindly justice, it will but lead some togreed and others to hunger.When in the market place you toilers ofthe sea and fields and vineyards meetthe weavers and the potters and thegatherers of spices,--Invoke then the master spirit of theearth, to come into your midst andsanctify the scales and the reckoningthat weighs value against value.  not the barren-handed to takepart in your transactions, who wouldsell their words for your labour.To such men you should say,“Come with us to the field, or go withour brothers to the sea and cast yournet;For the land and the sea shall bebountiful to you even as to us.”*****And if there come the singers and thedancers and the flute players,--buy oftheir gifts also.For they too are gatherers of fruit andfrankincense, and that which they bring,though fashioned of dreams, is raimentand food for your soul.And before you leave the market place,see that no one has gone his way withempty hands.For the master spirit of the earth shallnot sleep peacefully upon the windtill the needs of the least of you aresatisfied.***** ***** one of the judges of the citystood forth and said, Speak to us of_Crime and Punishment_.And he answered, saying:It is when your spirit goes wanderingupon the wind,That you, alone and unguarded, commita wrong unto others and therefore untoyourself.And for that wrong committed must youknock and wait a while unheeded at thegate of the blessed.Like the ocean is your god-self;It remains for ever undefiled.And like the ether it lifts but thewinged.Even like the sun is your god-self;It knows not the ways of the mole norseeks it the holes of the serpent. your god-self dwells not alonein your being.Much in you is still man, and much inyou is not yet man,But a shapeless pigmy that walks asleepin the mist searching for its ownawakening.And of the man in you would I now speak.For it is he and not your god-self northe pigmy in the mist, that knows crimeand the punishment of crime.*****Oftentimes have I heard you speak of onewho commits a wrong as though he werenot one of you, but a stranger unto youand an intruder upon your world.But I say that even as the holy and therighteous cannot rise beyond the highestwhich is in each one of you,So the wicked and the weak cannot falllower than the lowest which is in youalso.And as a single leaf turns not yellowbut with the silent knowledge of thewhole tree,  the wrong-doer cannotdo wrong without the hidden will of youall.Like a procession you walk togethertowards your god-self.[Illustration: 0064]You are the way and the wayfarers.And when one of you falls down he fallsfor those behind him, a caution againstthe stumbling stone.Ay, and he falls for those ahead of him,who though faster and surer of foot, yetremoved not the stumbling stone.And this also, though the word lie heavyupon your hearts:The murdered is not unaccountable forhis own murder,And the robbed is not blameless in beingrobbed.The righteous is not innocent of thedeeds of the wicked,And the white-handed is not clean in thedoings of the felon.Yea, the guilty is oftentimes the victimof the injured,And still more often the condemned is burden bearer for the guiltlessand unblamed.You cannot separate the just from theunjust and the good from the wicked;For they stand together before the faceof the sun even as the black thread andthe white are woven together.And when the black thread breaks, theweaver shall look into the whole cloth,and he shall examine the loom also.*****If any of you would bring to judgmentthe unfaithful wife,Let him also weigh the heart of herhusband in scales, and measure his soulwith measurements.And let him who would lash the offenderlook unto the spirit of the offended.And if any of you would punish in thename of righteousness and lay the axunto the evil tree, let him see to itsroots;And verily he will find the roots of thegood and the bad, the fruitful and the all entwined together inthe silent heart of the earth.And you judges who would be just,What judgment pronounce you upon himwho though honest in the flesh yet is athief in spirit?What penalty lay you upon him who slaysin the flesh yet is himself slain in thespirit?And how prosecute you him who in actionis a deceiver and an oppressor,Yet who also is aggrieved and outraged?*****And how shall you punish those whoseremorse is already greater than theirmisdeeds?Is not remorse the justice which isadministered by that very law which youwould fain serve?Yet you cannot lay remorse upon theinnocent nor lift it from the heart ofthe guilty.Unbidden shall it call in the night,that men may wake and gaze uponthemselves.  you who wouldunderstand justice, how shall you unlessyou look upon all deeds in the fullnessof light?Only then shall you know that the erectand the fallen are but one man standingin twilight between the night of hispigmy-self and the day of his god-self,And that the corner-stone of the templeis not higher than the lowest stone inits foundation.***** ***** a lawyer said, But what of our_Laws_, master?And he answered:You delight in laying down laws,Yet you delight more in breaking them.Like children playing by the ocean whobuild sand-towers with constancy andthen destroy them with laughter.But while you build your sand-towers theocean brings more sand to the shore,And when you destroy them the oceanlaughs with you.Verily the ocean laughs always with theinnocent.But what of those to whom life is notan ocean, and man-made laws are notsand-towers,But to whom life is a rock, and the lawa chisel with which they would carve itin their own likeness?  of thecripple who hates dancers?What of the ox who loves his yoke anddeems the elk and deer of the foreststray and vagrant things?What of the old serpent who cannot shedhis skin, and calls all others naked andshameless?And of him who comes early to thewedding-feast, and when over-fed andtired goes his way saying that allfeasts are violation and all feasterslawbreakers?*****What shall I say of these save thatthey too stand in the sunlight, but withtheir backs to the sun?They see only their shadows, and theirshadows are their laws.And what is the sun to them but a casterof shadows?And what is it to acknowledge thelaws but to stoop down and trace theirshadows upon the earth?But you who walk facing the sun, what drawn on the earth can holdyou?You who travel with the wind, whatweather-vane shall direct your course?What man’s law shall bind you if youbreak your yoke but upon no man’s prisondoor?What laws shall you fear if you dancebut stumble against no man’s ironchains?And who is he that shall bring you tojudgment if you tear off your garmentyet leave it in no man’s path?*****People of Orphalese, you can muffle thedrum, and you can loosen the stringsof the lyre, but who shall command theskylark not to sing?***** ***** an orator said, Speak to us of_Freedom_.And he answered:At the city gate and by your firesideI have seen you prostrate yourself andworship your own freedom,Even as slaves humble themselves beforea tyrant and praise him though he slaysthem.Ay, in the grove of the temple and inthe shadow of the citadel I have seenthe freest among you wear their freedomas a yoke and a handcuff.And my heart bled within me; for youcan only be free when even the desireof seeking freedom becomes a harnessto you, and when you cease to speak offreedom as a goal and a fulfilment.You shall be free indeed when yourdays are not without a care nor your without a want and a grief,But rather when these things girdle yourlife and yet you rise above them nakedand unbound.*****And how shall you rise beyond your daysand nights unless you break thechains which you at the dawn of yourunderstanding have fastened around yournoon hour?In truth that which you call freedom isthe strongest of these chains, thoughits links glitter in the sun and dazzleyour eyes.And what is it but fragments of yourown self you would discard that you maybecome free?If it is an unjust law you wouldabolish, that law was written with yourown hand upon your own forehead.You cannot erase it by burning your lawbooks nor by washing the foreheads ofyour judges, though you pour the seaupon them.And if it is a despot you would see first that his throneerected within you is destroyed.For how can a tyrant rule the free andthe proud, but for a tyranny in theirown freedom and a shame in their ownpride?And if it is a care you would cast off,that cart has been chosen by you ratherthan imposed upon you.And if it is a fear you would dispel,the seat of that fear is in your heartand not in the hand of the feared.*****Verily all things move within your beingin constant half embrace, the desiredand the dreaded, the repugnant and thecherished, the pursued and that whichyou would escape.These things move within you as lightsand shadows in pairs that cling.And when the shadow fades and is nomore, the light that lingers becomes ashadow to another light.And thus your freedom when it loses itsfetters becomes itself the fetter of agreater freedom.***** ***** the priestess spoke againand said: Speak to us of _Reason andPassion_.And he answered, saying:Your soul is oftentimes a battlefield,upon which your reason and your judgmentwage war against your passion and yourappetite.Would that I could be the peacemaker inyour soul, that I might turn the discordand the rivalry of your elements intooneness and melody.But how shall I, unless you yourselvesbe also the peacemakers, nay, the loversof all your elements?Your reason and your passion are therudder and the sails of your seafaringsoul.If either your sails or your rudder bebroken, you can but toss and drift,or else be held at a standstill inmid-seas.  reason, ruling alone,is a force confining; and passion,unattended, is a flame that burns to itsown destruction.Therefore let your soul exalt yourreason to the height of passion, that itmay sing;And let it direct your passion withreason, that your passion may livethrough its own daily resurrection,and like the phoenix rise above its ownashes.*****I would have you consider your judgmentand your appetite even as you would twoloved guests in your house.Surely you would not honour one guestabove the other; for he who is moremindful of one loses the love and thefaith of bothAmong the hills, when you sit in thecool shade of the white poplars, sharingthe peace and serenity of distant fieldsand meadows--then let your heart say insilence, “God rests in reason.”And when the storm comes, and the wind shakes the forest,and thunder and lightning proclaim themajesty of the sky,--then let your heartsay in awe, “God moves in passion.”And since you are a breath in God’ssphere, and a leaf in God’s forest, youtoo should rest in reason and move inpassion.***** ***** a woman spoke, saying, Tell usof _Pain_.And he said:Your pain is the breaking of the shellthat encloses your understanding.Even as the stone of the fruit mustbreak, that its heart may stand in thesun, so must you know pain.And could you keep your heart in wonderat the daily miracles of your life, yourpain would not seem less wondrous thanyour joy;And you would accept the seasons of yourheart, even as you have always acceptedthe seasons that pass over your fields.And you would watch with serenitythrough the winters of your grief.Much of your pain is self-chosen.It is the bitter potion by which thephysician  you heals your sickself.Therefore trust the physician, and drinkhis remedy in silence and tranquillity:For his hand, though heavy and hard, isguided by the tender hand of the Unseen,And the cup he brings, though it burnyour lips, has been fashioned of theclay which the Potter has moistened withHis own sacred tears.***** ***** a man said, Speak to us of_Self-Knowledge_.And he answered, saying:Your hearts know in silence the secretsof the days and the nights.But your ears thirst for the sound ofyour heart’s knowledge.You would know in words that which youhave always known in thought.You would touch with your fingers thenaked body of your dreams.And it is well you should.The hidden well-spring of your soul mustneeds rise and run murmuring to the sea;And the treasure of your infinite depthswould be revealed to your eyes.But let there be no scales to weigh yourunknown treasure;And seek not the depths of your with staff or soundingline.For self is a sea boundless andmeasureless.*****Say not, “I have found the truth,” butrather, “I have found a truth.”Say not, “I have found the path of thesoul.” Say rather, “I have met the soulwalking upon my path.”For the soul walks upon all paths.The soul walks not upon a line, neitherdoes it grow like a reed.The soul unfolds itself, like a lotus ofcountless petals.[Illustration: 0083]***** ***** said a teacher, Speak to us of_Teaching_.And he said:“No man can reveal to you aught but thatwhich already lies half asleep in thedawning of your knowledge.The teacher who walks in the shadow ofthe temple, among his followers, givesnot of his wisdom but rather of hisfaith and his lovingness.If he is indeed wise he does not bidyou enter the house of his wisdom, butrather leads you to the threshold ofyour own mind.The astronomer may speak to you of hisunderstanding of space, but he cannotgive you his understanding.The musician may sing to you of therhythm which is in all space, but hecannot give you the ear which arreststhe rhythm nor the voice that echoes it. he who is versed in the scienceof numbers can tell of the regionsof weight and measure, but he cannotconduct you thither.For the vision of one man lends not itswings to another man.And even as each one of you stands alonein God’s knowledge, so must each one ofyou be alone in his knowledge of God andin his understanding of the earth.***** ***** a youth said, Speak to us of_Friendship_.And he answered, saying:Your friend is your needs answered.He is your field which you sow with loveand reap with thanksgiving.And he is your board and your fireside.For you come to him with your hunger,and you seek him for peace.When your friend speaks his mind youfear not the “nay” in your own mind, nordo you withhold the “ay.”And when he is silent your heart ceasesnot to listen to his heart;For without words, in friendship, allthoughts, all desires, all expectationsare born and shared, with joy that isunacclaimed.When you part from your friend, yougrieve not;For that which you love most in himmay be clearer in his absence, as themountain to the climber is clearerfrom the plain.  let there be nopurpose in friendship save the deepeningof the spirit.For love that seeks aught but thedisclosure of its own mystery is notlove but a net cast forth: and only theunprofitable is caught.*****And let your best be for your friend.If he must know the ebb of your tide,let him know its flood also.For what is your friend that you shouldseek him with hours to kill?Seek him always with hours to live.For it is his to fill your need, but notyour emptiness.And in the sweetness of friendshiplet there be laughter, and sharing ofpleasures.For in the dew of little thingsthe heart finds its morning and isrefreshed.***** ***** then a scholar said, Speak of_Talking_.And he answered, saying:You talk when you cease to be at peacewith your thoughts;And when you can no longer dwell in thesolitude of your heart you live in yourlips, and sound is a diversion and apastime.And in much of your talking, thinking ishalf murdered.For thought is a bird of space, that ina cage of words may indeed unfold itswings but cannot fly.There are those among you who seek thetalkative through fear of being alone.The silence of aloneness reveals totheir eyes their naked selves and theywould escape.And there are those who talk, and knowledge or forethought reveala truth which they themselves do notunderstand.And there are those who have the truthwithin them, but they tell it not inwords.In the bosom of such as these the spiritdwells in rhythmic silence.*****When you meet your friend on theroadside or in the market place, let thespirit in you move your lips and directyour tongue.Let the voice within your voice speak tothe ear of his ear;For his soul will keep the truth ofyour heart as the taste of the wine isrememberedWhen the colour is forgotten and thevessel is no more.***** ***** an astronomer said, Master, whatof _Time_?And he answered:You would measure time the measurelessand the immeasurable.You would adjust your conduct andeven direct the course of your spiritaccording to hours and seasons.Of time you would make a stream uponwhose bank you would sit and watch itsflowing.Yet the timeless in you is aware oflife’s timelessness,And knows that yesterday is but today’smemory and tomorrow is today’s dream.And that that which sings andcontemplates in you is still dwellingwithin the bounds of that first momentwhich scattered the stars into space. among you does not feel that hispower to love is boundless?And yet who does not feel that verylove, though boundless, encompassedwithin the centre of his being, andmoving not from love thought to lovethought, nor from love deeds to otherlove deeds?And is not time even as love is,undivided and paceless?*****But if in your thought you must measuretime into seasons, let each seasonencircle all the other seasons,And let today embrace the past withremembrance and the future with longing.***** ***** one of the elders of the citysaid, Speak to us of _Good and Evil_.And he answered:Of the good in you I can speak, but notof the evil.For what is evil but good tortured byits own hunger and thirst?Verily when good is hungry it seeks foodeven in dark caves, and when it thirstsit drinks even of dead waters.You are good when you are one withyourself.Yet when you are not one with yourselfyou are not evil.For a divided house is not a den ofthieves; it is only a divided house.And a ship without rudder may wanderaimlessly among perilous isles yet sinknot to the bottom.  are good whenyou strive to give of yourself.Yet you are not evil when you seek gainfor yourself.For when you strive for gain you arebut a root that clings to the earth andsucks at her breast.Surely the fruit cannot say to the root,“Be like me, ripe and full and evergiving of your abundance.”For to the fruit giving is a need, asreceiving is a need to the root.*****You are good when you are fully awake inyour speech,Yet you are not evil when you sleepwhile your tongue staggers withoutpurpose.And even stumbling speech may strengthena weak tongue.You are good when you walk to your goalfirmly and with bold steps.Yet you are not evil when you go thitherlimping.  those who limp go notbackward.But you who are strong and swift, seethat you do not limp before the lame,deeming it kindness.*****You are good in countless ways, and youare not evil when you are not good,You are only loitering and sluggard.Pity that the stags cannot teachswiftness to the turtles.In your longing for your giant self liesyour goodness: and that longing is inall of you.But in some of you that longing is atorrent rushing with might to the sea,carrying the secrets of the hillsidesand the songs of the forest.And in others it is a flat stream thatloses itself in angles and bends andlingers before it reaches the shore.But let not him who longs much say to who longs little, “Wherefore areyou slow and halting?”For the truly good ask not the naked,“Where is your garment?” nor thehouseless, “What has befallen yourhouse?”***** ***** a priestess said, Speak to usof _Prayer_.And he answered, saying:You pray in your distress and in yourneed; would that you might pray alsoin the fullness of your joy and in yourdays of abundance.For what is prayer but the expansion ofyourself into the living ether?And if it is for your comfort to pouryour darkness into space, it is also foryour delight to pour forth the dawningof your heart.And if you cannot but weep when yoursoul summons you to prayer, she shouldspur you again and yet again, thoughweeping, until you shall come laughing.When you pray you rise to meet in theair those who are praying at that very and whom save in prayer youmay not meet.Therefore let your visit to that templeinvisible be for naught but ecstasy andsweet communion.For if you should enter the temple forno other purpose than asking you shallnot receive:And if you should enter into it tohumble yourself you shall not be lifted:Or even if you should enter into it tobeg for the good of others you shall notbe heard.It is enough that you enter the templeinvisible.*****I cannot teach you how to pray in words.God listens not to your words save whenHe Himself utters them through yourlips.And I cannot teach you the prayer of theseas and the forests and the mountains. you who are born of themountains and the forests and the seascan find their prayer in your heart,And if you but listen in the stillnessof the night you shall hear them sayingin silence,“Our God, who art our winged self, it isthy will in us that willeth.It is thy desire in us that desireth.It is thy urge in us that would turn ournights, which are thine, into days whichare thine also.We cannot ask thee for aught, for thouknowest our needs before they are bornin us:Thou art our need; and in giving us moreof thyself thou givest us all.”[Illustration: 0100]***** ***** a hermit, who visited the cityonce a year, came forth and said, Speakto us of _Pleasure_.And he answered, saying:Pleasure is a freedom-song,But it is not freedom.It is the blossoming of your desires,But it is not their fruit.It is a depth calling unto a height,But it is not the deep nor the high.It is the caged taking wing,But it is not space encompassed.Ay, in very truth, pleasure is afreedom-song.And I fain would have you sing it withfullness of heart; yet I would not haveyou lose your hearts in the singing.Some of your youth seek pleasure as ifit were all, and they are judged andrebuked.  would not judge norrebuke them. I would have them seek.For they shall find pleasure, but nother alone;Seven are her sisters, and the least ofthem is more beautiful than pleasure.Have you not heard of the man who wasdigging in the earth for roots and founda treasure?*****And some of your elders rememberpleasures with regret like wrongscommitted in drunkenness.But regret is the beclouding of the mindand not its chastisement.They should remember their pleasureswith gratitude, as they would theharvest of a summer.Yet if it comforts them to regret, letthem be comforted.And there are among you those whoare neither young to seek nor old toremember;And in their fear of seeking andremembering  shun all pleasures,lest they neglect the spirit or offendagainst it.But even in their foregoing is theirpleasure.And thus they too find a treasure thoughthey dig for roots with quivering hands.But tell me, who is he that can offendthe spirit?Shall the nightingale offend thestillness of the night, or the fireflythe stars?And shall your flame or your smokeburden the wind?Think you the spirit is a still poolwhich you can trouble with a staff?*****Oftentimes in denying yourself pleasureyou do but store the desire in therecesses of your being.Who knows but that which seems omittedtoday, waits for tomorrow?Even your body knows its heritageand its rightful need and will not bedeceived.And your body is the harp of your soul,And it is yours to bring forth  from it or confused sounds.*****And now you ask in your heart, “Howshall we distinguish that which isgood in pleasure from that which is notgood?”Go to your fields and your gardens, andyou shall learn that it is the pleasureof the bee to gather honey of theflower,But it is also the pleasure of theflower to yield its honey to the bee.For to the bee a flower is a fountain oflife,And to the flower a bee is a messengerof love,And to both, bee and flower, the givingand the receiving of pleasure is a needand an ecstasy.People of Orphalese, be in yourpleasures like the flowers and the bees.***** ***** a poet said, Speak to us of_Beauty_.And he answered:Where shall you seek beauty, and howshall you find her unless she herself beyour way and your guide?And how shall you speak of her exceptshe be the weaver of your speech?The aggrieved and the injured say,“Beauty is kind and gentle.Like a young mother half-shy of her ownglory she walks among us.”And the passionate say, “Nay, beauty isa thing of might and dread.Like the tempest she shakes the earthbeneath us and the sky above us.”The tired and the weary say, “Beauty isof soft whisperings. She speaks in ourspirit.  voice yields to oursilences like a faint light that quiversin fear of the shadow.”But the restless say, “We have heard hershouting among the mountains,And with her cries came the sound ofhoofs, and the beating of wings and theroaring of lions.”At night the watchmen of the city say,“Beauty shall rise with the dawn fromthe east.”And at noontide the toilers and thewayfarers say, “We have seen her leaningover the earth from the windows of thesunset.”*****In winter say the snow-bound, “She shallcome with the spring leaping upon thehills.”And in the summer heat the reaperssay, “We have seen her dancing with theautumn leaves, and we saw a drift ofsnow in her hair.”  these thingshave you said of beauty,Yet in truth you spoke not of her but ofneeds unsatisfied,And beauty is not a need but an ecstasy.It is not a mouth thirsting nor an emptyhand stretched forth,But rather a heart enflamed and a soulenchanted.It is not the image you would see northe song you would hear,But rather an image you see though youclose your eyes and a song you hearthough you shut your ears.It is not the sap within the furrowedbark, nor a wing attached to a claw,But rather a garden for ever in bloomand a flock of angels for ever inflight.*****People of Orphalese, beauty is life whenlife unveils her holy face.But you are life and you are the veil. is eternity gazing at itselfin a mirror.But you are eternity and you are themirror.***** ***** an old priest said, Speak to usof _Religion_.And he said:Have I spoken this day of aught else?Is not religion all deeds and allreflection,And that which is neither deed norreflection, but a wonder and a surpriseever springing in the soul, even whilethe hands hew the stone or tend theloom?Who can separate his faith fromhis actions, or his belief from hisoccupations?Who can spread his hours before him,saving, “This for God and this formyself; This for my soul, and this otherfor my body?”All your hours are wings that beatthrough space from self to self.  wears his morality but as his bestgarment were better naked.The wind and the sun will tear no holesin his skin.And he who defines his conduct by ethicsimprisons his song-bird in a cage.The freest song comes not through barsand wires.And he to whom worshipping is a window,to open but also to shut, has not yetvisited the house of his soul whosewindows are from dawn to dawn.*****Your daily life is your temple and yourreligion.Whenever you enter into it take with youyour all.Take the plough and the forge and themallet and the lute,The things you have fashioned innecessity or for delight.For in revery you cannot rise above yourachievements nor fall lower than yourfailures.And take with you all men:  inadoration you cannot fly higher thantheir hopes nor humble yourself lowerthan their despair.*****And if you would know God be nottherefore a solver of riddles.Rather look about you and you shall seeHim playing with your children.And look into space; you shall see Himwalking in the cloud, outstretching Hisarms in the lightning and descending inrain.You shall see Him smiling in flowers,then rising and waving His hands intrees.***** ***** Almitra spoke, saying, We wouldask now of _Death_.And he said:You would know the secret of death.But how shall you find it unless youseek it in the heart of life?The owl whose night-bound eyes are blindunto the day cannot unveil the mysteryof light.If you would indeed behold the spiritof death, open your heart wide unto thebody of life.For life and death are one, even as theriver and the sea are one.In the depth of your hopes and desireslies your silent knowledge of thebeyond;And like seeds dreaming beneath the snowyour heart dreams of spring.Trust the dreams, for in them is hiddenthe gate to eternity.  fearof death is but the trembling of theshepherd when he stands before the kingwhose hand is to be laid upon him inhonour.Is the shepherd not joyful beneath histrembling, that he shall wear the markof the king?Yet is he not more mindful of histrembling?*****For what is it to die but to stand nakedin the wind and to melt into the sun?And what is it to cease breathing, butto free the breath from its restlesstides, that it may rise and expand andseek God unencumbered?Only when you drink from the river ofsilence shall you indeed sing.And when you have reached the mountaintop, then you shall begin to climb.And when the earth shall claim yourlimbs, then shall you truly dance. now it was evening.And Almitra the seeress said, Blessed bethis day and this place and your spiritthat has spoken.And he answered, Was it I who spoke? WasI not also a listener?*****Then he descended the steps of theTemple and all the people followed him.And he reached his ship and stood uponthe deck.And facing the people again, he raisedhis voice and said:People of Orphalese, the wind bids meleave you.Less hasty am I than the wind, yet Imust go.We wanderers, ever seeking the lonelierway, begin no day where we have endedanother day; and no sunrise finds uswhere sunset left us.  while theearth sleeps we travel.We are the seeds of the tenaciousplant, and it is in our ripeness and ourfullness of heart that we are given tothe wind and are scattered.*****Brief were my days among you, andbriefer still the words I have spoken.But should my voice fade in your ears,and my love vanish in your memory, thenI will come again,And with a richer heart and lips moreyielding to the spirit will I speak.Yea, I shall return with the tide,And though death may hide me, and thegreater silence enfold me, yet againwill I seek your understanding.And not in vain will I seek.If aught I have said is truth, thattruth shall reveal itself in a clearervoice, and in words more kin to yourthoughts.I go with the wind, people ofOrphalese, but not down into emptiness; if this day is not a fulfilmentof your needs and my love, then let itbe a promise till another day.Man’s needs change, but not his love,nor his desire that his love shouldsatisfy his needs.Know therefore, that from the greatersilence I shall return.The mist that drifts away at dawn,leaving but dew in the fields, shallrise and gather into a cloud and thenfall down in rain.And not unlike the mist have I been.In the stillness of the night I havewalked in your streets, and my spirithas entered your houses,And your heart-beats were in my heart,and your breath was upon my face, and Iknew you all.Ay, I knew your joy and your pain,and in your sleep your dreams were mydreams.And oftentimes I was among you a lakeamong the mountains.I mirrored the summits in you and the slopes, and even thepassing flocks of your thoughts and yourdesires.And to my silence came the laughterof your children in streams, and thelonging of your youths in rivers.And when they reached my depth thestreams and the rivers ceased not yet tosing.[Illustration: 0119]But sweeter still than laughter andgreater than longing came to me.It was the boundless in you;The vast man in whom you are all butcells and sinews;He in whose chant all your singing isbut a soundless throbbing.It is in the vast man that you are vast,And in beholding him that I beheld youand loved you.For what distances can love reach thatare not in that vast sphere?What visions, what expectations and whatpresumptions can outsoar that flight?Like a giant oak tree covered with appleblossoms is the vast man in you.  binds you to the earth, hisfragrance lifts you into space, and inhis durability you are deathless.*****You have been told that, even like achain, you are as weak as your weakestlink.This is but half the truth. You are alsoas strong as your strongest link.To measure you by your smallest deedis to reckon the power of ocean by thefrailty of its foam.To judge you by your failures is tocast blame upon the seasons for theirinconstancy.Ay, you are like an ocean,And though heavy-grounded ships awaitthe tide upon your shores, yet, evenlike an ocean, you cannot hasten yourtides.And like the seasons you are also,And though in your winter you deny yourspring,Yet spring, reposing within you, smilesin her drowsiness and is not offended. not I say these things inorder that you may say the one to theother, “He praised us well. He saw butthe good in us.”I only speak to you in words of thatwhich you yourselves know in thought.And what is word knowledge but a shadowof wordless knowledge?Your thoughts and my words are wavesfrom a sealed memory that keeps recordsof our yesterdays,And of the ancient days when the earthknew not us nor herself,And of nights when earth was up-wroughtwith confusion.*****Wise men have come to you to give youof their wisdom. I came to take of yourwisdom:And behold I have found that which isgreater than wisdom.It is a flame spirit in you evergathering more of itself,While you, heedless of its expansion,bewail the withering of your days. is life in quest of life inbodies that fear the grave.*****There are no graves here.These mountains and plains are a cradleand a stepping-stone.Whenever you pass by the field whereyou have laid your ancestors look wellthereupon, and you shall see yourselvesand your children dancing hand in hand.Verily you often make merry withoutknowing.Others have come to you to whom forgolden promises made unto your faithyou have given but riches and power andglory.Less than a promise have I given, andyet more generous have you been to me.You have given me my deeper thirstingafter life.Surely there is no greater gift to a manthan that which turns all his aimsinto parching lips and all life into afountain.[Illustration: 0125] in this lies my honour and myreward,--That whenever I come to the fountainto drink I find the living water itselfthirsty;And it drinks me while I drink it.*****Some of you have deemed me proud andover-shy to receive gifts.Too proud indeed am I to receive wages,but not gifts.And though I have eaten berries amongthe hills when you would have had me sitat your board,And slept in the portico of the templewhen you would gladly have sheltered me,Yet was it not your loving mindfulnessof my days and my nights that made foodsweet to my mouth and girdled my sleepwith visions?For this I bless you most:You give much and know not that you giveat all.  the kindness thatgazes upon itself in a mirror turns tostone,And a good deed that calls itself bytender names becomes the parent to acurse.*****And some of you have called me aloof,and drunk with my own aloneness,And you have said, “He holds councilwith the trees of the forest, but notwith men.He sits alone on hill-tops and looksdown upon our city.”True it is that I have climbed the hillsand walked in remote places.How could I have seen you save from agreat height or a great distance?How can one be indeed near unless he betar?And others among you called unto me, notin words, and they said,“Stranger, stranger, lover ofunreachable heights, why dwell you amongthe summits where eagles buildtheir nests?  seek you theunattainable?What storms would you trap in your net,And what vaporous birds do you hunt inthe sky?Come and be one of us.Descend and appease your hunger with ourbread and quench your thirst with ourwine.”In the solitude of their souls they saidthese things;But were their solitude deeper theywould have known that I sought but thesecret of your joy and your pain,And I hunted only your larger selvesthat walk the sky.*****But the hunter was also the hunted;For many of my arrows left my bow onlyto seek my own breast.And the flier was also the creeper;For when my wings were spread in thesun their shadow upon the earth was aturtle.And I the believer was also the doubter; often have I put my fingerin my own wound that I might have thegreater belief in you and the greaterknowledge of you.*****And it is with this belief and thisknowledge that I say,You are not enclosed within your bodies,nor confined to houses or fields.That which is you dwells above themountain and roves with the wind.It is not a thing that crawls intothe sun for warmth or digs holes intodarkness for safety,But a thing free, a spirit that envelopsthe earth and moves in the ether.If these be vague words, then seek notto clear them.Vague and nebulous is the beginning ofall things, but not their end,And I fain would have you remember me asa beginning.Life, and all that lives, is conceivedin the mist and not in the crystal. who knows but a crystal is mistin decay?*****This would I have you remember inremembering me:That which seems most feeble andbewildered in you is the strongest andmost determined.Is it not your breath that has erectedand hardened the structure of yourbones?And is it not a dream which none of youremember having dreamt, that buildedyour city and fashioned all there is init?Could you but see the tides of thatbreath you would cease to see all else,And if you could hear the whispering ofthe dream you would hear no other sound.But you do not see, nor do you hear, andit is well.The veil that clouds your eyes shall belifted by the hands that wove it,And the clay that fills your ears shallbe pierced by those fingers that kneadedit.  you shall see.And you shall hear.Yet you shall not deplore having knownblindness, nor regret having been deaf.For in that day you shall know thehidden purposes in all things,And you shall bless darkness as youwould bless light.After saying these things he lookedabout him, and he saw the pilot of hisship standing by the helm and gazingnow at the full sails and now at thedistance.And he said:Patient, over patient, is the captain ofmy ship.The wind blows, and restless are thesails;Even the rudder begs direction;Yet quietly my captain awaits mysilence.And these my mariners, who have heardthe choir of the greater sea, they toohave heard me patiently.  theyshall wait no longer.I am ready.The stream has reached the sea, andonce more the great mother holds her sonagainst her breast.*****Fare you well, people of Orphalese.This day has ended.It is closing upon us even as thewater-lily upon its own tomorrow.What was given us here we shall keep,And if it suffices not, then again mustwe come together and together stretchour hands unto the giver.Forget not that I shall come back toyou.A little while, and my longing shallgather dust and foam for another body.A little while, a moment of rest uponthe wind, and another woman shall bearme.Farewell to you and the youth I havespent with you.It was but yesterday we met in adream.  have sung to me in myaloneness, and I of your longings havebuilt a tower in the sky.But now our sleep has fled and our dreamis over, and it is no longer dawn.The noontide is upon us and our halfwaking has turned to fuller day, and wemust part.If in the twilight of memory we shouldmeet once more, we shall speak againtogether and you shall sing to me adeeper song.And if our hands should meet in anotherdream we shall build another tower inthe sky.*****So saying he made a signal to theseamen, and straightway they weighedanchor and cast the ship loose from itsmoorings, and they moved eastward.And a cry came from the people as from asingle heart, and it rose into the duskand was carried out over the sea like agreat trumpeting.Only Almitra was silent, gazing after ship until it had vanished intothe mist.And when all the people were dispersedshe still stood alone upon the sea-wall,remembering in her heart his saying,“A little while, a moment of rest uponthe wind, and another woman shall bearme.”[Illustration: 0134]End of the Project Gutenberg EBook of The Prophet, by Kahlil Gibran*** END OF THIS PROJECT GUTENBERG EBOOK THE PROPHET ******** This file should be named 58585-0.txt or 58585-0.zip *****This and all associated files of various formats will be found in:        http://www.gutenberg.org/5/8/5/8/58585/Produced by David Widger from page images generouslyprovided by the Internet ArchiveUpdated editions will replace the previous one--the old editions willbe renamed.Creating the works from print editions not protected by U.S. copyrightlaw means that no one owns a United States copyright in these works,so the Foundation (and you!) can copy and distribute it in the UnitedStates without permission and without paying copyrightroyalties. Special rules, set forth in the General Terms of Use partof this license, apply to copying and distributing ProjectGutenberg-tm electronic works to protect the PROJECT GUTENBERG-tmconcept and trademark. Project Gutenberg is a registered trademark,and may not be used if you charge for the eBooks, unless you receivespecific permission. If you do not charge anything for copies of thiseBook, complying with the rules is very easy. You may use this eBookfor nearly any purpose such as creation of derivative works, reports,performances and research. They may be modified and printed and givenaway--you may do practically ANYTHING in the United States with eBooksnot protected by U.S. copyright law. Redistribution is subject to thetrademark license, especially commercial redistribution.START: FULL LICENSETHE FULL PROJECT GUTENBERG LICENSEPLEASE READ THIS BEFORE YOU DISTRIBUTE OR USE THIS WORKTo protect the Project Gutenberg-tm mission of promoting the freedistribution of electronic works, by using or distributing this work(or any other work associated in any way with the phrase \"ProjectGutenberg\"), you agree to comply with all the terms of the FullProject Gutenberg-tm License available with this file or online atwww.gutenberg.org/license.Section 1. General Terms of Use and Redistributing ProjectGutenberg-tm electronic works1.A. By reading or using any part of this Project Gutenberg-tmelectronic work, you indicate that you have read, understand, agree toand accept all the terms of this license and intellectual property(trademark/copyright) agreement. If you do not agree to abide by allthe terms of this agreement, you must cease using and return ordestroy all copies of Project Gutenberg-tm electronic works in yourpossession. If you paid a fee for obtaining a copy of or access to aProject Gutenberg-tm electronic work and you do not agree to be boundby the terms of this agreement, you may obtain a refund from theperson or entity to whom you paid the fee as set forth in paragraph1.E.8.1.B. \"Project Gutenberg\" is a registered trademark. It may only beused on or associated in any way with an electronic work by people whoagree to be bound by the terms of this agreement. There are a fewthings that you can do with most Project Gutenberg-tm electronic workseven without complying with the full terms of this agreement. Seeparagraph 1.C below. There are a lot of things you can do with ProjectGutenberg-tm electronic works if you follow the terms of thisagreement and help preserve free future access to Project Gutenberg-tmelectronic works. See paragraph 1.E below.1.C. The Project Gutenberg Literary Archive Foundation (\"theFoundation\" or PGLAF), owns a compilation copyright in the collectionof Project Gutenberg-tm electronic works. Nearly all the individualworks in the collection are in the public domain in the UnitedStates. If an individual work is unprotected by copyright law in theUnited States and you are located in the United States, we do notclaim a right to prevent you from copying, distributing, performing,displaying or creating derivative works based on the work as long asall references to Project Gutenberg are removed. Of course, we hopethat you will support the Project Gutenberg-tm mission of promotingfree access to electronic works by freely sharing Project Gutenberg-tmworks in compliance with the terms of this agreement for keeping theProject Gutenberg-tm name associated with the work. You can easilycomply with the terms of this agreement by keeping this work in thesame format with its attached full Project Gutenberg-tm License whenyou share it without charge with others.1.D. The copyright laws of the place where you are located also governwhat you can do with this work. Copyright laws in most countries arein a constant state of change. If you are outside the United States,check the laws of your country in addition to the terms of thisagreement before downloading, copying, displaying, performing,distributing or creating derivative works based on this work or anyother Project Gutenberg-tm work. The Foundation makes norepresentations concerning the copyright status of any work in anycountry outside the United States.1.E. Unless you have removed all references to Project Gutenberg:1.E.1. The following sentence, with active links to, or otherimmediate access to, the full Project Gutenberg-tm License must appearprominently whenever any copy of a Project Gutenberg-tm work (any workon which the phrase \"Project Gutenberg\" appears, or with which thephrase \"Project Gutenberg\" is associated) is accessed, displayed,performed, viewed, copied or distributed:  This eBook is for the use of anyone anywhere in the United States and  most other parts of the world at no cost and with almost no  restrictions whatsoever. You may copy it, give it away or re-use it  under the terms of the Project Gutenberg License included with this  eBook or online at www.gutenberg.org. If you are not located in the  United States, you'll have to check the laws of the country where you  are located before using this ebook.1.E.2. If an individual Project Gutenberg-tm electronic work isderived from texts not protected by U.S. copyright law (does notcontain a notice indicating that it is posted with permission of thecopyright holder), the work can be copied and distributed to anyone inthe United States without paying any fees or charges. If you areredistributing or providing access to a work with the phrase \"ProjectGutenberg\" associated with or appearing on the work, you must complyeither with the requirements of paragraphs 1.E.1 through 1.E.7 orobtain permission for the use of the work and the Project Gutenberg-tmtrademark as set forth in paragraphs 1.E.8 or 1.E.9.1.E.3. If an individual Project Gutenberg-tm electronic work is postedwith the permission of the copyright holder, your use and distributionmust comply with both paragraphs 1.E.1 through 1.E.7 and anyadditional terms imposed by the copyright holder. Additional termswill be linked to the Project Gutenberg-tm License for all worksposted with the permission of the copyright holder found at thebeginning of this work.1.E.4. Do not unlink or detach or remove the full Project Gutenberg-tmLicense terms from this work, or any files containing a part of thiswork or any other work associated with Project Gutenberg-tm.1.E.5. Do not copy, display, perform, distribute or redistribute thiselectronic work, or any part of this electronic work, withoutprominently displaying the sentence set forth in paragraph 1.E.1 withactive links or immediate access to the full terms of the ProjectGutenberg-tm License.1.E.6. You may convert to and distribute this work in any binary,compressed, marked up, nonproprietary or proprietary form, includingany word processing or hypertext form. However, if you provide accessto or distribute copies of a Project Gutenberg-tm work in a formatother than \"Plain Vanilla ASCII\" or other format used in the officialversion posted on the official Project Gutenberg-tm web site(www.gutenberg.org), you must, at no additional cost, fee or expenseto the user, provide a copy, a means of exporting a copy, or a meansof obtaining a copy upon request, of the work in its original \"PlainVanilla ASCII\" or other form. Any alternate format must include thefull Project Gutenberg-tm License as specified in paragraph 1.E.1.1.E.7. Do not charge a fee for access to, viewing, displaying,performing, copying or distributing any Project Gutenberg-tm worksunless you comply with paragraph 1.E.8 or 1.E.9.1.E.8. You may charge a reasonable fee for copies of or providingaccess to or distributing Project Gutenberg-tm electronic worksprovided that* You pay a royalty fee of 20% of the gross profits you derive from  the use of Project Gutenberg-tm works calculated using the method  you already use to calculate your applicable taxes. The fee is owed  to the owner of the Project Gutenberg-tm trademark, but he has  agreed to donate royalties under this paragraph to the Project  Gutenberg Literary Archive Foundation. Royalty payments must be paid  within 60 days following each date on which you prepare (or are  legally required to prepare) your periodic tax returns. Royalty  payments should be clearly marked as such and sent to the Project  Gutenberg Literary Archive Foundation at the address specified in  Section 4, \"Information about donations to the Project Gutenberg  Literary Archive Foundation.\"* You provide a full refund of any money paid by a user who notifies  you in writing (or by e-mail) within 30 days of receipt that s/he  does not agree to the terms of the full Project Gutenberg-tm  License. You must require such a user to return or destroy all  copies of the works possessed in a physical medium and discontinue  all use of and all access to other copies of Project Gutenberg-tm  works.* You provide, in accordance with paragraph 1.F.3, a full refund of  any money paid for a work or a replacement copy, if a defect in the  electronic work is discovered and reported to you within 90 days of  receipt of the work.* You comply with all other terms of this agreement for free  distribution of Project Gutenberg-tm works.1.E.9. If you wish to charge a fee or distribute a ProjectGutenberg-tm electronic work or group of works on different terms thanare set forth in this agreement, you must obtain permission in writingfrom both the Project Gutenberg Literary Archive Foundation and TheProject Gutenberg Trademark LLC, the owner of the Project Gutenberg-tmtrademark. Contact the Foundation as set forth in Section 3 below.1.F.1.F.1. Project Gutenberg volunteers and employees expend considerableeffort to identify, do copyright research on, transcribe and proofreadworks not protected by U.S. copyright law in creating the ProjectGutenberg-tm collection. Despite these efforts, Project Gutenberg-tmelectronic works, and the medium on which they may be stored, maycontain \"Defects,\" such as, but not limited to, incomplete, inaccurateor corrupt data, transcription errors, a copyright or otherintellectual property infringement, a defective or damaged disk orother medium, a computer virus, or computer codes that damage orcannot be read by your equipment.1.F.2. LIMITED WARRANTY, DISCLAIMER OF DAMAGES - Except for the \"Rightof Replacement or Refund\" described in paragraph 1.F.3, the ProjectGutenberg Literary Archive Foundation, the owner of the ProjectGutenberg-tm trademark, and any other party distributing a ProjectGutenberg-tm electronic work under this agreement, disclaim allliability to you for damages, costs and expenses, including legalfees. YOU AGREE THAT YOU HAVE NO REMEDIES FOR NEGLIGENCE, STRICTLIABILITY, BREACH OF WARRANTY OR BREACH OF CONTRACT EXCEPT THOSEPROVIDED IN PARAGRAPH 1.F.3. YOU AGREE THAT THE FOUNDATION, THETRADEMARK OWNER, AND ANY DISTRIBUTOR UNDER THIS AGREEMENT WILL NOT BELIABLE TO YOU FOR ACTUAL, DIRECT, INDIRECT, CONSEQUENTIAL, PUNITIVE ORINCIDENTAL DAMAGES EVEN IF YOU GIVE NOTICE OF THE POSSIBILITY OF SUCHDAMAGE.1.F.3. LIMITED RIGHT OF REPLACEMENT OR REFUND - If you discover adefect in this electronic work within 90 days of receiving it, you canreceive a refund of the money (if any) you paid for it by sending awritten explanation to the person you received the work from. If youreceived the work on a physical medium, you must return the mediumwith your written explanation. The person or entity that provided youwith the defective work may elect to provide a replacement copy inlieu of a refund. If you received the work electronically, the personor entity providing it to you may choose to give you a secondopportunity to receive the work electronically in lieu of a refund. Ifthe second copy is also defective, you may demand a refund in writingwithout further opportunities to fix the problem.1.F.4. Except for the limited right of replacement or refund set forthin paragraph 1.F.3, this work is provided to you 'AS-IS', WITH NOOTHER WARRANTIES OF ANY KIND, EXPRESS OR IMPLIED, INCLUDING BUT NOTLIMITED TO WARRANTIES OF MERCHANTABILITY OR FITNESS FOR ANY PURPOSE.1.F.5. Some states do not allow disclaimers of certain impliedwarranties or the exclusion or limitation of certain types ofdamages. If any disclaimer or limitation set forth in this agreementviolates the law of the state applicable to this agreement, theagreement shall be interpreted to make the maximum disclaimer orlimitation permitted by the applicable state law. The invalidity orunenforceability of any provision of this agreement shall not void theremaining provisions.1.F.6. INDEMNITY - You agree to indemnify and hold the Foundation, thetrademark owner, any agent or employee of the Foundation, anyoneproviding copies of Project Gutenberg-tm electronic works inaccordance with this agreement, and any volunteers associated with theproduction, promotion and distribution of Project Gutenberg-tmelectronic works, harmless from all liability, costs and expenses,including legal fees, that arise directly or indirectly from any ofthe following which you do or cause to occur: (a) distribution of thisor any Project Gutenberg-tm work, (b) alteration, modification, oradditions or deletions to any Project Gutenberg-tm work, and (c) anyDefect you cause.Section 2. Information about the Mission of Project Gutenberg-tmProject Gutenberg-tm is synonymous with the free distribution ofelectronic works in formats readable by the widest variety ofcomputers including obsolete, old, middle-aged and new computers. Itexists because of the efforts of hundreds of volunteers and donationsfrom people in all walks of life.Volunteers and financial support to provide volunteers with theassistance they need are critical to reaching Project Gutenberg-tm'sgoals and ensuring that the Project Gutenberg-tm collection willremain freely available for generations to come. In 2001, the ProjectGutenberg Literary Archive Foundation was created to provide a secureand permanent future for Project Gutenberg-tm and futuregenerations. To learn more about the Project Gutenberg LiteraryArchive Foundation and how your efforts and donations can help, seeSections 3 and 4 and the Foundation information page atwww.gutenberg.org Section 3. Information about the Project GutenbergLiterary Archive FoundationThe Project Gutenberg Literary Archive Foundation is a non profit501(c)(3) educational corporation organized under the laws of thestate of Mississippi and granted tax exempt status by the InternalRevenue Service. The Foundation's EIN or federal tax identificationnumber is 64-6221541. Contributions to the Project Gutenberg LiteraryArchive Foundation are tax deductible to the full extent permitted byU.S. federal laws and your state's laws.The Foundation's principal office is in Fairbanks, Alaska, with themailing address: PO Box 750175, Fairbanks, AK 99775, but itsvolunteers and employees are scattered throughout numerouslocations. Its business office is located at 809 North 1500 West, SaltLake City, UT 84116, (801) 596-1887. Email contact links and up todate contact information can be found at the Foundation's web site andofficial page at www.gutenberg.org/contactFor additional contact information:    Dr. Gregory B. Newby    Chief Executive and Director    gbnewby@pglaf.orgSection 4. Information about Donations to the Project GutenbergLiterary Archive FoundationProject Gutenberg-tm depends upon and cannot survive without widespread public support and donations to carry out its mission ofincreasing the number of public domain and licensed works that can befreely distributed in machine readable form accessible by the widestarray of equipment including outdated equipment. Many small donations($1 to $5,000) are particularly important to maintaining tax exemptstatus with the IRS.The Foundation is committed to complying with the laws regulatingcharities and charitable donations in all 50 states of the UnitedStates. Compliance requirements are not uniform and it takes aconsiderable effort, much paperwork and many fees to meet and keep upwith these requirements. We do not solicit donations in locationswhere we have not received written confirmation of compliance. To SENDDONATIONS or determine the status of compliance for any particularstate visit www.gutenberg.org/donateWhile we cannot and do not solicit contributions from states where wehave not met the solicitation requirements, we know of no prohibitionagainst accepting unsolicited donations from donors in such states whoapproach us with offers to donate.International donations are gratefully accepted, but we cannot makeany statements concerning tax treatment of donations received fromoutside the United States. U.S. laws alone swamp our small staff.Please check the Project Gutenberg Web pages for current donationmethods and addresses. Donations are accepted in a number of otherways including checks, online payments and credit card donations. Todonate, please visit: www.gutenberg.org/donateSection 5. General Information About Project Gutenberg-tm electronic works.Professor Michael S. Hart was the originator of the ProjectGutenberg-tm concept of a library of electronic works that could befreely shared with anyone. For forty years, he produced anddistributed Project Gutenberg-tm eBooks with only a loose network ofvolunteer support.Project Gutenberg-tm eBooks are often created from several printededitions, all of which are confirmed as not protected by copyright inthe U.S. unless a copyright notice is included. Thus, we do notnecessarily keep eBooks in compliance with any particular paperedition.Most people start at our Web site which has the main PG searchfacility: www.gutenberg.orgThis Web site includes information about Project Gutenberg-tm,including how to make donations to the Project Gutenberg LiteraryArchive Foundation, how to help produce our new eBooks, and how tosubscribe to our email newsletter to hear about new eBooks.\n"
     ]
    }
   ],
   "source": [
    "# Your code here:\n",
    "\n",
    "prophet_string= reduce (concat_space,QW,\"\")\n",
    "print(prophet_string)"
   ]
  },
  {
   "cell_type": "markdown",
   "metadata": {},
   "source": [
    "# Challenge 4 - Applying Functions to DataFrames\n",
    "\n",
    "#### Our next step is to use the apply function to a dataframe and transform all cells.\n",
    "\n",
    "To do this, we will load a dataset below and then write a function that will perform the transformation."
   ]
  },
  {
   "cell_type": "code",
   "execution_count": 100,
   "metadata": {},
   "outputs": [],
   "source": [
    "# Run this code:\n",
    "\n",
    "# The dataset below contains information about pollution from PM2.5 particles in Beijing \n",
    "\n",
    "url = \"https://archive.ics.uci.edu/ml/machine-learning-databases/00381/PRSA_data_2010.1.1-2014.12.31.csv\"\n",
    "pm25 = pd.read_csv(url)"
   ]
  },
  {
   "cell_type": "markdown",
   "metadata": {},
   "source": [
    "Let's look at the data using the `head()` function."
   ]
  },
  {
   "cell_type": "code",
   "execution_count": 101,
   "metadata": {},
   "outputs": [
    {
     "data": {
      "text/html": [
       "<div>\n",
       "<style scoped>\n",
       "    .dataframe tbody tr th:only-of-type {\n",
       "        vertical-align: middle;\n",
       "    }\n",
       "\n",
       "    .dataframe tbody tr th {\n",
       "        vertical-align: top;\n",
       "    }\n",
       "\n",
       "    .dataframe thead th {\n",
       "        text-align: right;\n",
       "    }\n",
       "</style>\n",
       "<table border=\"1\" class=\"dataframe\">\n",
       "  <thead>\n",
       "    <tr style=\"text-align: right;\">\n",
       "      <th></th>\n",
       "      <th>No</th>\n",
       "      <th>year</th>\n",
       "      <th>month</th>\n",
       "      <th>day</th>\n",
       "      <th>hour</th>\n",
       "      <th>pm2.5</th>\n",
       "      <th>DEWP</th>\n",
       "      <th>TEMP</th>\n",
       "      <th>PRES</th>\n",
       "      <th>cbwd</th>\n",
       "      <th>Iws</th>\n",
       "      <th>Is</th>\n",
       "      <th>Ir</th>\n",
       "    </tr>\n",
       "  </thead>\n",
       "  <tbody>\n",
       "    <tr>\n",
       "      <th>0</th>\n",
       "      <td>1</td>\n",
       "      <td>2010</td>\n",
       "      <td>1</td>\n",
       "      <td>1</td>\n",
       "      <td>0</td>\n",
       "      <td>NaN</td>\n",
       "      <td>-21</td>\n",
       "      <td>-11.0</td>\n",
       "      <td>1021.0</td>\n",
       "      <td>NW</td>\n",
       "      <td>1.79</td>\n",
       "      <td>0</td>\n",
       "      <td>0</td>\n",
       "    </tr>\n",
       "    <tr>\n",
       "      <th>1</th>\n",
       "      <td>2</td>\n",
       "      <td>2010</td>\n",
       "      <td>1</td>\n",
       "      <td>1</td>\n",
       "      <td>1</td>\n",
       "      <td>NaN</td>\n",
       "      <td>-21</td>\n",
       "      <td>-12.0</td>\n",
       "      <td>1020.0</td>\n",
       "      <td>NW</td>\n",
       "      <td>4.92</td>\n",
       "      <td>0</td>\n",
       "      <td>0</td>\n",
       "    </tr>\n",
       "    <tr>\n",
       "      <th>2</th>\n",
       "      <td>3</td>\n",
       "      <td>2010</td>\n",
       "      <td>1</td>\n",
       "      <td>1</td>\n",
       "      <td>2</td>\n",
       "      <td>NaN</td>\n",
       "      <td>-21</td>\n",
       "      <td>-11.0</td>\n",
       "      <td>1019.0</td>\n",
       "      <td>NW</td>\n",
       "      <td>6.71</td>\n",
       "      <td>0</td>\n",
       "      <td>0</td>\n",
       "    </tr>\n",
       "    <tr>\n",
       "      <th>3</th>\n",
       "      <td>4</td>\n",
       "      <td>2010</td>\n",
       "      <td>1</td>\n",
       "      <td>1</td>\n",
       "      <td>3</td>\n",
       "      <td>NaN</td>\n",
       "      <td>-21</td>\n",
       "      <td>-14.0</td>\n",
       "      <td>1019.0</td>\n",
       "      <td>NW</td>\n",
       "      <td>9.84</td>\n",
       "      <td>0</td>\n",
       "      <td>0</td>\n",
       "    </tr>\n",
       "    <tr>\n",
       "      <th>4</th>\n",
       "      <td>5</td>\n",
       "      <td>2010</td>\n",
       "      <td>1</td>\n",
       "      <td>1</td>\n",
       "      <td>4</td>\n",
       "      <td>NaN</td>\n",
       "      <td>-20</td>\n",
       "      <td>-12.0</td>\n",
       "      <td>1018.0</td>\n",
       "      <td>NW</td>\n",
       "      <td>12.97</td>\n",
       "      <td>0</td>\n",
       "      <td>0</td>\n",
       "    </tr>\n",
       "  </tbody>\n",
       "</table>\n",
       "</div>"
      ],
      "text/plain": [
       "   No  year  month  day  hour  pm2.5  DEWP  TEMP    PRES cbwd    Iws  Is  Ir\n",
       "0   1  2010      1    1     0    NaN   -21 -11.0  1021.0   NW   1.79   0   0\n",
       "1   2  2010      1    1     1    NaN   -21 -12.0  1020.0   NW   4.92   0   0\n",
       "2   3  2010      1    1     2    NaN   -21 -11.0  1019.0   NW   6.71   0   0\n",
       "3   4  2010      1    1     3    NaN   -21 -14.0  1019.0   NW   9.84   0   0\n",
       "4   5  2010      1    1     4    NaN   -20 -12.0  1018.0   NW  12.97   0   0"
      ]
     },
     "execution_count": 101,
     "metadata": {},
     "output_type": "execute_result"
    }
   ],
   "source": [
    "# Your code here:\n",
    "\n",
    "pm25.head()\n"
   ]
  },
  {
   "cell_type": "markdown",
   "metadata": {},
   "source": [
    "The next step is to create a function that divides a cell by 24 to produce an hourly figure. Write the function below."
   ]
  },
  {
   "cell_type": "code",
   "execution_count": 68,
   "metadata": {},
   "outputs": [],
   "source": [
    "def hourly(x):\n",
    "    '''\n",
    "    Input: A numerical value\n",
    "    Output: The value divided by 24\n",
    "        \n",
    "    Example:\n",
    "    Input: 48\n",
    "    Output: 2.0\n",
    "    '''\n",
    "    return x/24\n",
    "\n",
    "    \n",
    "    # Your code here:\n",
    "    "
   ]
  },
  {
   "cell_type": "markdown",
   "metadata": {},
   "source": [
    "Apply this function to the columns `Iws`, `Is`, and `Ir`. Store this new dataframe in the variable `pm25_hourly`."
   ]
  },
  {
   "cell_type": "code",
   "execution_count": 121,
   "metadata": {},
   "outputs": [],
   "source": [
    "# Your code here:\n",
    "\n",
    "pm25[\"Iws\"]= hourly (pm25[\"Iws\"])\n",
    "pm25[\"Is\"]= hourly (pm25[\"Is\"])\n",
    "pm25[\"Ir\"]= hourly (pm25[\"Ir\"])\n",
    "pm25_hourly=pm25"
   ]
  },
  {
   "cell_type": "markdown",
   "metadata": {},
   "source": [
    "#### Our last challenge will be to create an aggregate function and apply it to a select group of columns in our dataframe.\n",
    "\n",
    "Write a function that returns the standard deviation of a column divided by the length of a column minus 1. Since we are using pandas, do not use the `len()` function. One alternative is to use `count()`. Also, use the numpy version of standard deviation."
   ]
  },
  {
   "cell_type": "code",
   "execution_count": 167,
   "metadata": {},
   "outputs": [
    {
     "data": {
      "text/plain": [
       "0.37267799624996495"
      ]
     },
     "execution_count": 167,
     "metadata": {},
     "output_type": "execute_result"
    }
   ],
   "source": [
    "def sample_sd(x):\n",
    "    '''\n",
    "    Input: A Pandas series of values\n",
    "    Output: the standard deviation divided by the number of elements in the series\n",
    "        \n",
    "    Example:\n",
    "    Input: pd.Series([1,2,3,4])\n",
    "    Output: 0.3726779962\n",
    "    '''\n",
    "    return (np.std(x)/((x.count())-1))\n",
    "    # Your code here:\n",
    "    \n",
    "sample_sd(pd.Series([1,2,3,4]))"
   ]
  },
  {
   "cell_type": "code",
   "execution_count": null,
   "metadata": {},
   "outputs": [],
   "source": []
  },
  {
   "cell_type": "code",
   "execution_count": null,
   "metadata": {},
   "outputs": [],
   "source": []
  },
  {
   "cell_type": "code",
   "execution_count": null,
   "metadata": {},
   "outputs": [],
   "source": []
  }
 ],
 "metadata": {
  "kernelspec": {
   "display_name": "Python 3",
   "language": "python",
   "name": "python3"
  },
  "language_info": {
   "codemirror_mode": {
    "name": "ipython",
    "version": 3
   },
   "file_extension": ".py",
   "mimetype": "text/x-python",
   "name": "python",
   "nbconvert_exporter": "python",
   "pygments_lexer": "ipython3",
   "version": "3.8.2"
  }
 },
 "nbformat": 4,
 "nbformat_minor": 2
}
