{
 "cells": [
  {
   "cell_type": "markdown",
   "metadata": {},
   "source": [
    "# Web Scraping Lab\n",
    "\n",
    "You will find in this notebook some scrapy exercises to practise your scraping skills.\n",
    "\n",
    "**Tips:**\n",
    "\n",
    "- Check the response status code for each request to ensure you have obtained the intended contennt.\n",
    "- Print the response text in each request to understand the kind of info you are getting and its format.\n",
    "- Check for patterns in the response text to extract the data/info requested in each question.\n",
    "- Visit each url and take a look at its source through Chrome DevTools. You'll need to identify the html tags, special class names etc. used for the html content you are expected to extract."
   ]
  },
  {
   "cell_type": "markdown",
   "metadata": {},
   "source": [
    "- [Requests library](http://docs.python-requests.org/en/master/#the-user-guide) documentation \n",
    "- [Beautiful Soup Doc](https://www.crummy.com/software/BeautifulSoup/bs4/doc/)\n",
    "- [Urllib](https://docs.python.org/3/library/urllib.html#module-urllib)\n",
    "- [re lib](https://docs.python.org/3/library/re.html)\n",
    "- [lxml lib](https://lxml.de/)\n",
    "- [Scrapy](https://scrapy.org/)\n",
    "- [List of HTTP status codes](https://en.wikipedia.org/wiki/List_of_HTTP_status_codes)\n",
    "- [HTML basics](http://www.simplehtmlguide.com/cheatsheet.php)\n",
    "- [CSS basics](https://www.cssbasics.com/#page_start)"
   ]
  },
  {
   "cell_type": "markdown",
   "metadata": {},
   "source": [
    "#### Below are the libraries and modules you may need. `requests`,  `BeautifulSoup` and `pandas` are imported for you. If you prefer to use additional libraries feel free to uncomment them."
   ]
  },
  {
   "cell_type": "code",
   "execution_count": 237,
   "metadata": {},
   "outputs": [],
   "source": [
    "import requests\n",
    "from bs4 import BeautifulSoup\n",
    "import pandas as pd\n",
    "import json\n",
    "# from pprint import pprint\n",
    "# from lxml import html\n",
    "# from lxml.html import fromstring\n",
    "# import urllib.request\n",
    "# from urllib.request import urlopen\n",
    "# import random\n",
    "import re\n",
    "# import scrapy"
   ]
  },
  {
   "cell_type": "markdown",
   "metadata": {},
   "source": [
    "#### Download, parse (using BeautifulSoup), and print the content from the Trending Developers page from GitHub:"
   ]
  },
  {
   "cell_type": "code",
   "execution_count": 3,
   "metadata": {},
   "outputs": [],
   "source": [
    "# This is the url you will scrape in this exercise\n",
    "url = 'https://github.com/trending/developers'"
   ]
  },
  {
   "cell_type": "code",
   "execution_count": 95,
   "metadata": {},
   "outputs": [],
   "source": [
    "#your code\n",
    "html = requests.get(url).text\n",
    "soup = BeautifulSoup(html)"
   ]
  },
  {
   "cell_type": "code",
   "execution_count": 114,
   "metadata": {},
   "outputs": [],
   "source": [
    "name = soup.select(\".col-md-6\")"
   ]
  },
  {
   "cell_type": "code",
   "execution_count": 86,
   "metadata": {},
   "outputs": [],
   "source": [
    "def pidonombre(x):\n",
    "    return name[x].select(\"a\")[0].text.strip()"
   ]
  },
  {
   "cell_type": "markdown",
   "metadata": {},
   "source": [
    "#### Display the names of the trending developers retrieved in the previous step.\n",
    "\n",
    "Your output should be a Python list of developer names. Each name should not contain any html tag.\n",
    "\n",
    "**Instructions:**\n",
    "\n",
    "1. Find out the html tag and class names used for the developer names. You can achieve this using Chrome DevTools.\n",
    "\n",
    "1. Use BeautifulSoup to extract all the html elements that contain the developer names.\n",
    "\n",
    "1. Use string manipulation techniques to replace whitespaces and linebreaks (i.e. `\\n`) in the *text* of each html element. Use a list to store the clean names.\n",
    "\n",
    "1. Print the list of names.\n",
    "\n",
    "Your output should look like below:\n",
    "\n",
    "```\n",
    "['trimstray (@trimstray)',\n",
    " 'joewalnes (JoeWalnes)',\n",
    " 'charlax (Charles-AxelDein)',\n",
    " 'ForrestKnight (ForrestKnight)',\n",
    " 'revery-ui (revery-ui)',\n",
    " 'alibaba (Alibaba)',\n",
    " 'Microsoft (Microsoft)',\n",
    " 'github (GitHub)',\n",
    " 'facebook (Facebook)',\n",
    " 'boazsegev (Bo)',\n",
    " 'google (Google)',\n",
    " 'cloudfetch',\n",
    " 'sindresorhus (SindreSorhus)',\n",
    " 'tensorflow',\n",
    " 'apache (TheApacheSoftwareFoundation)',\n",
    " 'DevonCrawford (DevonCrawford)',\n",
    " 'ARMmbed (ArmMbed)',\n",
    " 'vuejs (vuejs)',\n",
    " 'fastai (fast.ai)',\n",
    " 'QiShaoXuan (Qi)',\n",
    " 'joelparkerhenderson (JoelParkerHenderson)',\n",
    " 'torvalds (LinusTorvalds)',\n",
    " 'CyC2018',\n",
    " 'komeiji-satori (神楽坂覚々)',\n",
    " 'script-8']\n",
    " ```"
   ]
  },
  {
   "cell_type": "code",
   "execution_count": 115,
   "metadata": {},
   "outputs": [
    {
     "data": {
      "text/plain": [
       "['Gleb Bahmutov',\n",
       " 'Han Xiao',\n",
       " 'Ariel Mashraki',\n",
       " 'Oleksandr Fediashov',\n",
       " 'Michael Waskom',\n",
       " 'Artem Zakharchenko',\n",
       " 'Niels Lohmann',\n",
       " 'Andrey Okonetchnikov',\n",
       " 'Christian Clauss',\n",
       " 'Chris Long',\n",
       " 'Kévin Dunglas',\n",
       " 'Carlos Cuesta',\n",
       " 'Florimond Manca',\n",
       " 'Gavin Wood',\n",
       " 'Diego Sampaio',\n",
       " 'Don Jayamanne',\n",
       " 'Julien Bouquillon',\n",
       " 'Nader Dabit',\n",
       " 'Ben Manes',\n",
       " 'Marcos Iglesias',\n",
       " 'Jed Watson',\n",
       " 'Vadim Dalecky',\n",
       " 'Megan Marsh',\n",
       " 'Ahmet Alp Balkan',\n",
       " 'William Falcon']"
      ]
     },
     "execution_count": 115,
     "metadata": {},
     "output_type": "execute_result"
    }
   ],
   "source": [
    "#your code\n",
    "names=[ pidonombre(x) for x in range(0,len(name),2)]\n",
    "names"
   ]
  },
  {
   "cell_type": "markdown",
   "metadata": {},
   "source": [
    "#### Display the trending Python repositories in GitHub\n",
    "\n",
    "The steps to solve this problem is similar to the previous one except that you need to find out the repository names instead of developer names."
   ]
  },
  {
   "cell_type": "code",
   "execution_count": 117,
   "metadata": {},
   "outputs": [],
   "source": [
    "# This is the url you will scrape in this exercise\n",
    "url = 'https://github.com/trending/python?since=daily'"
   ]
  },
  {
   "cell_type": "code",
   "execution_count": 167,
   "metadata": {},
   "outputs": [
    {
     "data": {
      "text/plain": [
       "'facebookresearch'"
      ]
     },
     "execution_count": 167,
     "metadata": {},
     "output_type": "execute_result"
    }
   ],
   "source": [
    "#your code\n",
    "html = requests.get(url).text\n",
    "soup = BeautifulSoup(html)\n",
    "reponame=soup.select(\".h3.lh-condensed\")"
   ]
  },
  {
   "cell_type": "code",
   "execution_count": 171,
   "metadata": {},
   "outputs": [],
   "source": [
    "def buscarepo(m):\n",
    "    return reponame[m].text.split()[0]\n",
    "repors=[buscarepo(x) for x in range(len(reponame))]"
   ]
  },
  {
   "cell_type": "code",
   "execution_count": 172,
   "metadata": {},
   "outputs": [
    {
     "data": {
      "text/plain": [
       "['facebookresearch',\n",
       " 'PaddlePaddle',\n",
       " 'open-mmlab',\n",
       " 'adamian98',\n",
       " 'gogcom',\n",
       " 'dabeaz-course',\n",
       " 'espnet',\n",
       " 'sebastianruder',\n",
       " 'allenai',\n",
       " 'HIT-SCIR',\n",
       " 'clovaai',\n",
       " 'shidenggui',\n",
       " 'magicleap',\n",
       " 'vishnubob',\n",
       " 'NVlabs',\n",
       " 'awslabs',\n",
       " 'malwaredllc',\n",
       " 'alan-turing-institute',\n",
       " 'tychxn',\n",
       " 'elastic',\n",
       " 'streamlit',\n",
       " 'bridgecrewio',\n",
       " 'apache',\n",
       " 'littlecodersh',\n",
       " 'PrefectHQ']"
      ]
     },
     "execution_count": 172,
     "metadata": {},
     "output_type": "execute_result"
    }
   ],
   "source": [
    "repors"
   ]
  },
  {
   "cell_type": "markdown",
   "metadata": {},
   "source": [
    "#### Display all the image links from Walt Disney wikipedia page"
   ]
  },
  {
   "cell_type": "code",
   "execution_count": 214,
   "metadata": {},
   "outputs": [],
   "source": [
    "# This is the url you will scrape in this exercise\n",
    "url = 'https://en.wikipedia.org/wiki/Walt_Disney'"
   ]
  },
  {
   "cell_type": "code",
   "execution_count": 256,
   "metadata": {},
   "outputs": [],
   "source": [
    "#your code\n",
    "\n",
    "html=requests.get(url).text\n",
    "soup = BeautifulSoup(html)\n"
   ]
  },
  {
   "cell_type": "code",
   "execution_count": 255,
   "metadata": {},
   "outputs": [
    {
     "data": {
      "text/plain": [
       "['//upload.wikimedia.org/wikipedia/commons/thumb/d/df/Walt_Disney_1946.JPG/220px-Walt_Disney_1946.JPG',\n",
       " '//upload.wikimedia.org/wikipedia/commons/thumb/8/87/Walt_Disney_1942_signature.svg/150px-Walt_Disney_1942_signature.svg.png',\n",
       " '//upload.wikimedia.org/wikipedia/commons/thumb/c/c4/Walt_Disney_envelope_ca._1921.jpg/220px-Walt_Disney_envelope_ca._1921.jpg',\n",
       " '//upload.wikimedia.org/wikipedia/commons/thumb/0/0d/Trolley_Troubles_poster.jpg/170px-Trolley_Troubles_poster.jpg',\n",
       " '//upload.wikimedia.org/wikipedia/commons/thumb/7/71/Walt_Disney_and_his_cartoon_creation_%22Mickey_Mouse%22_-_National_Board_of_Review_Magazine.jpg/170px-Walt_Disney_and_his_cartoon_creation_%22Mickey_Mouse%22_-_National_Board_of_Review_Magazine.jpg',\n",
       " '//upload.wikimedia.org/wikipedia/en/thumb/4/4e/Steamboat-willie.jpg/170px-Steamboat-willie.jpg',\n",
       " '//upload.wikimedia.org/wikipedia/commons/thumb/5/57/Walt_Disney_1935.jpg/170px-Walt_Disney_1935.jpg',\n",
       " '//upload.wikimedia.org/wikipedia/commons/thumb/c/cd/Walt_Disney_Snow_white_1937_trailer_screenshot_%2813%29.jpg/220px-Walt_Disney_Snow_white_1937_trailer_screenshot_%2813%29.jpg',\n",
       " '//upload.wikimedia.org/wikipedia/commons/thumb/1/15/Disney_drawing_goofy.jpg/170px-Disney_drawing_goofy.jpg',\n",
       " '//upload.wikimedia.org/wikipedia/commons/thumb/1/13/DisneySchiphol1951.jpg/220px-DisneySchiphol1951.jpg',\n",
       " '//upload.wikimedia.org/wikipedia/commons/thumb/8/8c/WaltDisneyplansDisneylandDec1954.jpg/220px-WaltDisneyplansDisneylandDec1954.jpg',\n",
       " '//upload.wikimedia.org/wikipedia/commons/thumb/f/ff/Walt_disney_portrait_right.jpg/170px-Walt_disney_portrait_right.jpg',\n",
       " '//upload.wikimedia.org/wikipedia/commons/thumb/1/1a/Walt_Disney_Grave.JPG/170px-Walt_Disney_Grave.JPG',\n",
       " '//upload.wikimedia.org/wikipedia/commons/thumb/2/2d/Roy_O._Disney_with_Company_at_Press_Conference.jpg/170px-Roy_O._Disney_with_Company_at_Press_Conference.jpg',\n",
       " '//upload.wikimedia.org/wikipedia/commons/thumb/a/a9/Disney_Display_Case.JPG/170px-Disney_Display_Case.JPG',\n",
       " '//upload.wikimedia.org/wikipedia/commons/thumb/6/6c/Disney1968.jpg/170px-Disney1968.jpg',\n",
       " '//upload.wikimedia.org/wikipedia/commons/thumb/4/44/The_Walt_Disney_Company_Logo.svg/120px-The_Walt_Disney_Company_Logo.svg.png',\n",
       " '//upload.wikimedia.org/wikipedia/commons/thumb/d/da/Animation_disc.svg/30px-Animation_disc.svg.png',\n",
       " '//upload.wikimedia.org/wikipedia/en/thumb/6/69/P_vip.svg/29px-P_vip.svg.png',\n",
       " '//upload.wikimedia.org/wikipedia/commons/thumb/1/1a/Magic_Kingdom_castle.jpg/24px-Magic_Kingdom_castle.jpg',\n",
       " '//upload.wikimedia.org/wikipedia/en/thumb/e/e7/Video-x-generic.svg/30px-Video-x-generic.svg.png',\n",
       " '//upload.wikimedia.org/wikipedia/commons/thumb/a/a3/Flag_of_Los_Angeles_County%2C_California.svg/30px-Flag_of_Los_Angeles_County%2C_California.svg.png',\n",
       " '//upload.wikimedia.org/wikipedia/commons/thumb/8/8c/Blank_television_set.svg/30px-Blank_television_set.svg.png',\n",
       " '//upload.wikimedia.org/wikipedia/en/thumb/a/a4/Flag_of_the_United_States.svg/30px-Flag_of_the_United_States.svg.png']"
      ]
     },
     "execution_count": 255,
     "metadata": {},
     "output_type": "execute_result"
    }
   ],
   "source": [
    "imagenes=len(soup.select(\".image :first-of-type\"))\n",
    "def imagelink(n):\n",
    "    return soup.select(\".image :first-of-type\")[n][\"src\"]\n",
    "\n",
    "imenlink=[imagelink(x)for x in range(imagenes)]\n",
    "imenlink"
   ]
  },
  {
   "cell_type": "markdown",
   "metadata": {},
   "source": [
    "#### Retrieve an arbitary Wikipedia page of \"Python\" and create a list of links on that page"
   ]
  },
  {
   "cell_type": "code",
   "execution_count": 258,
   "metadata": {},
   "outputs": [],
   "source": [
    "# This is the url you will scrape in this exercise\n",
    "url ='https://en.wikipedia.org/wiki/Python' "
   ]
  },
  {
   "cell_type": "code",
   "execution_count": 259,
   "metadata": {},
   "outputs": [],
   "source": [
    "\n",
    "html=requests.get(url).text\n",
    "soup = BeautifulSoup(html)"
   ]
  },
  {
   "cell_type": "code",
   "execution_count": 393,
   "metadata": {},
   "outputs": [
    {
     "data": {
      "text/plain": [
       "[<a id=\"top\"></a>,\n",
       " <a class=\"mw-jump-link\" href=\"#mw-head\">Jump to navigation</a>,\n",
       " <a class=\"mw-jump-link\" href=\"#p-search\">Jump to search</a>,\n",
       " <a class=\"extiw\" href=\"https://en.wiktionary.org/wiki/Python\" title=\"wiktionary:Python\">Python</a>,\n",
       " <a class=\"extiw\" href=\"https://en.wiktionary.org/wiki/python\" title=\"wiktionary:python\">python</a>,\n",
       " <a href=\"#Snakes\"><span class=\"tocnumber\">1</span> <span class=\"toctext\">Snakes</span></a>,\n",
       " <a href=\"#Ancient_Greece\"><span class=\"tocnumber\">2</span> <span class=\"toctext\">Ancient Greece</span></a>,\n",
       " <a href=\"#Media_and_entertainment\"><span class=\"tocnumber\">3</span> <span class=\"toctext\">Media and entertainment</span></a>,\n",
       " <a href=\"#Computing\"><span class=\"tocnumber\">4</span> <span class=\"toctext\">Computing</span></a>,\n",
       " <a href=\"#Engineering\"><span class=\"tocnumber\">5</span> <span class=\"toctext\">Engineering</span></a>,\n",
       " <a href=\"#Roller_coasters\"><span class=\"tocnumber\">5.1</span> <span class=\"toctext\">Roller coasters</span></a>,\n",
       " <a href=\"#Vehicles\"><span class=\"tocnumber\">5.2</span> <span class=\"toctext\">Vehicles</span></a>,\n",
       " <a href=\"#Weaponry\"><span class=\"tocnumber\">5.3</span> <span class=\"toctext\">Weaponry</span></a>,\n",
       " <a href=\"#People\"><span class=\"tocnumber\">6</span> <span class=\"toctext\">People</span></a>,\n",
       " <a href=\"#Other_uses\"><span class=\"tocnumber\">7</span> <span class=\"toctext\">Other uses</span></a>,\n",
       " <a href=\"#See_also\"><span class=\"tocnumber\">8</span> <span class=\"toctext\">See also</span></a>,\n",
       " <a href=\"/w/index.php?title=Python&amp;action=edit&amp;section=1\" title=\"Edit section: Snakes\">edit</a>,\n",
       " <a href=\"/wiki/Pythonidae\" title=\"Pythonidae\">Pythonidae</a>,\n",
       " <a href=\"/wiki/Python_(genus)\" title=\"Python (genus)\"><i>Python</i> (genus)</a>,\n",
       " <a href=\"/w/index.php?title=Python&amp;action=edit&amp;section=2\" title=\"Edit section: Ancient Greece\">edit</a>,\n",
       " <a href=\"/wiki/Python_(mythology)\" title=\"Python (mythology)\">Python (mythology)</a>,\n",
       " <a href=\"/wiki/Python_of_Aenus\" title=\"Python of Aenus\">Python of Aenus</a>,\n",
       " <a href=\"/wiki/Python_(painter)\" title=\"Python (painter)\">Python (painter)</a>,\n",
       " <a href=\"/wiki/Python_of_Byzantium\" title=\"Python of Byzantium\">Python of Byzantium</a>,\n",
       " <a href=\"/wiki/Python_of_Catana\" title=\"Python of Catana\">Python of Catana</a>,\n",
       " <a href=\"/w/index.php?title=Python&amp;action=edit&amp;section=3\" title=\"Edit section: Media and entertainment\">edit</a>,\n",
       " <a href=\"/wiki/Python_(film)\" title=\"Python (film)\"><i>Python</i> (film)</a>,\n",
       " <a href=\"/wiki/Pythons_2\" title=\"Pythons 2\">Pythons 2</a>,\n",
       " <a href=\"/wiki/Monty_Python\" title=\"Monty Python\">Monty Python</a>,\n",
       " <a href=\"/wiki/Python_(Monty)_Pictures\" title=\"Python (Monty) Pictures\">Python (Monty) Pictures</a>,\n",
       " <a href=\"/w/index.php?title=Python&amp;action=edit&amp;section=4\" title=\"Edit section: Computing\">edit</a>,\n",
       " <a href=\"/wiki/Python_(programming_language)\" title=\"Python (programming language)\">Python (programming language)</a>,\n",
       " <a href=\"/wiki/CPython\" title=\"CPython\">CPython</a>,\n",
       " <a href=\"/wiki/CMU_Common_Lisp\" title=\"CMU Common Lisp\">CMU Common Lisp</a>,\n",
       " <a href=\"/wiki/PERQ#PERQ_3\" title=\"PERQ\">PERQ 3</a>,\n",
       " <a href=\"/w/index.php?title=Python&amp;action=edit&amp;section=5\" title=\"Edit section: Engineering\">edit</a>,\n",
       " <a href=\"/w/index.php?title=Python&amp;action=edit&amp;section=6\" title=\"Edit section: Roller coasters\">edit</a>,\n",
       " <a href=\"/wiki/Python_(Busch_Gardens_Tampa_Bay)\" title=\"Python (Busch Gardens Tampa Bay)\">Python (Busch Gardens Tampa Bay)</a>,\n",
       " <a href=\"/wiki/Python_(Coney_Island,_Cincinnati,_Ohio)\" title=\"Python (Coney Island, Cincinnati, Ohio)\">Python (Coney Island, Cincinnati, Ohio)</a>,\n",
       " <a href=\"/wiki/Python_(Efteling)\" title=\"Python (Efteling)\">Python (Efteling)</a>,\n",
       " <a href=\"/w/index.php?title=Python&amp;action=edit&amp;section=7\" title=\"Edit section: Vehicles\">edit</a>,\n",
       " <a href=\"/wiki/Python_(automobile_maker)\" title=\"Python (automobile maker)\">Python (automobile maker)</a>,\n",
       " <a href=\"/wiki/Python_(Ford_prototype)\" title=\"Python (Ford prototype)\">Python (Ford prototype)</a>,\n",
       " <a href=\"/w/index.php?title=Python&amp;action=edit&amp;section=8\" title=\"Edit section: Weaponry\">edit</a>,\n",
       " <a href=\"/wiki/Colt_Python\" title=\"Colt Python\">Colt Python</a>,\n",
       " <a href=\"/wiki/Python_(missile)\" title=\"Python (missile)\">Python (missile)</a>,\n",
       " <a href=\"/wiki/Python_(nuclear_primary)\" title=\"Python (nuclear primary)\">Python (nuclear primary)</a>,\n",
       " <a href=\"/w/index.php?title=Python&amp;action=edit&amp;section=9\" title=\"Edit section: People\">edit</a>,\n",
       " <a href=\"/wiki/Python_Anghelo\" title=\"Python Anghelo\">Python Anghelo</a>,\n",
       " <a href=\"/w/index.php?title=Python&amp;action=edit&amp;section=10\" title=\"Edit section: Other uses\">edit</a>,\n",
       " <a href=\"/wiki/PYTHON\" title=\"PYTHON\">PYTHON</a>,\n",
       " <a href=\"/w/index.php?title=Python&amp;action=edit&amp;section=11\" title=\"Edit section: See also\">edit</a>,\n",
       " <a href=\"/wiki/Cython\" title=\"Cython\">Cython</a>,\n",
       " <a href=\"/wiki/Pyton\" title=\"Pyton\">Pyton</a>,\n",
       " <a class=\"image\" href=\"/wiki/File:Disambig_gray.svg\"><img alt=\"Disambiguation icon\" data-file-height=\"168\" data-file-width=\"220\" decoding=\"async\" height=\"23\" src=\"//upload.wikimedia.org/wikipedia/en/thumb/5/5f/Disambig_gray.svg/30px-Disambig_gray.svg.png\" srcset=\"//upload.wikimedia.org/wikipedia/en/thumb/5/5f/Disambig_gray.svg/45px-Disambig_gray.svg.png 1.5x, //upload.wikimedia.org/wikipedia/en/thumb/5/5f/Disambig_gray.svg/60px-Disambig_gray.svg.png 2x\" width=\"30\"/></a>,\n",
       " <a href=\"/wiki/Help:Disambiguation\" title=\"Help:Disambiguation\">disambiguation</a>,\n",
       " <a class=\"external text\" href=\"https://en.wikipedia.org/w/index.php?title=Special:WhatLinksHere/Python&amp;namespace=0\">internal link</a>,\n",
       " <a dir=\"ltr\" href=\"https://en.wikipedia.org/w/index.php?title=Python&amp;oldid=963092579\">https://en.wikipedia.org/w/index.php?title=Python&amp;oldid=963092579</a>,\n",
       " <a href=\"/wiki/Help:Category\" title=\"Help:Category\">Categories</a>,\n",
       " <a href=\"/wiki/Category:Disambiguation_pages\" title=\"Category:Disambiguation pages\">Disambiguation pages</a>,\n",
       " <a href=\"/wiki/Category:Disambiguation_pages_with_short_descriptions\" title=\"Category:Disambiguation pages with short descriptions\">Disambiguation pages with short descriptions</a>,\n",
       " <a href=\"/wiki/Category:All_article_disambiguation_pages\" title=\"Category:All article disambiguation pages\">All article disambiguation pages</a>,\n",
       " <a href=\"/wiki/Category:All_disambiguation_pages\" title=\"Category:All disambiguation pages\">All disambiguation pages</a>,\n",
       " <a href=\"/wiki/Category:Animal_common_name_disambiguation_pages\" title=\"Category:Animal common name disambiguation pages\">Animal common name disambiguation pages</a>,\n",
       " <a accesskey=\"n\" href=\"/wiki/Special:MyTalk\" title=\"Discussion about edits from this IP address [n]\">Talk</a>,\n",
       " <a accesskey=\"y\" href=\"/wiki/Special:MyContributions\" title=\"A list of edits made from this IP address [y]\">Contributions</a>,\n",
       " <a href=\"/w/index.php?title=Special:CreateAccount&amp;returnto=Python\" title=\"You are encouraged to create an account and log in; however, it is not mandatory\">Create account</a>,\n",
       " <a accesskey=\"o\" href=\"/w/index.php?title=Special:UserLogin&amp;returnto=Python\" title=\"You're encouraged to log in; however, it's not mandatory. [o]\">Log in</a>,\n",
       " <a accesskey=\"c\" href=\"/wiki/Python\" title=\"View the content page [c]\">Article</a>,\n",
       " <a accesskey=\"t\" href=\"/wiki/Talk:Python\" rel=\"discussion\" title=\"Discuss improvements to the content page [t]\">Talk</a>,\n",
       " <a href=\"/wiki/Python\">Read</a>,\n",
       " <a accesskey=\"e\" href=\"/w/index.php?title=Python&amp;action=edit\" title=\"Edit this page [e]\">Edit</a>,\n",
       " <a accesskey=\"h\" href=\"/w/index.php?title=Python&amp;action=history\" title=\"Past revisions of this page [h]\">View history</a>,\n",
       " <a class=\"mw-wiki-logo\" href=\"/wiki/Main_Page\" title=\"Visit the main page\"></a>,\n",
       " <a accesskey=\"z\" href=\"/wiki/Main_Page\" title=\"Visit the main page [z]\">Main page</a>,\n",
       " <a href=\"/wiki/Wikipedia:Contents\" title=\"Guides to browsing Wikipedia\">Contents</a>,\n",
       " <a href=\"/wiki/Portal:Current_events\" title=\"Find background information on current events\">Current events</a>,\n",
       " <a accesskey=\"x\" href=\"/wiki/Special:Random\" title=\"Visit a randomly selected article [x]\">Random article</a>,\n",
       " <a href=\"/wiki/Wikipedia:About\" title=\"Learn about Wikipedia and how it works\">About Wikipedia</a>,\n",
       " <a href=\"//en.wikipedia.org/wiki/Wikipedia:Contact_us\" title=\"How to contact Wikipedia\">Contact us</a>,\n",
       " <a href=\"https://donate.wikimedia.org/wiki/Special:FundraiserRedirector?utm_source=donate&amp;utm_medium=sidebar&amp;utm_campaign=C13_en.wikipedia.org&amp;uselang=en\" title=\"Support us by donating to the Wikimedia Foundation\">Donate</a>,\n",
       " <a href=\"//shop.wikimedia.org\" title=\"Visit the Wikipedia store\">Wikipedia store</a>,\n",
       " <a href=\"/wiki/Help:Contents\" title=\"Guidance on how to use and edit Wikipedia\">Help</a>,\n",
       " <a href=\"/wiki/Wikipedia:Community_portal\" title=\"About the project, what you can do, where to find things\">Community portal</a>,\n",
       " <a accesskey=\"r\" href=\"/wiki/Special:RecentChanges\" title=\"A list of recent changes to Wikipedia [r]\">Recent changes</a>,\n",
       " <a href=\"/wiki/Wikipedia:File_Upload_Wizard\" title=\"Add images or other media for use on Wikipedia\">Upload file</a>,\n",
       " <a accesskey=\"j\" href=\"/wiki/Special:WhatLinksHere/Python\" title=\"List of all English Wikipedia pages containing links to this page [j]\">What links here</a>,\n",
       " <a accesskey=\"k\" href=\"/wiki/Special:RecentChangesLinked/Python\" rel=\"nofollow\" title=\"Recent changes in pages linked from this page [k]\">Related changes</a>,\n",
       " <a accesskey=\"u\" href=\"/wiki/Wikipedia:File_Upload_Wizard\" title=\"Upload files [u]\">Upload file</a>,\n",
       " <a accesskey=\"q\" href=\"/wiki/Special:SpecialPages\" title=\"A list of all special pages [q]\">Special pages</a>,\n",
       " <a href=\"/w/index.php?title=Python&amp;oldid=963092579\" title=\"Permanent link to this revision of this page\">Permanent link</a>,\n",
       " <a href=\"/w/index.php?title=Python&amp;action=info\" title=\"More information about this page\">Page information</a>,\n",
       " <a accesskey=\"g\" href=\"https://www.wikidata.org/wiki/Special:EntityPage/Q747452\" title=\"Structured data on this page hosted by Wikidata [g]\">Wikidata item</a>,\n",
       " <a href=\"/w/index.php?title=Special:CiteThisPage&amp;page=Python&amp;id=963092579&amp;wpFormIdentifier=titleform\" title=\"Information on how to cite this page\">Cite this page</a>,\n",
       " <a class=\"interlanguage-link-target\" href=\"https://af.wikipedia.org/wiki/Python\" hreflang=\"af\" lang=\"af\" title=\"Python – Afrikaans\">Afrikaans</a>,\n",
       " <a class=\"interlanguage-link-target\" href=\"https://als.wikipedia.org/wiki/Python\" hreflang=\"gsw\" lang=\"gsw\" title=\"Python – Alemannisch\">Alemannisch</a>,\n",
       " <a class=\"interlanguage-link-target\" href=\"https://ar.wikipedia.org/wiki/%D8%A8%D8%A7%D9%8A%D8%AB%D9%88%D9%86\" hreflang=\"ar\" lang=\"ar\" title=\"بايثون – Arabic\">العربية</a>,\n",
       " <a class=\"interlanguage-link-target\" href=\"https://az.wikipedia.org/wiki/Python\" hreflang=\"az\" lang=\"az\" title=\"Python – Azerbaijani\">Azərbaycanca</a>,\n",
       " <a class=\"interlanguage-link-target\" href=\"https://bn.wikipedia.org/wiki/%E0%A6%AA%E0%A6%BE%E0%A6%87%E0%A6%A5%E0%A6%A8_(%E0%A6%A6%E0%A7%8D%E0%A6%AC%E0%A7%8D%E0%A6%AF%E0%A6%B0%E0%A7%8D%E0%A6%A5%E0%A6%A4%E0%A6%BE_%E0%A6%A8%E0%A6%BF%E0%A6%B0%E0%A6%B8%E0%A6%A8)\" hreflang=\"bn\" lang=\"bn\" title=\"পাইথন (দ্ব্যর্থতা নিরসন) – Bangla\">বাংলা</a>,\n",
       " <a class=\"interlanguage-link-target\" href=\"https://be.wikipedia.org/wiki/Python\" hreflang=\"be\" lang=\"be\" title=\"Python – Belarusian\">Беларуская</a>,\n",
       " <a class=\"interlanguage-link-target\" href=\"https://bg.wikipedia.org/wiki/%D0%9F%D0%B8%D1%82%D0%BE%D0%BD_(%D0%BF%D0%BE%D1%8F%D1%81%D0%BD%D0%B5%D0%BD%D0%B8%D0%B5)\" hreflang=\"bg\" lang=\"bg\" title=\"Питон (пояснение) – Bulgarian\">Български</a>,\n",
       " <a class=\"interlanguage-link-target\" href=\"https://cs.wikipedia.org/wiki/Python_(rozcestn%C3%ADk)\" hreflang=\"cs\" lang=\"cs\" title=\"Python (rozcestník) – Czech\">Čeština</a>,\n",
       " <a class=\"interlanguage-link-target\" href=\"https://da.wikipedia.org/wiki/Python\" hreflang=\"da\" lang=\"da\" title=\"Python – Danish\">Dansk</a>,\n",
       " <a class=\"interlanguage-link-target\" href=\"https://de.wikipedia.org/wiki/Python\" hreflang=\"de\" lang=\"de\" title=\"Python – German\">Deutsch</a>,\n",
       " <a class=\"interlanguage-link-target\" href=\"https://eo.wikipedia.org/wiki/Pitono_(apartigilo)\" hreflang=\"eo\" lang=\"eo\" title=\"Pitono (apartigilo) – Esperanto\">Esperanto</a>,\n",
       " <a class=\"interlanguage-link-target\" href=\"https://eu.wikipedia.org/wiki/Python_(argipena)\" hreflang=\"eu\" lang=\"eu\" title=\"Python (argipena) – Basque\">Euskara</a>,\n",
       " <a class=\"interlanguage-link-target\" href=\"https://fa.wikipedia.org/wiki/%D9%BE%D8%A7%DB%8C%D8%AA%D9%88%D9%86\" hreflang=\"fa\" lang=\"fa\" title=\"پایتون – Persian\">فارسی</a>,\n",
       " <a class=\"interlanguage-link-target\" href=\"https://fr.wikipedia.org/wiki/Python\" hreflang=\"fr\" lang=\"fr\" title=\"Python – French\">Français</a>,\n",
       " <a class=\"interlanguage-link-target\" href=\"https://ko.wikipedia.org/wiki/%ED%8C%8C%EC%9D%B4%EC%84%A0\" hreflang=\"ko\" lang=\"ko\" title=\"파이선 – Korean\">한국어</a>,\n",
       " <a class=\"interlanguage-link-target\" href=\"https://hr.wikipedia.org/wiki/Python_(razdvojba)\" hreflang=\"hr\" lang=\"hr\" title=\"Python (razdvojba) – Croatian\">Hrvatski</a>,\n",
       " <a class=\"interlanguage-link-target\" href=\"https://io.wikipedia.org/wiki/Pitono\" hreflang=\"io\" lang=\"io\" title=\"Pitono – Ido\">Ido</a>,\n",
       " <a class=\"interlanguage-link-target\" href=\"https://id.wikipedia.org/wiki/Python\" hreflang=\"id\" lang=\"id\" title=\"Python – Indonesian\">Bahasa Indonesia</a>,\n",
       " <a class=\"interlanguage-link-target\" href=\"https://ia.wikipedia.org/wiki/Python_(disambiguation)\" hreflang=\"ia\" lang=\"ia\" title=\"Python (disambiguation) – Interlingua\">Interlingua</a>,\n",
       " <a class=\"interlanguage-link-target\" href=\"https://is.wikipedia.org/wiki/Python_(a%C3%B0greining)\" hreflang=\"is\" lang=\"is\" title=\"Python (aðgreining) – Icelandic\">Íslenska</a>,\n",
       " <a class=\"interlanguage-link-target\" href=\"https://it.wikipedia.org/wiki/Python_(disambigua)\" hreflang=\"it\" lang=\"it\" title=\"Python (disambigua) – Italian\">Italiano</a>,\n",
       " <a class=\"interlanguage-link-target\" href=\"https://he.wikipedia.org/wiki/%D7%A4%D7%99%D7%AA%D7%95%D7%9F\" hreflang=\"he\" lang=\"he\" title=\"פיתון – Hebrew\">עברית</a>,\n",
       " <a class=\"interlanguage-link-target\" href=\"https://ka.wikipedia.org/wiki/%E1%83%9E%E1%83%98%E1%83%97%E1%83%9D%E1%83%9C%E1%83%98_(%E1%83%9B%E1%83%A0%E1%83%90%E1%83%95%E1%83%90%E1%83%9A%E1%83%9B%E1%83%9C%E1%83%98%E1%83%A8%E1%83%95%E1%83%9C%E1%83%94%E1%83%9A%E1%83%9D%E1%83%95%E1%83%90%E1%83%9C%E1%83%98)\" hreflang=\"ka\" lang=\"ka\" title=\"პითონი (მრავალმნიშვნელოვანი) – Georgian\">ქართული</a>,\n",
       " <a class=\"interlanguage-link-target\" href=\"https://kg.wikipedia.org/wiki/Mboma_(nyoka)\" hreflang=\"kg\" lang=\"kg\" title=\"Mboma (nyoka) – Kongo\">Kongo</a>,\n",
       " <a class=\"interlanguage-link-target\" href=\"https://la.wikipedia.org/wiki/Python_(discretiva)\" hreflang=\"la\" lang=\"la\" title=\"Python (discretiva) – Latin\">Latina</a>,\n",
       " <a class=\"interlanguage-link-target\" href=\"https://lb.wikipedia.org/wiki/Python\" hreflang=\"lb\" lang=\"lb\" title=\"Python – Luxembourgish\">Lëtzebuergesch</a>,\n",
       " <a class=\"interlanguage-link-target\" href=\"https://hu.wikipedia.org/wiki/Python_(egy%C3%A9rtelm%C5%B1s%C3%ADt%C5%91_lap)\" hreflang=\"hu\" lang=\"hu\" title=\"Python (egyértelműsítő lap) – Hungarian\">Magyar</a>,\n",
       " <a class=\"interlanguage-link-target\" href=\"https://mr.wikipedia.org/wiki/%E0%A4%AA%E0%A4%BE%E0%A4%AF%E0%A4%A5%E0%A5%89%E0%A4%A8_(%E0%A4%86%E0%A4%9C%E0%A5%8D%E0%A4%9E%E0%A4%BE%E0%A4%B5%E0%A4%B2%E0%A5%80_%E0%A4%AD%E0%A4%BE%E0%A4%B7%E0%A4%BE)\" hreflang=\"mr\" lang=\"mr\" title=\"पायथॉन (आज्ञावली भाषा) – Marathi\">मराठी</a>,\n",
       " <a class=\"interlanguage-link-target\" href=\"https://nl.wikipedia.org/wiki/Python\" hreflang=\"nl\" lang=\"nl\" title=\"Python – Dutch\">Nederlands</a>,\n",
       " <a class=\"interlanguage-link-target\" href=\"https://ja.wikipedia.org/wiki/%E3%83%91%E3%82%A4%E3%82%BD%E3%83%B3\" hreflang=\"ja\" lang=\"ja\" title=\"パイソン – Japanese\">日本語</a>,\n",
       " <a class=\"interlanguage-link-target\" href=\"https://no.wikipedia.org/wiki/Pyton\" hreflang=\"nb\" lang=\"nb\" title=\"Pyton – Norwegian Bokmål\">Norsk bokmål</a>,\n",
       " <a class=\"interlanguage-link-target\" href=\"https://pl.wikipedia.org/wiki/Pyton\" hreflang=\"pl\" lang=\"pl\" title=\"Pyton – Polish\">Polski</a>,\n",
       " <a class=\"interlanguage-link-target\" href=\"https://pt.wikipedia.org/wiki/Python_(desambigua%C3%A7%C3%A3o)\" hreflang=\"pt\" lang=\"pt\" title=\"Python (desambiguação) – Portuguese\">Português</a>,\n",
       " <a class=\"interlanguage-link-target\" href=\"https://ru.wikipedia.org/wiki/Python_(%D0%B7%D0%BD%D0%B0%D1%87%D0%B5%D0%BD%D0%B8%D1%8F)\" hreflang=\"ru\" lang=\"ru\" title=\"Python (значения) – Russian\">Русский</a>,\n",
       " <a class=\"interlanguage-link-target\" href=\"https://sk.wikipedia.org/wiki/Python\" hreflang=\"sk\" lang=\"sk\" title=\"Python – Slovak\">Slovenčina</a>,\n",
       " <a class=\"interlanguage-link-target\" href=\"https://sr.wikipedia.org/wiki/%D0%9F%D0%B8%D1%82%D0%BE%D0%BD_(%D0%B2%D0%B8%D1%88%D0%B5%D0%B7%D0%BD%D0%B0%D1%87%D0%BD%D0%B0_%D0%BE%D0%B4%D1%80%D0%B5%D0%B4%D0%BD%D0%B8%D1%86%D0%B0)\" hreflang=\"sr\" lang=\"sr\" title=\"Питон (вишезначна одредница) – Serbian\">Српски / srpski</a>,\n",
       " <a class=\"interlanguage-link-target\" href=\"https://sh.wikipedia.org/wiki/Python\" hreflang=\"sh\" lang=\"sh\" title=\"Python – Serbo-Croatian\">Srpskohrvatski / српскохрватски</a>,\n",
       " <a class=\"interlanguage-link-target\" href=\"https://fi.wikipedia.org/wiki/Python\" hreflang=\"fi\" lang=\"fi\" title=\"Python – Finnish\">Suomi</a>,\n",
       " <a class=\"interlanguage-link-target\" href=\"https://sv.wikipedia.org/wiki/Pyton\" hreflang=\"sv\" lang=\"sv\" title=\"Pyton – Swedish\">Svenska</a>,\n",
       " <a class=\"interlanguage-link-target\" href=\"https://th.wikipedia.org/wiki/%E0%B9%84%E0%B8%9E%E0%B8%97%E0%B8%AD%E0%B8%99\" hreflang=\"th\" lang=\"th\" title=\"ไพทอน – Thai\">ไทย</a>,\n",
       " <a class=\"interlanguage-link-target\" href=\"https://tr.wikipedia.org/wiki/Python\" hreflang=\"tr\" lang=\"tr\" title=\"Python – Turkish\">Türkçe</a>,\n",
       " <a class=\"interlanguage-link-target\" href=\"https://uk.wikipedia.org/wiki/%D0%9F%D1%96%D1%84%D0%BE%D0%BD\" hreflang=\"uk\" lang=\"uk\" title=\"Піфон – Ukrainian\">Українська</a>,\n",
       " <a class=\"interlanguage-link-target\" href=\"https://ur.wikipedia.org/wiki/%D9%BE%D8%A7%D8%A6%DB%8C%D8%AA%DA%BE%D9%88%D9%86\" hreflang=\"ur\" lang=\"ur\" title=\"پائیتھون – Urdu\">اردو</a>,\n",
       " <a class=\"interlanguage-link-target\" href=\"https://vi.wikipedia.org/wiki/Python\" hreflang=\"vi\" lang=\"vi\" title=\"Python – Vietnamese\">Tiếng Việt</a>,\n",
       " <a class=\"interlanguage-link-target\" href=\"https://zh.wikipedia.org/wiki/Python_(%E6%B6%88%E6%AD%A7%E4%B9%89)\" hreflang=\"zh\" lang=\"zh\" title=\"Python (消歧义) – Chinese\">中文</a>,\n",
       " <a class=\"wbc-editpage\" href=\"https://www.wikidata.org/wiki/Special:EntityPage/Q747452#sitelinks-wikipedia\" title=\"Edit interlanguage links\">Edit links</a>,\n",
       " <a href=\"https://commons.wikimedia.org/wiki/Category:Python\" hreflang=\"en\">Wikimedia Commons</a>,\n",
       " <a href=\"/w/index.php?title=Special:ElectronPdf&amp;page=Python&amp;action=show-download-screen\" title=\"Download this page as a PDF file\">Download as PDF</a>,\n",
       " <a accesskey=\"p\" href=\"/w/index.php?title=Python&amp;printable=yes\" title=\"Printable version of this page [p]\">Printable version</a>,\n",
       " <a href=\"//en.wikipedia.org/wiki/Wikipedia:Text_of_Creative_Commons_Attribution-ShareAlike_3.0_Unported_License\" rel=\"license\">Creative Commons Attribution-ShareAlike License</a>,\n",
       " <a href=\"//creativecommons.org/licenses/by-sa/3.0/\" rel=\"license\" style=\"display:none;\"></a>,\n",
       " <a href=\"//foundation.wikimedia.org/wiki/Terms_of_Use\">Terms of Use</a>,\n",
       " <a href=\"//foundation.wikimedia.org/wiki/Privacy_policy\">Privacy Policy</a>,\n",
       " <a href=\"//www.wikimediafoundation.org/\">Wikimedia Foundation, Inc.</a>,\n",
       " <a class=\"extiw\" href=\"https://foundation.wikimedia.org/wiki/Privacy_policy\" title=\"wmf:Privacy policy\">Privacy policy</a>,\n",
       " <a href=\"/wiki/Wikipedia:About\" title=\"Wikipedia:About\">About Wikipedia</a>,\n",
       " <a href=\"/wiki/Wikipedia:General_disclaimer\" title=\"Wikipedia:General disclaimer\">Disclaimers</a>,\n",
       " <a href=\"//en.wikipedia.org/wiki/Wikipedia:Contact_us\">Contact Wikipedia</a>,\n",
       " <a href=\"https://www.mediawiki.org/wiki/Special:MyLanguage/How_to_contribute\">Developers</a>,\n",
       " <a href=\"https://stats.wikimedia.org/#/en.wikipedia.org\">Statistics</a>,\n",
       " <a href=\"https://foundation.wikimedia.org/wiki/Cookie_statement\">Cookie statement</a>,\n",
       " <a class=\"noprint stopMobileRedirectToggle\" href=\"//en.m.wikipedia.org/w/index.php?title=Python&amp;mobileaction=toggle_view_mobile\">Mobile view</a>,\n",
       " <a href=\"https://wikimediafoundation.org/\"><img alt=\"Wikimedia Foundation\" height=\"31\" loading=\"lazy\" src=\"/static/images/wikimedia-button.png\" srcset=\"/static/images/wikimedia-button-1.5x.png 1.5x, /static/images/wikimedia-button-2x.png 2x\" width=\"88\"/></a>,\n",
       " <a href=\"https://www.mediawiki.org/\"><img alt=\"Powered by MediaWiki\" height=\"31\" loading=\"lazy\" src=\"/static/images/poweredby_mediawiki_88x31.png\" srcset=\"/static/images/poweredby_mediawiki_132x47.png 1.5x, /static/images/poweredby_mediawiki_176x62.png 2x\" width=\"88\"/></a>]"
      ]
     },
     "execution_count": 393,
     "metadata": {},
     "output_type": "execute_result"
    }
   ],
   "source": [
    "#your code\n",
    "links=soup.select(\"a\")\n",
    "\n",
    "len(links)\n",
    "links"
   ]
  },
  {
   "cell_type": "code",
   "execution_count": 398,
   "metadata": {},
   "outputs": [],
   "source": [
    "def buscalink(n):\n",
    "    linea=soup.select(\"a\")[n][\"href\"]\n",
    "    if linea[0]==\"/\":\n",
    "        return \"https://en.wikipedia.org/wiki\"+linea"
   ]
  },
  {
   "cell_type": "code",
   "execution_count": 421,
   "metadata": {},
   "outputs": [],
   "source": [
    "links= [buscalink(x) for x in range(1,len(links))]\n",
    "linkeos=[ x for x in links if x!=None]"
   ]
  },
  {
   "cell_type": "code",
   "execution_count": null,
   "metadata": {},
   "outputs": [],
   "source": [
    "linkeos"
   ]
  },
  {
   "cell_type": "markdown",
   "metadata": {},
   "source": [
    "#### Number of Titles that have changed in the United States Code since its last release point "
   ]
  },
  {
   "cell_type": "code",
   "execution_count": 1308,
   "metadata": {},
   "outputs": [],
   "source": [
    "# This is the url you will scrape in this exercise\n",
    "url = 'http://uscode.house.gov/download/download.shtml'"
   ]
  },
  {
   "cell_type": "code",
   "execution_count": 1309,
   "metadata": {},
   "outputs": [],
   "source": [
    "#your code\n",
    "\n",
    "html=requests.get(url).text\n",
    "soup = BeautifulSoup(html)"
   ]
  },
  {
   "cell_type": "code",
   "execution_count": 1310,
   "metadata": {},
   "outputs": [
    {
     "data": {
      "text/plain": [
       "'\\n\\n          Title 34 - Crime Control and Law Enforcement\\n\\n        '"
      ]
     },
     "execution_count": 1310,
     "metadata": {},
     "output_type": "execute_result"
    }
   ],
   "source": [
    "\n",
    "negrita=soup.select(\".usctitlechanged\")\n",
    "negrita[0].text"
   ]
  },
  {
   "cell_type": "code",
   "execution_count": 1311,
   "metadata": {},
   "outputs": [],
   "source": [
    "def dimenegro(x):\n",
    "    return soup.select(\".usctitlechanged\")[x].text.strip()"
   ]
  },
  {
   "cell_type": "code",
   "execution_count": 1312,
   "metadata": {},
   "outputs": [
    {
     "data": {
      "text/plain": [
       "['Title 34 - Crime Control and Law Enforcement']"
      ]
     },
     "execution_count": 1312,
     "metadata": {},
     "output_type": "execute_result"
    }
   ],
   "source": [
    "negrita=[ dimenegro(x) for x in range(len(negrita))]\n",
    "negrita"
   ]
  },
  {
   "cell_type": "markdown",
   "metadata": {},
   "source": [
    "#### A Python list with the top ten FBI's Most Wanted names "
   ]
  },
  {
   "cell_type": "code",
   "execution_count": 473,
   "metadata": {},
   "outputs": [],
   "source": [
    "# This is the url you will scrape in this exercise\n",
    "url = 'https://www.fbi.gov/wanted/topten'"
   ]
  },
  {
   "cell_type": "code",
   "execution_count": 508,
   "metadata": {},
   "outputs": [],
   "source": [
    "#your code \n",
    "html=requests.get(url).text\n",
    "soup=BeautifulSoup(html)\n",
    "nbandi=len(soup.select(\".portal-type-person.castle-grid-block-item\"))"
   ]
  },
  {
   "cell_type": "code",
   "execution_count": 513,
   "metadata": {},
   "outputs": [],
   "source": [
    "def pillealbandido(n):\n",
    "    return soup.select(\".portal-type-person.castle-grid-block-item\")[n].text.strip()"
   ]
  },
  {
   "cell_type": "code",
   "execution_count": 514,
   "metadata": {},
   "outputs": [],
   "source": [
    "mostwanted=[ pillealbandido(x) for x in range(nbandi)]"
   ]
  },
  {
   "cell_type": "code",
   "execution_count": 515,
   "metadata": {},
   "outputs": [
    {
     "data": {
      "text/plain": [
       "['YASER ABDEL SAID',\n",
       " 'ALEXIS FLORES',\n",
       " 'EUGENE PALMER',\n",
       " 'SANTIAGO VILLALBA MEDEROS',\n",
       " 'RAFAEL CARO-QUINTERO',\n",
       " 'ROBERT WILLIAM FISHER',\n",
       " 'BHADRESHKUMAR CHETANBHAI PATEL',\n",
       " 'ALEJANDRO ROSALES CASTILLO',\n",
       " 'ARNOLDO JIMENEZ',\n",
       " 'JASON DEREK BROWN']"
      ]
     },
     "execution_count": 515,
     "metadata": {},
     "output_type": "execute_result"
    }
   ],
   "source": [
    "mostwanted"
   ]
  },
  {
   "cell_type": "markdown",
   "metadata": {},
   "source": [
    "####  20 latest earthquakes info (date, time, latitude, longitude and region name) by the EMSC as a pandas dataframe"
   ]
  },
  {
   "cell_type": "code",
   "execution_count": 662,
   "metadata": {},
   "outputs": [],
   "source": [
    "# This is the url you will scrape in this exercise\n",
    "url = 'https://www.emsc-csem.org/Earthquake/'\n"
   ]
  },
  {
   "cell_type": "code",
   "execution_count": 687,
   "metadata": {},
   "outputs": [
    {
     "data": {
      "text/plain": [
       "['2020-06-18',\n",
       " '18:35:41.628min',\n",
       " '18.00',\n",
       " 'N',\n",
       " '66.94',\n",
       " 'W',\n",
       " '10MD2.4',\n",
       " 'PUERTO',\n",
       " 'RICO2020-06-18',\n",
       " '18:52']"
      ]
     },
     "execution_count": 687,
     "metadata": {},
     "output_type": "execute_result"
    }
   ],
   "source": [
    "#your code\n",
    "html=requests.get(url).text\n",
    "soup=BeautifulSoup(html)\n",
    "lol=soup.select(\".ligne1.normal\")[1].get_text().strip(\"\").replace(\"earthquake\",\"\").replace(\"\\xa0\\xa0\\xa0\",\" \").replace(\"ago\",\" \").split()\n",
    "lol\n"
   ]
  },
  {
   "cell_type": "code",
   "execution_count": 763,
   "metadata": {},
   "outputs": [
    {
     "data": {
      "text/plain": [
       "<tr class=\"ligne1 normal\" id=\"868904\" onclick=\"go_details(event,868904);\"><td class=\"tabev0\"></td><td class=\"tabev0\"></td><td class=\"tabev0\"></td><td class=\"tabev6\"><b><i style=\"display:none;\">earthquake</i><a href=\"/Earthquake/earthquake.php?id=868904\">2020-06-18   18:35:41.6</a></b><i class=\"ago\" id=\"ago2\">28min ago</i></td><td class=\"tabev1\">18.00 </td><td class=\"tabev2\">N  </td><td class=\"tabev1\">66.94 </td><td class=\"tabev2\">W  </td><td class=\"tabev3\">10</td><td class=\"tabev5\" id=\"magtyp2\">MD</td><td class=\"tabev2\">2.4</td><td class=\"tb_region\" id=\"reg2\"> PUERTO RICO</td><td class=\"comment updatetimeno\" id=\"upd2\" style=\"text-align:right;\">2020-06-18 18:52</td></tr>"
      ]
     },
     "execution_count": 763,
     "metadata": {},
     "output_type": "execute_result"
    }
   ],
   "source": [
    "filas=soup.find(\"tbody\").find_all(\"tr\")[1:]\n",
    "filas[1]"
   ]
  },
  {
   "cell_type": "code",
   "execution_count": 754,
   "metadata": {},
   "outputs": [
    {
     "data": {
      "text/plain": [
       "{'data': '2020-06-18',\n",
       " 'time': '18:45',\n",
       " 'latitude': '35.53',\n",
       " 'longitude': '96.78',\n",
       " 'region name': 'OKLAHOMA'}"
      ]
     },
     "execution_count": 754,
     "metadata": {},
     "output_type": "execute_result"
    }
   ],
   "source": [
    "fila=filas[0]\n",
    "def terremoto(fila):\n",
    "    celdas=fila.find_all(\"td\")\n",
    "    data={\n",
    "    \"data\":celdas[12].text.split()[0],\n",
    "    \"time\":celdas[12].text.split()[1],\n",
    "    \"latitude\":celdas[4].text.strip(),\n",
    "    \"longitude\":celdas[6].text.strip(),\n",
    "    \"region name\":celdas[11].text.strip()\n",
    "    \n",
    "    }\n",
    "    return data\n",
    "\n",
    "\n",
    "data"
   ]
  },
  {
   "cell_type": "code",
   "execution_count": 755,
   "metadata": {},
   "outputs": [
    {
     "data": {
      "text/plain": [
       "[{'data': '2020-06-18',\n",
       "  'time': '18:45',\n",
       "  'latitude': '35.53',\n",
       "  'longitude': '96.78',\n",
       "  'region name': 'OKLAHOMA'},\n",
       " {'data': '2020-06-18',\n",
       "  'time': '18:52',\n",
       "  'latitude': '18.00',\n",
       "  'longitude': '66.94',\n",
       "  'region name': 'PUERTO RICO'},\n",
       " {'data': '2020-06-18',\n",
       "  'time': '18:28',\n",
       "  'latitude': '36.19',\n",
       "  'longitude': '120.76',\n",
       "  'region name': 'CENTRAL CALIFORNIA'},\n",
       " {'data': '2020-06-18',\n",
       "  'time': '18:16',\n",
       "  'latitude': '35.65',\n",
       "  'longitude': '117.44',\n",
       "  'region name': 'SOUTHERN CALIFORNIA'},\n",
       " {'data': '2020-06-18',\n",
       "  'time': '18:32',\n",
       "  'latitude': '39.39',\n",
       "  'longitude': '40.69',\n",
       "  'region name': 'EASTERN TURKEY'},\n",
       " {'data': '2020-06-18',\n",
       "  'time': '18:23',\n",
       "  'latitude': '38.18',\n",
       "  'longitude': '117.76',\n",
       "  'region name': 'NEVADA'},\n",
       " {'data': '2020-06-18',\n",
       "  'time': '18:03',\n",
       "  'latitude': '39.36',\n",
       "  'longitude': '40.68',\n",
       "  'region name': 'EASTERN TURKEY'},\n",
       " {'data': '2020-06-18',\n",
       "  'time': '18:16',\n",
       "  'latitude': '19.37',\n",
       "  'longitude': '71.27',\n",
       "  'region name': 'DOMINICAN REPUBLIC'},\n",
       " {'data': '2020-06-18',\n",
       "  'time': '18:38',\n",
       "  'latitude': '36.13',\n",
       "  'longitude': '26.56',\n",
       "  'region name': 'DODECANESE ISLANDS, GREECE'},\n",
       " {'data': '2020-06-18',\n",
       "  'time': '17:46',\n",
       "  'latitude': '38.44',\n",
       "  'longitude': '39.28',\n",
       "  'region name': 'EASTERN TURKEY'},\n",
       " {'data': '2020-06-18',\n",
       "  'time': '17:20',\n",
       "  'latitude': '24.94',\n",
       "  'longitude': '123.34',\n",
       "  'region name': 'SOUTHWESTERN RYUKYU ISL., JAPAN'},\n",
       " {'data': '2020-06-18',\n",
       "  'time': '17:54',\n",
       "  'latitude': '24.76',\n",
       "  'longitude': '123.23',\n",
       "  'region name': 'SOUTHWESTERN RYUKYU ISL., JAPAN'},\n",
       " {'data': '2020-06-18',\n",
       "  'time': '16:56',\n",
       "  'latitude': '20.25',\n",
       "  'longitude': '69.08',\n",
       "  'region name': 'TARAPACA, CHILE'},\n",
       " {'data': '2020-06-18',\n",
       "  'time': '17:37',\n",
       "  'latitude': '6.79',\n",
       "  'longitude': '82.26',\n",
       "  'region name': 'SOUTH OF PANAMA'},\n",
       " {'data': '2020-06-18',\n",
       "  'time': '16:46',\n",
       "  'latitude': '17.95',\n",
       "  'longitude': '66.82',\n",
       "  'region name': 'PUERTO RICO REGION'},\n",
       " {'data': '2020-06-18',\n",
       "  'time': '16:25',\n",
       "  'latitude': '35.60',\n",
       "  'longitude': '117.41',\n",
       "  'region name': 'SOUTHERN CALIFORNIA'},\n",
       " {'data': '2020-06-18',\n",
       "  'time': '16:46',\n",
       "  'latitude': '17.90',\n",
       "  'longitude': '66.75',\n",
       "  'region name': 'PUERTO RICO REGION'},\n",
       " {'data': '2020-06-18',\n",
       "  'time': '16:27',\n",
       "  'latitude': '33.52',\n",
       "  'longitude': '177.85',\n",
       "  'region name': 'SOUTH OF KERMADEC ISLANDS'},\n",
       " {'data': '2020-06-18',\n",
       "  'time': '16:08',\n",
       "  'latitude': '40.35',\n",
       "  'longitude': '124.32',\n",
       "  'region name': 'NORTHERN CALIFORNIA'},\n",
       " {'data': '2020-06-18',\n",
       "  'time': '15:44',\n",
       "  'latitude': '45.64',\n",
       "  'longitude': '26.47',\n",
       "  'region name': 'ROMANIA'},\n",
       " {'data': '2020-06-18',\n",
       "  'time': '16:46',\n",
       "  'latitude': '46.88',\n",
       "  'longitude': '10.89',\n",
       "  'region name': 'SOUTHERN MID-ATLANTIC RIDGE'},\n",
       " {'data': '2020-06-18',\n",
       "  'time': '15:43',\n",
       "  'latitude': '38.15',\n",
       "  'longitude': '118.00',\n",
       "  'region name': 'NEVADA'},\n",
       " {'data': '2020-06-18',\n",
       "  'time': '15:44',\n",
       "  'latitude': '33.33',\n",
       "  'longitude': '177.98',\n",
       "  'region name': 'SOUTH OF KERMADEC ISLANDS'},\n",
       " {'data': '2020-06-18',\n",
       "  'time': '15:31',\n",
       "  'latitude': '9.44',\n",
       "  'longitude': '83.64',\n",
       "  'region name': 'COSTA RICA'},\n",
       " {'data': '2020-06-18',\n",
       "  'time': '16:34',\n",
       "  'latitude': '33.21',\n",
       "  'longitude': '178.00',\n",
       "  'region name': 'SOUTH OF KERMADEC ISLANDS'},\n",
       " {'data': '2020-06-18',\n",
       "  'time': '15:15',\n",
       "  'latitude': '9.30',\n",
       "  'longitude': '84.12',\n",
       "  'region name': 'COSTA RICA'},\n",
       " {'data': '2020-06-18',\n",
       "  'time': '14:22',\n",
       "  'latitude': '47.63',\n",
       "  'longitude': '8.08',\n",
       "  'region name': 'GERMANY'},\n",
       " {'data': '2020-06-18',\n",
       "  'time': '14:29',\n",
       "  'latitude': '26.62',\n",
       "  'longitude': '178.52',\n",
       "  'region name': 'SOUTH OF FIJI ISLANDS'},\n",
       " {'data': '2020-06-18',\n",
       "  'time': '14:28',\n",
       "  'latitude': '22.37',\n",
       "  'longitude': '94.43',\n",
       "  'region name': 'MYANMAR'},\n",
       " {'data': '2020-06-18',\n",
       "  'time': '14:06',\n",
       "  'latitude': '8.99',\n",
       "  'longitude': '111.39',\n",
       "  'region name': 'JAVA, INDONESIA'},\n",
       " {'data': '2020-06-18',\n",
       "  'time': '14:06',\n",
       "  'latitude': '6.34',\n",
       "  'longitude': '104.92',\n",
       "  'region name': 'SUNDA STRAIT, INDONESIA'},\n",
       " {'data': '2020-06-18',\n",
       "  'time': '13:46',\n",
       "  'latitude': '38.03',\n",
       "  'longitude': '118.82',\n",
       "  'region name': 'CENTRAL CALIFORNIA'},\n",
       " {'data': '2020-06-18',\n",
       "  'time': '14:30',\n",
       "  'latitude': '56.21',\n",
       "  'longitude': '149.17',\n",
       "  'region name': 'GULF OF ALASKA'},\n",
       " {'data': '2020-06-18',\n",
       "  'time': '14:04',\n",
       "  'latitude': '37.27',\n",
       "  'longitude': '43.00',\n",
       "  'region name': 'TURKEY-IRAQ BORDER REGION'},\n",
       " {'data': '2020-06-18',\n",
       "  'time': '13:20',\n",
       "  'latitude': '65.85',\n",
       "  'longitude': '18.14',\n",
       "  'region name': 'ICELAND'},\n",
       " {'data': '2020-06-18',\n",
       "  'time': '13:54',\n",
       "  'latitude': '40.83',\n",
       "  'longitude': '27.96',\n",
       "  'region name': 'WESTERN TURKEY'},\n",
       " {'data': '2020-06-18',\n",
       "  'time': '14:27',\n",
       "  'latitude': '39.10',\n",
       "  'longitude': '29.04',\n",
       "  'region name': 'WESTERN TURKEY'},\n",
       " {'data': '2020-06-18',\n",
       "  'time': '13:28',\n",
       "  'latitude': '35.88',\n",
       "  'longitude': '37.03',\n",
       "  'region name': 'SYRIA'},\n",
       " {'data': '2020-06-18',\n",
       "  'time': '15:48',\n",
       "  'latitude': '33.41',\n",
       "  'longitude': '177.81',\n",
       "  'region name': 'SOUTH OF KERMADEC ISLANDS'},\n",
       " {'data': '2020-06-18',\n",
       "  'time': '13:02',\n",
       "  'latitude': '6.37',\n",
       "  'longitude': '104.94',\n",
       "  'region name': 'SUNDA STRAIT, INDONESIA'},\n",
       " {'data': '2020-06-18',\n",
       "  'time': '12:39',\n",
       "  'latitude': '18.96',\n",
       "  'longitude': '70.71',\n",
       "  'region name': 'OFFSHORE TARAPACA, CHILE'},\n",
       " {'data': '2020-06-18',\n",
       "  'time': '12:40',\n",
       "  'latitude': '17.95',\n",
       "  'longitude': '66.82',\n",
       "  'region name': 'PUERTO RICO REGION'},\n",
       " {'data': '2020-06-18',\n",
       "  'time': '12:40',\n",
       "  'latitude': '17.95',\n",
       "  'longitude': '66.82',\n",
       "  'region name': 'PUERTO RICO REGION'},\n",
       " {'data': '2020-06-18',\n",
       "  'time': '12:34',\n",
       "  'latitude': '18.49',\n",
       "  'longitude': '70.90',\n",
       "  'region name': 'OFFSHORE TARAPACA, CHILE'},\n",
       " {'data': '2020-06-18',\n",
       "  'time': '12:00',\n",
       "  'latitude': '6.36',\n",
       "  'longitude': '104.95',\n",
       "  'region name': 'SUNDA STRAIT, INDONESIA'},\n",
       " {'data': '2020-06-18',\n",
       "  'time': '14:27',\n",
       "  'latitude': '20.78',\n",
       "  'longitude': '173.93',\n",
       "  'region name': 'TONGA'},\n",
       " {'data': '2020-06-18',\n",
       "  'time': '12:00',\n",
       "  'latitude': '13.14',\n",
       "  'longitude': '120.88',\n",
       "  'region name': 'MINDORO, PHILIPPINES'},\n",
       " {'data': '2020-06-18',\n",
       "  'time': '12:31',\n",
       "  'latitude': '30.77',\n",
       "  'longitude': '72.10',\n",
       "  'region name': 'OFFSHORE COQUIMBO, CHILE'},\n",
       " {'data': '2020-06-18',\n",
       "  'time': '12:06',\n",
       "  'latitude': '17.92',\n",
       "  'longitude': '66.96',\n",
       "  'region name': 'PUERTO RICO REGION'}]"
      ]
     },
     "execution_count": 755,
     "metadata": {},
     "output_type": "execute_result"
    }
   ],
   "source": [
    "datos=[ terremoto (fila) for fila in filas]\n",
    "datos"
   ]
  },
  {
   "cell_type": "code",
   "execution_count": 756,
   "metadata": {},
   "outputs": [],
   "source": [
    "import pandas as pd\n",
    "\n",
    "df=pd.DataFrame(datos)"
   ]
  },
  {
   "cell_type": "code",
   "execution_count": 757,
   "metadata": {},
   "outputs": [
    {
     "data": {
      "text/html": [
       "<div>\n",
       "<style scoped>\n",
       "    .dataframe tbody tr th:only-of-type {\n",
       "        vertical-align: middle;\n",
       "    }\n",
       "\n",
       "    .dataframe tbody tr th {\n",
       "        vertical-align: top;\n",
       "    }\n",
       "\n",
       "    .dataframe thead th {\n",
       "        text-align: right;\n",
       "    }\n",
       "</style>\n",
       "<table border=\"1\" class=\"dataframe\">\n",
       "  <thead>\n",
       "    <tr style=\"text-align: right;\">\n",
       "      <th></th>\n",
       "      <th>data</th>\n",
       "      <th>time</th>\n",
       "      <th>latitude</th>\n",
       "      <th>longitude</th>\n",
       "      <th>region name</th>\n",
       "    </tr>\n",
       "  </thead>\n",
       "  <tbody>\n",
       "    <tr>\n",
       "      <th>0</th>\n",
       "      <td>2020-06-18</td>\n",
       "      <td>18:45</td>\n",
       "      <td>35.53</td>\n",
       "      <td>96.78</td>\n",
       "      <td>OKLAHOMA</td>\n",
       "    </tr>\n",
       "    <tr>\n",
       "      <th>1</th>\n",
       "      <td>2020-06-18</td>\n",
       "      <td>18:52</td>\n",
       "      <td>18.00</td>\n",
       "      <td>66.94</td>\n",
       "      <td>PUERTO RICO</td>\n",
       "    </tr>\n",
       "    <tr>\n",
       "      <th>2</th>\n",
       "      <td>2020-06-18</td>\n",
       "      <td>18:28</td>\n",
       "      <td>36.19</td>\n",
       "      <td>120.76</td>\n",
       "      <td>CENTRAL CALIFORNIA</td>\n",
       "    </tr>\n",
       "    <tr>\n",
       "      <th>3</th>\n",
       "      <td>2020-06-18</td>\n",
       "      <td>18:16</td>\n",
       "      <td>35.65</td>\n",
       "      <td>117.44</td>\n",
       "      <td>SOUTHERN CALIFORNIA</td>\n",
       "    </tr>\n",
       "    <tr>\n",
       "      <th>4</th>\n",
       "      <td>2020-06-18</td>\n",
       "      <td>18:32</td>\n",
       "      <td>39.39</td>\n",
       "      <td>40.69</td>\n",
       "      <td>EASTERN TURKEY</td>\n",
       "    </tr>\n",
       "    <tr>\n",
       "      <th>5</th>\n",
       "      <td>2020-06-18</td>\n",
       "      <td>18:23</td>\n",
       "      <td>38.18</td>\n",
       "      <td>117.76</td>\n",
       "      <td>NEVADA</td>\n",
       "    </tr>\n",
       "    <tr>\n",
       "      <th>6</th>\n",
       "      <td>2020-06-18</td>\n",
       "      <td>18:03</td>\n",
       "      <td>39.36</td>\n",
       "      <td>40.68</td>\n",
       "      <td>EASTERN TURKEY</td>\n",
       "    </tr>\n",
       "    <tr>\n",
       "      <th>7</th>\n",
       "      <td>2020-06-18</td>\n",
       "      <td>18:16</td>\n",
       "      <td>19.37</td>\n",
       "      <td>71.27</td>\n",
       "      <td>DOMINICAN REPUBLIC</td>\n",
       "    </tr>\n",
       "    <tr>\n",
       "      <th>8</th>\n",
       "      <td>2020-06-18</td>\n",
       "      <td>18:38</td>\n",
       "      <td>36.13</td>\n",
       "      <td>26.56</td>\n",
       "      <td>DODECANESE ISLANDS, GREECE</td>\n",
       "    </tr>\n",
       "    <tr>\n",
       "      <th>9</th>\n",
       "      <td>2020-06-18</td>\n",
       "      <td>17:46</td>\n",
       "      <td>38.44</td>\n",
       "      <td>39.28</td>\n",
       "      <td>EASTERN TURKEY</td>\n",
       "    </tr>\n",
       "    <tr>\n",
       "      <th>10</th>\n",
       "      <td>2020-06-18</td>\n",
       "      <td>17:20</td>\n",
       "      <td>24.94</td>\n",
       "      <td>123.34</td>\n",
       "      <td>SOUTHWESTERN RYUKYU ISL., JAPAN</td>\n",
       "    </tr>\n",
       "    <tr>\n",
       "      <th>11</th>\n",
       "      <td>2020-06-18</td>\n",
       "      <td>17:54</td>\n",
       "      <td>24.76</td>\n",
       "      <td>123.23</td>\n",
       "      <td>SOUTHWESTERN RYUKYU ISL., JAPAN</td>\n",
       "    </tr>\n",
       "    <tr>\n",
       "      <th>12</th>\n",
       "      <td>2020-06-18</td>\n",
       "      <td>16:56</td>\n",
       "      <td>20.25</td>\n",
       "      <td>69.08</td>\n",
       "      <td>TARAPACA, CHILE</td>\n",
       "    </tr>\n",
       "    <tr>\n",
       "      <th>13</th>\n",
       "      <td>2020-06-18</td>\n",
       "      <td>17:37</td>\n",
       "      <td>6.79</td>\n",
       "      <td>82.26</td>\n",
       "      <td>SOUTH OF PANAMA</td>\n",
       "    </tr>\n",
       "    <tr>\n",
       "      <th>14</th>\n",
       "      <td>2020-06-18</td>\n",
       "      <td>16:46</td>\n",
       "      <td>17.95</td>\n",
       "      <td>66.82</td>\n",
       "      <td>PUERTO RICO REGION</td>\n",
       "    </tr>\n",
       "    <tr>\n",
       "      <th>15</th>\n",
       "      <td>2020-06-18</td>\n",
       "      <td>16:25</td>\n",
       "      <td>35.60</td>\n",
       "      <td>117.41</td>\n",
       "      <td>SOUTHERN CALIFORNIA</td>\n",
       "    </tr>\n",
       "    <tr>\n",
       "      <th>16</th>\n",
       "      <td>2020-06-18</td>\n",
       "      <td>16:46</td>\n",
       "      <td>17.90</td>\n",
       "      <td>66.75</td>\n",
       "      <td>PUERTO RICO REGION</td>\n",
       "    </tr>\n",
       "    <tr>\n",
       "      <th>17</th>\n",
       "      <td>2020-06-18</td>\n",
       "      <td>16:27</td>\n",
       "      <td>33.52</td>\n",
       "      <td>177.85</td>\n",
       "      <td>SOUTH OF KERMADEC ISLANDS</td>\n",
       "    </tr>\n",
       "    <tr>\n",
       "      <th>18</th>\n",
       "      <td>2020-06-18</td>\n",
       "      <td>16:08</td>\n",
       "      <td>40.35</td>\n",
       "      <td>124.32</td>\n",
       "      <td>NORTHERN CALIFORNIA</td>\n",
       "    </tr>\n",
       "    <tr>\n",
       "      <th>19</th>\n",
       "      <td>2020-06-18</td>\n",
       "      <td>15:44</td>\n",
       "      <td>45.64</td>\n",
       "      <td>26.47</td>\n",
       "      <td>ROMANIA</td>\n",
       "    </tr>\n",
       "    <tr>\n",
       "      <th>20</th>\n",
       "      <td>2020-06-18</td>\n",
       "      <td>16:46</td>\n",
       "      <td>46.88</td>\n",
       "      <td>10.89</td>\n",
       "      <td>SOUTHERN MID-ATLANTIC RIDGE</td>\n",
       "    </tr>\n",
       "    <tr>\n",
       "      <th>21</th>\n",
       "      <td>2020-06-18</td>\n",
       "      <td>15:43</td>\n",
       "      <td>38.15</td>\n",
       "      <td>118.00</td>\n",
       "      <td>NEVADA</td>\n",
       "    </tr>\n",
       "    <tr>\n",
       "      <th>22</th>\n",
       "      <td>2020-06-18</td>\n",
       "      <td>15:44</td>\n",
       "      <td>33.33</td>\n",
       "      <td>177.98</td>\n",
       "      <td>SOUTH OF KERMADEC ISLANDS</td>\n",
       "    </tr>\n",
       "    <tr>\n",
       "      <th>23</th>\n",
       "      <td>2020-06-18</td>\n",
       "      <td>15:31</td>\n",
       "      <td>9.44</td>\n",
       "      <td>83.64</td>\n",
       "      <td>COSTA RICA</td>\n",
       "    </tr>\n",
       "    <tr>\n",
       "      <th>24</th>\n",
       "      <td>2020-06-18</td>\n",
       "      <td>16:34</td>\n",
       "      <td>33.21</td>\n",
       "      <td>178.00</td>\n",
       "      <td>SOUTH OF KERMADEC ISLANDS</td>\n",
       "    </tr>\n",
       "    <tr>\n",
       "      <th>25</th>\n",
       "      <td>2020-06-18</td>\n",
       "      <td>15:15</td>\n",
       "      <td>9.30</td>\n",
       "      <td>84.12</td>\n",
       "      <td>COSTA RICA</td>\n",
       "    </tr>\n",
       "    <tr>\n",
       "      <th>26</th>\n",
       "      <td>2020-06-18</td>\n",
       "      <td>14:22</td>\n",
       "      <td>47.63</td>\n",
       "      <td>8.08</td>\n",
       "      <td>GERMANY</td>\n",
       "    </tr>\n",
       "    <tr>\n",
       "      <th>27</th>\n",
       "      <td>2020-06-18</td>\n",
       "      <td>14:29</td>\n",
       "      <td>26.62</td>\n",
       "      <td>178.52</td>\n",
       "      <td>SOUTH OF FIJI ISLANDS</td>\n",
       "    </tr>\n",
       "    <tr>\n",
       "      <th>28</th>\n",
       "      <td>2020-06-18</td>\n",
       "      <td>14:28</td>\n",
       "      <td>22.37</td>\n",
       "      <td>94.43</td>\n",
       "      <td>MYANMAR</td>\n",
       "    </tr>\n",
       "    <tr>\n",
       "      <th>29</th>\n",
       "      <td>2020-06-18</td>\n",
       "      <td>14:06</td>\n",
       "      <td>8.99</td>\n",
       "      <td>111.39</td>\n",
       "      <td>JAVA, INDONESIA</td>\n",
       "    </tr>\n",
       "    <tr>\n",
       "      <th>30</th>\n",
       "      <td>2020-06-18</td>\n",
       "      <td>14:06</td>\n",
       "      <td>6.34</td>\n",
       "      <td>104.92</td>\n",
       "      <td>SUNDA STRAIT, INDONESIA</td>\n",
       "    </tr>\n",
       "    <tr>\n",
       "      <th>31</th>\n",
       "      <td>2020-06-18</td>\n",
       "      <td>13:46</td>\n",
       "      <td>38.03</td>\n",
       "      <td>118.82</td>\n",
       "      <td>CENTRAL CALIFORNIA</td>\n",
       "    </tr>\n",
       "    <tr>\n",
       "      <th>32</th>\n",
       "      <td>2020-06-18</td>\n",
       "      <td>14:30</td>\n",
       "      <td>56.21</td>\n",
       "      <td>149.17</td>\n",
       "      <td>GULF OF ALASKA</td>\n",
       "    </tr>\n",
       "    <tr>\n",
       "      <th>33</th>\n",
       "      <td>2020-06-18</td>\n",
       "      <td>14:04</td>\n",
       "      <td>37.27</td>\n",
       "      <td>43.00</td>\n",
       "      <td>TURKEY-IRAQ BORDER REGION</td>\n",
       "    </tr>\n",
       "    <tr>\n",
       "      <th>34</th>\n",
       "      <td>2020-06-18</td>\n",
       "      <td>13:20</td>\n",
       "      <td>65.85</td>\n",
       "      <td>18.14</td>\n",
       "      <td>ICELAND</td>\n",
       "    </tr>\n",
       "    <tr>\n",
       "      <th>35</th>\n",
       "      <td>2020-06-18</td>\n",
       "      <td>13:54</td>\n",
       "      <td>40.83</td>\n",
       "      <td>27.96</td>\n",
       "      <td>WESTERN TURKEY</td>\n",
       "    </tr>\n",
       "    <tr>\n",
       "      <th>36</th>\n",
       "      <td>2020-06-18</td>\n",
       "      <td>14:27</td>\n",
       "      <td>39.10</td>\n",
       "      <td>29.04</td>\n",
       "      <td>WESTERN TURKEY</td>\n",
       "    </tr>\n",
       "    <tr>\n",
       "      <th>37</th>\n",
       "      <td>2020-06-18</td>\n",
       "      <td>13:28</td>\n",
       "      <td>35.88</td>\n",
       "      <td>37.03</td>\n",
       "      <td>SYRIA</td>\n",
       "    </tr>\n",
       "    <tr>\n",
       "      <th>38</th>\n",
       "      <td>2020-06-18</td>\n",
       "      <td>15:48</td>\n",
       "      <td>33.41</td>\n",
       "      <td>177.81</td>\n",
       "      <td>SOUTH OF KERMADEC ISLANDS</td>\n",
       "    </tr>\n",
       "    <tr>\n",
       "      <th>39</th>\n",
       "      <td>2020-06-18</td>\n",
       "      <td>13:02</td>\n",
       "      <td>6.37</td>\n",
       "      <td>104.94</td>\n",
       "      <td>SUNDA STRAIT, INDONESIA</td>\n",
       "    </tr>\n",
       "    <tr>\n",
       "      <th>40</th>\n",
       "      <td>2020-06-18</td>\n",
       "      <td>12:39</td>\n",
       "      <td>18.96</td>\n",
       "      <td>70.71</td>\n",
       "      <td>OFFSHORE TARAPACA, CHILE</td>\n",
       "    </tr>\n",
       "    <tr>\n",
       "      <th>41</th>\n",
       "      <td>2020-06-18</td>\n",
       "      <td>12:40</td>\n",
       "      <td>17.95</td>\n",
       "      <td>66.82</td>\n",
       "      <td>PUERTO RICO REGION</td>\n",
       "    </tr>\n",
       "    <tr>\n",
       "      <th>42</th>\n",
       "      <td>2020-06-18</td>\n",
       "      <td>12:40</td>\n",
       "      <td>17.95</td>\n",
       "      <td>66.82</td>\n",
       "      <td>PUERTO RICO REGION</td>\n",
       "    </tr>\n",
       "    <tr>\n",
       "      <th>43</th>\n",
       "      <td>2020-06-18</td>\n",
       "      <td>12:34</td>\n",
       "      <td>18.49</td>\n",
       "      <td>70.90</td>\n",
       "      <td>OFFSHORE TARAPACA, CHILE</td>\n",
       "    </tr>\n",
       "    <tr>\n",
       "      <th>44</th>\n",
       "      <td>2020-06-18</td>\n",
       "      <td>12:00</td>\n",
       "      <td>6.36</td>\n",
       "      <td>104.95</td>\n",
       "      <td>SUNDA STRAIT, INDONESIA</td>\n",
       "    </tr>\n",
       "    <tr>\n",
       "      <th>45</th>\n",
       "      <td>2020-06-18</td>\n",
       "      <td>14:27</td>\n",
       "      <td>20.78</td>\n",
       "      <td>173.93</td>\n",
       "      <td>TONGA</td>\n",
       "    </tr>\n",
       "    <tr>\n",
       "      <th>46</th>\n",
       "      <td>2020-06-18</td>\n",
       "      <td>12:00</td>\n",
       "      <td>13.14</td>\n",
       "      <td>120.88</td>\n",
       "      <td>MINDORO, PHILIPPINES</td>\n",
       "    </tr>\n",
       "    <tr>\n",
       "      <th>47</th>\n",
       "      <td>2020-06-18</td>\n",
       "      <td>12:31</td>\n",
       "      <td>30.77</td>\n",
       "      <td>72.10</td>\n",
       "      <td>OFFSHORE COQUIMBO, CHILE</td>\n",
       "    </tr>\n",
       "    <tr>\n",
       "      <th>48</th>\n",
       "      <td>2020-06-18</td>\n",
       "      <td>12:06</td>\n",
       "      <td>17.92</td>\n",
       "      <td>66.96</td>\n",
       "      <td>PUERTO RICO REGION</td>\n",
       "    </tr>\n",
       "  </tbody>\n",
       "</table>\n",
       "</div>"
      ],
      "text/plain": [
       "          data   time latitude longitude                      region name\n",
       "0   2020-06-18  18:45    35.53     96.78                         OKLAHOMA\n",
       "1   2020-06-18  18:52    18.00     66.94                      PUERTO RICO\n",
       "2   2020-06-18  18:28    36.19    120.76               CENTRAL CALIFORNIA\n",
       "3   2020-06-18  18:16    35.65    117.44              SOUTHERN CALIFORNIA\n",
       "4   2020-06-18  18:32    39.39     40.69                   EASTERN TURKEY\n",
       "5   2020-06-18  18:23    38.18    117.76                           NEVADA\n",
       "6   2020-06-18  18:03    39.36     40.68                   EASTERN TURKEY\n",
       "7   2020-06-18  18:16    19.37     71.27               DOMINICAN REPUBLIC\n",
       "8   2020-06-18  18:38    36.13     26.56       DODECANESE ISLANDS, GREECE\n",
       "9   2020-06-18  17:46    38.44     39.28                   EASTERN TURKEY\n",
       "10  2020-06-18  17:20    24.94    123.34  SOUTHWESTERN RYUKYU ISL., JAPAN\n",
       "11  2020-06-18  17:54    24.76    123.23  SOUTHWESTERN RYUKYU ISL., JAPAN\n",
       "12  2020-06-18  16:56    20.25     69.08                  TARAPACA, CHILE\n",
       "13  2020-06-18  17:37     6.79     82.26                  SOUTH OF PANAMA\n",
       "14  2020-06-18  16:46    17.95     66.82               PUERTO RICO REGION\n",
       "15  2020-06-18  16:25    35.60    117.41              SOUTHERN CALIFORNIA\n",
       "16  2020-06-18  16:46    17.90     66.75               PUERTO RICO REGION\n",
       "17  2020-06-18  16:27    33.52    177.85        SOUTH OF KERMADEC ISLANDS\n",
       "18  2020-06-18  16:08    40.35    124.32              NORTHERN CALIFORNIA\n",
       "19  2020-06-18  15:44    45.64     26.47                          ROMANIA\n",
       "20  2020-06-18  16:46    46.88     10.89      SOUTHERN MID-ATLANTIC RIDGE\n",
       "21  2020-06-18  15:43    38.15    118.00                           NEVADA\n",
       "22  2020-06-18  15:44    33.33    177.98        SOUTH OF KERMADEC ISLANDS\n",
       "23  2020-06-18  15:31     9.44     83.64                       COSTA RICA\n",
       "24  2020-06-18  16:34    33.21    178.00        SOUTH OF KERMADEC ISLANDS\n",
       "25  2020-06-18  15:15     9.30     84.12                       COSTA RICA\n",
       "26  2020-06-18  14:22    47.63      8.08                          GERMANY\n",
       "27  2020-06-18  14:29    26.62    178.52            SOUTH OF FIJI ISLANDS\n",
       "28  2020-06-18  14:28    22.37     94.43                          MYANMAR\n",
       "29  2020-06-18  14:06     8.99    111.39                  JAVA, INDONESIA\n",
       "30  2020-06-18  14:06     6.34    104.92          SUNDA STRAIT, INDONESIA\n",
       "31  2020-06-18  13:46    38.03    118.82               CENTRAL CALIFORNIA\n",
       "32  2020-06-18  14:30    56.21    149.17                   GULF OF ALASKA\n",
       "33  2020-06-18  14:04    37.27     43.00        TURKEY-IRAQ BORDER REGION\n",
       "34  2020-06-18  13:20    65.85     18.14                          ICELAND\n",
       "35  2020-06-18  13:54    40.83     27.96                   WESTERN TURKEY\n",
       "36  2020-06-18  14:27    39.10     29.04                   WESTERN TURKEY\n",
       "37  2020-06-18  13:28    35.88     37.03                            SYRIA\n",
       "38  2020-06-18  15:48    33.41    177.81        SOUTH OF KERMADEC ISLANDS\n",
       "39  2020-06-18  13:02     6.37    104.94          SUNDA STRAIT, INDONESIA\n",
       "40  2020-06-18  12:39    18.96     70.71         OFFSHORE TARAPACA, CHILE\n",
       "41  2020-06-18  12:40    17.95     66.82               PUERTO RICO REGION\n",
       "42  2020-06-18  12:40    17.95     66.82               PUERTO RICO REGION\n",
       "43  2020-06-18  12:34    18.49     70.90         OFFSHORE TARAPACA, CHILE\n",
       "44  2020-06-18  12:00     6.36    104.95          SUNDA STRAIT, INDONESIA\n",
       "45  2020-06-18  14:27    20.78    173.93                            TONGA\n",
       "46  2020-06-18  12:00    13.14    120.88             MINDORO, PHILIPPINES\n",
       "47  2020-06-18  12:31    30.77     72.10         OFFSHORE COQUIMBO, CHILE\n",
       "48  2020-06-18  12:06    17.92     66.96               PUERTO RICO REGION"
      ]
     },
     "execution_count": 757,
     "metadata": {},
     "output_type": "execute_result"
    }
   ],
   "source": [
    "df"
   ]
  },
  {
   "cell_type": "code",
   "execution_count": 621,
   "metadata": {},
   "outputs": [],
   "source": [
    "# This is the url you will scrape in this exercise\n",
    "url ='https://hackevents.co/hackathons'"
   ]
  },
  {
   "cell_type": "code",
   "execution_count": null,
   "metadata": {},
   "outputs": [],
   "source": [
    "#your code"
   ]
  },
  {
   "cell_type": "markdown",
   "metadata": {},
   "source": [
    "#### Count number of tweets by a given Twitter account."
   ]
  },
  {
   "cell_type": "markdown",
   "metadata": {},
   "source": [
    "You will need to include a ***try/except block*** for account names not found. \n",
    "<br>***Hint:*** the program should count the number of tweets for any provided account"
   ]
  },
  {
   "cell_type": "code",
   "execution_count": null,
   "metadata": {},
   "outputs": [],
   "source": [
    "# This is the url you will scrape in this exercise \n",
    "# You will need to add the account credentials to this url\n",
    "url = 'https://twitter.com/'"
   ]
  },
  {
   "cell_type": "code",
   "execution_count": 782,
   "metadata": {},
   "outputs": [
    {
     "data": {
      "text/plain": [
       "[]"
      ]
     },
     "execution_count": 782,
     "metadata": {},
     "output_type": "execute_result"
    }
   ],
   "source": [
    "#your code\n",
    "html=requests.get(\"https://twitter.com/IbaiLlanos\").text\n",
    "soup=BeautifulSoup(html)\n",
    "soup.select(\"articule\")"
   ]
  },
  {
   "cell_type": "markdown",
   "metadata": {},
   "source": [
    "#### Number of followers of a given twitter account"
   ]
  },
  {
   "cell_type": "markdown",
   "metadata": {},
   "source": [
    "You will need to include a ***try/except block*** in case account/s name not found. \n",
    "<br>***Hint:*** the program should count the followers for any provided account"
   ]
  },
  {
   "cell_type": "code",
   "execution_count": null,
   "metadata": {},
   "outputs": [],
   "source": [
    "# This is the url you will scrape in this exercise \n",
    "# You will need to add the account credentials to this url\n",
    "url = 'https://twitter.com/'"
   ]
  },
  {
   "cell_type": "code",
   "execution_count": null,
   "metadata": {},
   "outputs": [],
   "source": [
    "#your code"
   ]
  },
  {
   "cell_type": "markdown",
   "metadata": {},
   "source": [
    "#### List all language names and number of related articles in the order they appear in wikipedia.org"
   ]
  },
  {
   "cell_type": "code",
   "execution_count": null,
   "metadata": {},
   "outputs": [],
   "source": [
    "# This is the url you will scrape in this exercise\n",
    "url = 'https://www.wikipedia.org/'"
   ]
  },
  {
   "cell_type": "code",
   "execution_count": 836,
   "metadata": {},
   "outputs": [
    {
     "data": {
      "text/plain": [
       "'English'"
      ]
     },
     "execution_count": 836,
     "metadata": {},
     "output_type": "execute_result"
    }
   ],
   "source": [
    "#your code\n",
    "html=requests.get(\"https://www.wikipedia.org\").text\n",
    "soup=BeautifulSoup(html)\n",
    "\n",
    "soup.select(\".central-featured\")[0].find_all(\"strong\")[0].text"
   ]
  },
  {
   "cell_type": "code",
   "execution_count": 840,
   "metadata": {},
   "outputs": [],
   "source": [
    "def lengulink(n):\n",
    "    lengua=soup.select(\".central-featured\")[0].find_all(\"strong\")[n].text\n",
    "    link=soup.select(\".central-featured\")[0].find_all(\"a\")[n][\"href\"]\n",
    "    return lengua, link"
   ]
  },
  {
   "cell_type": "code",
   "execution_count": 843,
   "metadata": {},
   "outputs": [
    {
     "data": {
      "text/plain": [
       "[('English', '//en.wikipedia.org/'),\n",
       " ('æ\\x97¥æ\\x9c¬èª\\x9e', '//ja.wikipedia.org/'),\n",
       " ('EspaÃ±ol', '//es.wikipedia.org/'),\n",
       " ('Deutsch', '//de.wikipedia.org/'),\n",
       " ('Ð\\xa0Ñ\\x83Ñ\\x81Ñ\\x81ÐºÐ¸Ð¹', '//ru.wikipedia.org/'),\n",
       " ('FranÃ§ais', '//fr.wikipedia.org/'),\n",
       " ('Italiano', '//it.wikipedia.org/'),\n",
       " ('ä¸\\xadæ\\x96\\x87', '//zh.wikipedia.org/'),\n",
       " ('PortuguÃªs', '//pt.wikipedia.org/'),\n",
       " ('Polski', '//pl.wikipedia.org/')]"
      ]
     },
     "execution_count": 843,
     "metadata": {},
     "output_type": "execute_result"
    }
   ],
   "source": [
    "los=[lengulink(x)for x in range(10) ]\n",
    "los"
   ]
  },
  {
   "cell_type": "markdown",
   "metadata": {},
   "source": [
    "#### A list with the different kind of datasets available in data.gov.uk "
   ]
  },
  {
   "cell_type": "code",
   "execution_count": 857,
   "metadata": {},
   "outputs": [],
   "source": [
    "# This is the url you will scrape in this exercise\n",
    "url = 'https://data.gov.uk/'"
   ]
  },
  {
   "cell_type": "code",
   "execution_count": 904,
   "metadata": {},
   "outputs": [],
   "source": [
    "#your code \n",
    "html=requests.get(url).text\n",
    "soup=BeautifulSoup(html)\n",
    "tabla=soup.select(\".grid-row.dgu-topics\")\n",
    "clases=tabla[0].find_all(\"a\")"
   ]
  },
  {
   "cell_type": "code",
   "execution_count": 905,
   "metadata": {},
   "outputs": [
    {
     "data": {
      "text/plain": [
       "['Business and economy',\n",
       " 'Crime and justice',\n",
       " 'Defence',\n",
       " 'Education',\n",
       " 'Environment',\n",
       " 'Government',\n",
       " 'Government spending',\n",
       " 'Health',\n",
       " 'Mapping',\n",
       " 'Society',\n",
       " 'Towns and cities',\n",
       " 'Transport']"
      ]
     },
     "execution_count": 905,
     "metadata": {},
     "output_type": "execute_result"
    }
   ],
   "source": [
    "def clasecitas(clases):\n",
    "    return clases.text\n",
    "\n",
    "tipos= [clasecitas(x) for x in clases]\n",
    "tipos"
   ]
  },
  {
   "cell_type": "markdown",
   "metadata": {},
   "source": [
    "#### Top 10 languages by number of native speakers stored in a Pandas Dataframe"
   ]
  },
  {
   "cell_type": "code",
   "execution_count": 1077,
   "metadata": {},
   "outputs": [],
   "source": [
    "# This is the url you will scrape in this exercise\n",
    "url = 'https://en.wikipedia.org/wiki/List_of_languages_by_number_of_native_speakers'"
   ]
  },
  {
   "cell_type": "code",
   "execution_count": 1137,
   "metadata": {},
   "outputs": [
    {
     "data": {
      "text/plain": [
       "'Mandarin Chinese'"
      ]
     },
     "execution_count": 1137,
     "metadata": {},
     "output_type": "execute_result"
    }
   ],
   "source": [
    "#your code\n",
    "html=requests.get(url).text\n",
    "soup=BeautifulSoup(html)\n",
    "lineas=soup.find(\"tbody\").find_all(\"tr\")[1:]\n",
    "x=lineas[0].find_all(\"td\")\n",
    "x[1].find(\"a\")[\"title\"]"
   ]
  },
  {
   "cell_type": "code",
   "execution_count": 1160,
   "metadata": {},
   "outputs": [],
   "source": [
    "def hablantes(fi):\n",
    "    x=fi.find_all(\"td\")\n",
    "    return {\n",
    "        \"Language\":x[1].find(\"a\")[\"title\"],\n",
    "        \"Speaker,millions\":int(float(x[2].text.strip()))}\n",
    "\n",
    "habladore= [hablantes(speaker) for speaker in lineas]\n"
   ]
  },
  {
   "cell_type": "code",
   "execution_count": 1164,
   "metadata": {},
   "outputs": [
    {
     "data": {
      "text/html": [
       "<div>\n",
       "<style scoped>\n",
       "    .dataframe tbody tr th:only-of-type {\n",
       "        vertical-align: middle;\n",
       "    }\n",
       "\n",
       "    .dataframe tbody tr th {\n",
       "        vertical-align: top;\n",
       "    }\n",
       "\n",
       "    .dataframe thead th {\n",
       "        text-align: right;\n",
       "    }\n",
       "</style>\n",
       "<table border=\"1\" class=\"dataframe\">\n",
       "  <thead>\n",
       "    <tr style=\"text-align: right;\">\n",
       "      <th></th>\n",
       "      <th>Language</th>\n",
       "      <th>Speaker,millions</th>\n",
       "    </tr>\n",
       "  </thead>\n",
       "  <tbody>\n",
       "    <tr>\n",
       "      <th>0</th>\n",
       "      <td>Mandarin Chinese</td>\n",
       "      <td>918</td>\n",
       "    </tr>\n",
       "    <tr>\n",
       "      <th>1</th>\n",
       "      <td>Spanish language</td>\n",
       "      <td>480</td>\n",
       "    </tr>\n",
       "    <tr>\n",
       "      <th>2</th>\n",
       "      <td>English language</td>\n",
       "      <td>379</td>\n",
       "    </tr>\n",
       "    <tr>\n",
       "      <th>3</th>\n",
       "      <td>Hindi</td>\n",
       "      <td>341</td>\n",
       "    </tr>\n",
       "    <tr>\n",
       "      <th>4</th>\n",
       "      <td>Bengali language</td>\n",
       "      <td>228</td>\n",
       "    </tr>\n",
       "    <tr>\n",
       "      <th>5</th>\n",
       "      <td>Portuguese language</td>\n",
       "      <td>221</td>\n",
       "    </tr>\n",
       "    <tr>\n",
       "      <th>6</th>\n",
       "      <td>Russian language</td>\n",
       "      <td>154</td>\n",
       "    </tr>\n",
       "    <tr>\n",
       "      <th>7</th>\n",
       "      <td>Japanese language</td>\n",
       "      <td>128</td>\n",
       "    </tr>\n",
       "    <tr>\n",
       "      <th>8</th>\n",
       "      <td>Punjabi language</td>\n",
       "      <td>92</td>\n",
       "    </tr>\n",
       "    <tr>\n",
       "      <th>9</th>\n",
       "      <td>Marathi language</td>\n",
       "      <td>83</td>\n",
       "    </tr>\n",
       "  </tbody>\n",
       "</table>\n",
       "</div>"
      ],
      "text/plain": [
       "              Language  Speaker,millions\n",
       "0     Mandarin Chinese               918\n",
       "1     Spanish language               480\n",
       "2     English language               379\n",
       "3                Hindi               341\n",
       "4     Bengali language               228\n",
       "5  Portuguese language               221\n",
       "6     Russian language               154\n",
       "7    Japanese language               128\n",
       "8     Punjabi language                92\n",
       "9     Marathi language                83"
      ]
     },
     "execution_count": 1164,
     "metadata": {},
     "output_type": "execute_result"
    }
   ],
   "source": [
    "df=pd.DataFrame(habladore)\n",
    "df.sort_values(by=\"Speaker,millions\", ascending=False).head(10)"
   ]
  },
  {
   "cell_type": "markdown",
   "metadata": {},
   "source": [
    "### BONUS QUESTIONS"
   ]
  },
  {
   "cell_type": "markdown",
   "metadata": {},
   "source": [
    "#### Scrape a certain number of tweets of a given Twitter account."
   ]
  },
  {
   "cell_type": "code",
   "execution_count": null,
   "metadata": {},
   "outputs": [],
   "source": [
    "# This is the url you will scrape in this exercise \n",
    "# You will need to add the account credentials to this url\n",
    "url = 'https://twitter.com/'"
   ]
  },
  {
   "cell_type": "code",
   "execution_count": null,
   "metadata": {},
   "outputs": [],
   "source": [
    "# your code"
   ]
  },
  {
   "cell_type": "markdown",
   "metadata": {},
   "source": [
    "#### IMDB's Top 250 data (movie name, Initial release, director name and stars) as a pandas dataframe"
   ]
  },
  {
   "cell_type": "code",
   "execution_count": 906,
   "metadata": {},
   "outputs": [],
   "source": [
    "# This is the url you will scrape in this exercise \n",
    "url = 'https://www.imdb.com/chart/top'"
   ]
  },
  {
   "cell_type": "code",
   "execution_count": 962,
   "metadata": {},
   "outputs": [],
   "source": [
    "# your code\n",
    "html=requests.get(url).text\n",
    "soup=BeautifulSoup(html)\n",
    "\n",
    "filas=soup.find(\"tbody\").find_all(\"tr\")"
   ]
  },
  {
   "cell_type": "code",
   "execution_count": 1076,
   "metadata": {},
   "outputs": [],
   "source": [
    "fila=filas[0]\n",
    "cela=fila.find_all(\"td\")\n"
   ]
  },
  {
   "cell_type": "code",
   "execution_count": 1074,
   "metadata": {},
   "outputs": [],
   "source": [
    "def todo(fila):\n",
    "    cela=fila.find_all(\"td\")\n",
    "    data={\n",
    "        \"movie name\": cela[0].find(\"a\").find(\"img\")[\"alt\"],\n",
    "        \"Initial release\":cela[1].find(\"span\").text.strip() ,\n",
    "        \"director name\": cela[1].find(\"a\")[\"title\"].strip() ,\n",
    "        \"stars\":cela[2].find(\"strong\").text\n",
    "        }\n",
    "    return data\n",
    "las=[ todo(fila) for fila in filas]\n"
   ]
  },
  {
   "cell_type": "code",
   "execution_count": 1079,
   "metadata": {},
   "outputs": [
    {
     "data": {
      "text/html": [
       "<div>\n",
       "<style scoped>\n",
       "    .dataframe tbody tr th:only-of-type {\n",
       "        vertical-align: middle;\n",
       "    }\n",
       "\n",
       "    .dataframe tbody tr th {\n",
       "        vertical-align: top;\n",
       "    }\n",
       "\n",
       "    .dataframe thead th {\n",
       "        text-align: right;\n",
       "    }\n",
       "</style>\n",
       "<table border=\"1\" class=\"dataframe\">\n",
       "  <thead>\n",
       "    <tr style=\"text-align: right;\">\n",
       "      <th></th>\n",
       "      <th>movie name</th>\n",
       "      <th>Initial release</th>\n",
       "      <th>director name</th>\n",
       "      <th>stars</th>\n",
       "    </tr>\n",
       "  </thead>\n",
       "  <tbody>\n",
       "    <tr>\n",
       "      <th>0</th>\n",
       "      <td>Cadena perpetua</td>\n",
       "      <td>(1994)</td>\n",
       "      <td>Frank Darabont (dir.), Tim Robbins, Morgan Fre...</td>\n",
       "      <td>9.2</td>\n",
       "    </tr>\n",
       "    <tr>\n",
       "      <th>1</th>\n",
       "      <td>El padrino</td>\n",
       "      <td>(1972)</td>\n",
       "      <td>Francis Ford Coppola (dir.), Marlon Brando, Al...</td>\n",
       "      <td>9.1</td>\n",
       "    </tr>\n",
       "    <tr>\n",
       "      <th>2</th>\n",
       "      <td>El padrino: Parte II</td>\n",
       "      <td>(1974)</td>\n",
       "      <td>Francis Ford Coppola (dir.), Al Pacino, Robert...</td>\n",
       "      <td>9.0</td>\n",
       "    </tr>\n",
       "    <tr>\n",
       "      <th>3</th>\n",
       "      <td>El caballero oscuro</td>\n",
       "      <td>(2008)</td>\n",
       "      <td>Christopher Nolan (dir.), Christian Bale, Heat...</td>\n",
       "      <td>9.0</td>\n",
       "    </tr>\n",
       "    <tr>\n",
       "      <th>4</th>\n",
       "      <td>12 hombres sin piedad</td>\n",
       "      <td>(1957)</td>\n",
       "      <td>Sidney Lumet (dir.), Henry Fonda, Lee J. Cobb</td>\n",
       "      <td>8.9</td>\n",
       "    </tr>\n",
       "    <tr>\n",
       "      <th>...</th>\n",
       "      <td>...</td>\n",
       "      <td>...</td>\n",
       "      <td>...</td>\n",
       "      <td>...</td>\n",
       "    </tr>\n",
       "    <tr>\n",
       "      <th>245</th>\n",
       "      <td>Aladdín</td>\n",
       "      <td>(1992)</td>\n",
       "      <td>Ron Clements (dir.), Scott Weinger, Robin Will...</td>\n",
       "      <td>8.0</td>\n",
       "    </tr>\n",
       "    <tr>\n",
       "      <th>246</th>\n",
       "      <td>Neon Genesis Evangelion: The End of Evangelion</td>\n",
       "      <td>(1997)</td>\n",
       "      <td>Hideaki Anno (dir.), Megumi Ogata, Megumi Haya...</td>\n",
       "      <td>8.0</td>\n",
       "    </tr>\n",
       "    <tr>\n",
       "      <th>247</th>\n",
       "      <td>A Silent Voice</td>\n",
       "      <td>(2016)</td>\n",
       "      <td>Naoko Yamada (dir.), Miyu Irino, Saori Hayami</td>\n",
       "      <td>8.0</td>\n",
       "    </tr>\n",
       "    <tr>\n",
       "      <th>248</th>\n",
       "      <td>Hera Pheri</td>\n",
       "      <td>(2000)</td>\n",
       "      <td>Priyadarshan (dir.), Akshay Kumar, Sunil Shetty</td>\n",
       "      <td>8.0</td>\n",
       "    </tr>\n",
       "    <tr>\n",
       "      <th>249</th>\n",
       "      <td>PK</td>\n",
       "      <td>(2014)</td>\n",
       "      <td>Rajkumar Hirani (dir.), Aamir Khan, Anushka Sh...</td>\n",
       "      <td>8.0</td>\n",
       "    </tr>\n",
       "  </tbody>\n",
       "</table>\n",
       "<p>250 rows × 4 columns</p>\n",
       "</div>"
      ],
      "text/plain": [
       "                                         movie name Initial release  \\\n",
       "0                                   Cadena perpetua          (1994)   \n",
       "1                                        El padrino          (1972)   \n",
       "2                              El padrino: Parte II          (1974)   \n",
       "3                               El caballero oscuro          (2008)   \n",
       "4                             12 hombres sin piedad          (1957)   \n",
       "..                                              ...             ...   \n",
       "245                                         Aladdín          (1992)   \n",
       "246  Neon Genesis Evangelion: The End of Evangelion          (1997)   \n",
       "247                                  A Silent Voice          (2016)   \n",
       "248                                      Hera Pheri          (2000)   \n",
       "249                                              PK          (2014)   \n",
       "\n",
       "                                         director name stars  \n",
       "0    Frank Darabont (dir.), Tim Robbins, Morgan Fre...   9.2  \n",
       "1    Francis Ford Coppola (dir.), Marlon Brando, Al...   9.1  \n",
       "2    Francis Ford Coppola (dir.), Al Pacino, Robert...   9.0  \n",
       "3    Christopher Nolan (dir.), Christian Bale, Heat...   9.0  \n",
       "4        Sidney Lumet (dir.), Henry Fonda, Lee J. Cobb   8.9  \n",
       "..                                                 ...   ...  \n",
       "245  Ron Clements (dir.), Scott Weinger, Robin Will...   8.0  \n",
       "246  Hideaki Anno (dir.), Megumi Ogata, Megumi Haya...   8.0  \n",
       "247      Naoko Yamada (dir.), Miyu Irino, Saori Hayami   8.0  \n",
       "248    Priyadarshan (dir.), Akshay Kumar, Sunil Shetty   8.0  \n",
       "249  Rajkumar Hirani (dir.), Aamir Khan, Anushka Sh...   8.0  \n",
       "\n",
       "[250 rows x 4 columns]"
      ]
     },
     "execution_count": 1079,
     "metadata": {},
     "output_type": "execute_result"
    }
   ],
   "source": [
    "df=pd.DataFrame(las)\n",
    "df"
   ]
  },
  {
   "cell_type": "markdown",
   "metadata": {},
   "source": [
    "#### Movie name, year and a brief summary of the top 10 random movies (IMDB) as a pandas dataframe."
   ]
  },
  {
   "cell_type": "code",
   "execution_count": 1219,
   "metadata": {},
   "outputs": [],
   "source": [
    "#This is the url you will scrape in this exercise\n",
    "url = 'http://www.imdb.com/chart/top'"
   ]
  },
  {
   "cell_type": "code",
   "execution_count": 1220,
   "metadata": {},
   "outputs": [],
   "source": [
    "#your code\n",
    "html=requests.get(url).text\n",
    "soup=BeautifulSoup(html)\n",
    "\n",
    "filas=soup.find(\"tbody\").find_all(\"tr\")[:10]"
   ]
  },
  {
   "cell_type": "code",
   "execution_count": 1221,
   "metadata": {},
   "outputs": [],
   "source": [
    "def dameresumen(link):\n",
    "    html=requests.get('http://www.imdb.com'+str(link)).text\n",
    "    soup=BeautifulSoup(html)\n",
    "    return soup.select(\".summary_text\")[0].text.strip()\n",
    "    "
   ]
  },
  {
   "cell_type": "code",
   "execution_count": 1224,
   "metadata": {},
   "outputs": [],
   "source": [
    "def todo(fila):\n",
    "    cela=fila.find_all(\"td\")\n",
    "    data={\n",
    "        \"movie name\": cela[0].find(\"a\").find(\"img\")[\"alt\"],\n",
    "        \"Initial release\":cela[1].find(\"span\").text.strip()  ,\n",
    "        \"summary\":dameresumen(cela[0].find(\"a\")[\"href\"])\n",
    "        }\n",
    "    return data\n",
    "las=[ todo(fila) for fila in filas]"
   ]
  },
  {
   "cell_type": "code",
   "execution_count": 1226,
   "metadata": {},
   "outputs": [],
   "source": [
    "df=pd.DataFrame(las)"
   ]
  },
  {
   "cell_type": "code",
   "execution_count": 1227,
   "metadata": {},
   "outputs": [
    {
     "data": {
      "text/html": [
       "<div>\n",
       "<style scoped>\n",
       "    .dataframe tbody tr th:only-of-type {\n",
       "        vertical-align: middle;\n",
       "    }\n",
       "\n",
       "    .dataframe tbody tr th {\n",
       "        vertical-align: top;\n",
       "    }\n",
       "\n",
       "    .dataframe thead th {\n",
       "        text-align: right;\n",
       "    }\n",
       "</style>\n",
       "<table border=\"1\" class=\"dataframe\">\n",
       "  <thead>\n",
       "    <tr style=\"text-align: right;\">\n",
       "      <th></th>\n",
       "      <th>movie name</th>\n",
       "      <th>Initial release</th>\n",
       "      <th>summary</th>\n",
       "    </tr>\n",
       "  </thead>\n",
       "  <tbody>\n",
       "    <tr>\n",
       "      <th>0</th>\n",
       "      <td>Cadena perpetua</td>\n",
       "      <td>(1994)</td>\n",
       "      <td>Two imprisoned men bond over a number of years...</td>\n",
       "    </tr>\n",
       "    <tr>\n",
       "      <th>1</th>\n",
       "      <td>El padrino</td>\n",
       "      <td>(1972)</td>\n",
       "      <td>The aging patriarch of an organized crime dyna...</td>\n",
       "    </tr>\n",
       "    <tr>\n",
       "      <th>2</th>\n",
       "      <td>El padrino: Parte II</td>\n",
       "      <td>(1974)</td>\n",
       "      <td>The early life and career of Vito Corleone in ...</td>\n",
       "    </tr>\n",
       "    <tr>\n",
       "      <th>3</th>\n",
       "      <td>El caballero oscuro</td>\n",
       "      <td>(2008)</td>\n",
       "      <td>When the menace known as the Joker wreaks havo...</td>\n",
       "    </tr>\n",
       "    <tr>\n",
       "      <th>4</th>\n",
       "      <td>12 hombres sin piedad</td>\n",
       "      <td>(1957)</td>\n",
       "      <td>A jury holdout attempts to prevent a miscarria...</td>\n",
       "    </tr>\n",
       "    <tr>\n",
       "      <th>5</th>\n",
       "      <td>La lista de Schindler</td>\n",
       "      <td>(1993)</td>\n",
       "      <td>In German-occupied Poland during World War II,...</td>\n",
       "    </tr>\n",
       "    <tr>\n",
       "      <th>6</th>\n",
       "      <td>El señor de los anillos: El retorno del rey</td>\n",
       "      <td>(2003)</td>\n",
       "      <td>Gandalf and Aragorn lead the World of Men agai...</td>\n",
       "    </tr>\n",
       "    <tr>\n",
       "      <th>7</th>\n",
       "      <td>Pulp Fiction</td>\n",
       "      <td>(1994)</td>\n",
       "      <td>The lives of two mob hitmen, a boxer, a gangst...</td>\n",
       "    </tr>\n",
       "    <tr>\n",
       "      <th>8</th>\n",
       "      <td>El bueno, el feo y el malo</td>\n",
       "      <td>(1966)</td>\n",
       "      <td>A bounty hunting scam joins two men in an unea...</td>\n",
       "    </tr>\n",
       "    <tr>\n",
       "      <th>9</th>\n",
       "      <td>El señor de los anillos: La comunidad del anillo</td>\n",
       "      <td>(2001)</td>\n",
       "      <td>A meek Hobbit from the Shire and eight compani...</td>\n",
       "    </tr>\n",
       "  </tbody>\n",
       "</table>\n",
       "</div>"
      ],
      "text/plain": [
       "                                         movie name Initial release  \\\n",
       "0                                   Cadena perpetua          (1994)   \n",
       "1                                        El padrino          (1972)   \n",
       "2                              El padrino: Parte II          (1974)   \n",
       "3                               El caballero oscuro          (2008)   \n",
       "4                             12 hombres sin piedad          (1957)   \n",
       "5                             La lista de Schindler          (1993)   \n",
       "6       El señor de los anillos: El retorno del rey          (2003)   \n",
       "7                                      Pulp Fiction          (1994)   \n",
       "8                        El bueno, el feo y el malo          (1966)   \n",
       "9  El señor de los anillos: La comunidad del anillo          (2001)   \n",
       "\n",
       "                                             summary  \n",
       "0  Two imprisoned men bond over a number of years...  \n",
       "1  The aging patriarch of an organized crime dyna...  \n",
       "2  The early life and career of Vito Corleone in ...  \n",
       "3  When the menace known as the Joker wreaks havo...  \n",
       "4  A jury holdout attempts to prevent a miscarria...  \n",
       "5  In German-occupied Poland during World War II,...  \n",
       "6  Gandalf and Aragorn lead the World of Men agai...  \n",
       "7  The lives of two mob hitmen, a boxer, a gangst...  \n",
       "8  A bounty hunting scam joins two men in an unea...  \n",
       "9  A meek Hobbit from the Shire and eight compani...  "
      ]
     },
     "execution_count": 1227,
     "metadata": {},
     "output_type": "execute_result"
    }
   ],
   "source": [
    "df"
   ]
  },
  {
   "cell_type": "markdown",
   "metadata": {},
   "source": [
    "#### Find the live weather report (temperature, wind speed, description and weather) of a given city."
   ]
  },
  {
   "cell_type": "code",
   "execution_count": 1318,
   "metadata": {},
   "outputs": [
    {
     "name": "stdout",
     "output_type": "stream",
     "text": [
      "Enter the city:madrid\n"
     ]
    }
   ],
   "source": [
    "#https://openweathermap.org/current\n",
    "city = city=input('Enter the city:')\n",
    "url = 'http://api.openweathermap.org/data/2.5/weather?'+'q='+city+'&APPID=b35975e18dc93725acb092f7272cc6b8&units=metric'"
   ]
  },
  {
   "cell_type": "code",
   "execution_count": 1389,
   "metadata": {},
   "outputs": [],
   "source": [
    "# your code\n",
    "html=requests.get(url).text\n",
    "soap=BeautifulSoup(html)\n",
    "y = json.loads(soap.find_all(\"p\")[0].text)\n",
    "temp=y[\"main\"][\"temp\"]\n",
    "wind=y[\"wind\"][\"speed\"]\n",
    "description=y[\"weather\"][0][\"description\"]\n",
    "weather=y[\"weather\"][0][\"main\"]"
   ]
  },
  {
   "cell_type": "code",
   "execution_count": 1392,
   "metadata": {},
   "outputs": [
    {
     "name": "stdout",
     "output_type": "stream",
     "text": [
      "|Temperatura:22.22|---Wind_Speed:2.1|---Description:clear sky|---Weather:Clear|\n"
     ]
    }
   ],
   "source": [
    "y[\"coord\"]\n",
    "print(f\"|Temperatura:{temp}|---Wind_Speed:{ wind}|---Description:{description}|---Weather:{weather}|\")"
   ]
  },
  {
   "cell_type": "markdown",
   "metadata": {},
   "source": [
    "#### Book name,price and stock availability as a pandas dataframe."
   ]
  },
  {
   "cell_type": "code",
   "execution_count": 1393,
   "metadata": {},
   "outputs": [],
   "source": [
    "# This is the url you will scrape in this exercise. \n",
    "# It is a fictional bookstore created to be scraped. \n",
    "url = 'http://books.toscrape.com/'\n"
   ]
  },
  {
   "cell_type": "code",
   "execution_count": 1683,
   "metadata": {},
   "outputs": [],
   "source": [
    "#your code\n",
    "html=requests.get(url).text\n",
    "soup=BeautifulSoup(html)\n",
    "tables=soup.find(\"ol\").find_all(\"li\")[1:]\n"
   ]
  },
  {
   "cell_type": "code",
   "execution_count": 1678,
   "metadata": {},
   "outputs": [],
   "source": [
    "def biblio(fila):\n",
    "\n",
    "    name=fila.find_all(\"a\")[0].find_all(\"img\")[0][\"alt\"]\n",
    "    price=fila.find_all(\"p\")[1].text\n",
    "    stock=tables[3].find_all(\"p\")[2].text.strip()\n",
    "    return {\n",
    "        \"name\":name,\n",
    "        \"price\":price,\n",
    "        \"stock\":stock\n",
    "    }"
   ]
  },
  {
   "cell_type": "code",
   "execution_count": 1679,
   "metadata": {},
   "outputs": [],
   "source": [
    "s=[biblio(fila)for fila in tables]"
   ]
  },
  {
   "cell_type": "code",
   "execution_count": 1680,
   "metadata": {},
   "outputs": [
    {
     "data": {
      "text/plain": [
       "[{'name': 'Tipping the Velvet', 'price': 'Â£53.74', 'stock': 'In stock'},\n",
       " {'name': 'Soumission', 'price': 'Â£50.10', 'stock': 'In stock'},\n",
       " {'name': 'Sharp Objects', 'price': 'Â£47.82', 'stock': 'In stock'},\n",
       " {'name': 'Sapiens: A Brief History of Humankind',\n",
       "  'price': 'Â£54.23',\n",
       "  'stock': 'In stock'},\n",
       " {'name': 'The Requiem Red', 'price': 'Â£22.65', 'stock': 'In stock'},\n",
       " {'name': 'The Dirty Little Secrets of Getting Your Dream Job',\n",
       "  'price': 'Â£33.34',\n",
       "  'stock': 'In stock'},\n",
       " {'name': 'The Coming Woman: A Novel Based on the Life of the Infamous Feminist, Victoria Woodhull',\n",
       "  'price': 'Â£17.93',\n",
       "  'stock': 'In stock'},\n",
       " {'name': 'The Boys in the Boat: Nine Americans and Their Epic Quest for Gold at the 1936 Berlin Olympics',\n",
       "  'price': 'Â£22.60',\n",
       "  'stock': 'In stock'},\n",
       " {'name': 'The Black Maria', 'price': 'Â£52.15', 'stock': 'In stock'},\n",
       " {'name': 'Starving Hearts (Triangular Trade Trilogy, #1)',\n",
       "  'price': 'Â£13.99',\n",
       "  'stock': 'In stock'},\n",
       " {'name': \"Shakespeare's Sonnets\", 'price': 'Â£20.66', 'stock': 'In stock'},\n",
       " {'name': 'Set Me Free', 'price': 'Â£17.46', 'stock': 'In stock'},\n",
       " {'name': \"Scott Pilgrim's Precious Little Life (Scott Pilgrim #1)\",\n",
       "  'price': 'Â£52.29',\n",
       "  'stock': 'In stock'},\n",
       " {'name': 'Rip it Up and Start Again',\n",
       "  'price': 'Â£35.02',\n",
       "  'stock': 'In stock'},\n",
       " {'name': 'Our Band Could Be Your Life: Scenes from the American Indie Underground, 1981-1991',\n",
       "  'price': 'Â£57.25',\n",
       "  'stock': 'In stock'},\n",
       " {'name': 'Olio', 'price': 'Â£23.88', 'stock': 'In stock'},\n",
       " {'name': 'Mesaerion: The Best Science Fiction Stories 1800-1849',\n",
       "  'price': 'Â£37.59',\n",
       "  'stock': 'In stock'},\n",
       " {'name': 'Libertarianism for Beginners',\n",
       "  'price': 'Â£51.33',\n",
       "  'stock': 'In stock'},\n",
       " {'name': \"It's Only the Himalayas\", 'price': 'Â£45.17', 'stock': 'In stock'}]"
      ]
     },
     "execution_count": 1680,
     "metadata": {},
     "output_type": "execute_result"
    }
   ],
   "source": [
    "s"
   ]
  },
  {
   "cell_type": "code",
   "execution_count": 1681,
   "metadata": {},
   "outputs": [],
   "source": [
    "df=pd.DataFrame(s)"
   ]
  },
  {
   "cell_type": "code",
   "execution_count": 1682,
   "metadata": {},
   "outputs": [
    {
     "data": {
      "text/html": [
       "<div>\n",
       "<style scoped>\n",
       "    .dataframe tbody tr th:only-of-type {\n",
       "        vertical-align: middle;\n",
       "    }\n",
       "\n",
       "    .dataframe tbody tr th {\n",
       "        vertical-align: top;\n",
       "    }\n",
       "\n",
       "    .dataframe thead th {\n",
       "        text-align: right;\n",
       "    }\n",
       "</style>\n",
       "<table border=\"1\" class=\"dataframe\">\n",
       "  <thead>\n",
       "    <tr style=\"text-align: right;\">\n",
       "      <th></th>\n",
       "      <th>name</th>\n",
       "      <th>price</th>\n",
       "      <th>stock</th>\n",
       "    </tr>\n",
       "  </thead>\n",
       "  <tbody>\n",
       "    <tr>\n",
       "      <th>0</th>\n",
       "      <td>Tipping the Velvet</td>\n",
       "      <td>Â£53.74</td>\n",
       "      <td>In stock</td>\n",
       "    </tr>\n",
       "    <tr>\n",
       "      <th>1</th>\n",
       "      <td>Soumission</td>\n",
       "      <td>Â£50.10</td>\n",
       "      <td>In stock</td>\n",
       "    </tr>\n",
       "    <tr>\n",
       "      <th>2</th>\n",
       "      <td>Sharp Objects</td>\n",
       "      <td>Â£47.82</td>\n",
       "      <td>In stock</td>\n",
       "    </tr>\n",
       "    <tr>\n",
       "      <th>3</th>\n",
       "      <td>Sapiens: A Brief History of Humankind</td>\n",
       "      <td>Â£54.23</td>\n",
       "      <td>In stock</td>\n",
       "    </tr>\n",
       "    <tr>\n",
       "      <th>4</th>\n",
       "      <td>The Requiem Red</td>\n",
       "      <td>Â£22.65</td>\n",
       "      <td>In stock</td>\n",
       "    </tr>\n",
       "    <tr>\n",
       "      <th>5</th>\n",
       "      <td>The Dirty Little Secrets of Getting Your Dream...</td>\n",
       "      <td>Â£33.34</td>\n",
       "      <td>In stock</td>\n",
       "    </tr>\n",
       "    <tr>\n",
       "      <th>6</th>\n",
       "      <td>The Coming Woman: A Novel Based on the Life of...</td>\n",
       "      <td>Â£17.93</td>\n",
       "      <td>In stock</td>\n",
       "    </tr>\n",
       "    <tr>\n",
       "      <th>7</th>\n",
       "      <td>The Boys in the Boat: Nine Americans and Their...</td>\n",
       "      <td>Â£22.60</td>\n",
       "      <td>In stock</td>\n",
       "    </tr>\n",
       "    <tr>\n",
       "      <th>8</th>\n",
       "      <td>The Black Maria</td>\n",
       "      <td>Â£52.15</td>\n",
       "      <td>In stock</td>\n",
       "    </tr>\n",
       "    <tr>\n",
       "      <th>9</th>\n",
       "      <td>Starving Hearts (Triangular Trade Trilogy, #1)</td>\n",
       "      <td>Â£13.99</td>\n",
       "      <td>In stock</td>\n",
       "    </tr>\n",
       "    <tr>\n",
       "      <th>10</th>\n",
       "      <td>Shakespeare's Sonnets</td>\n",
       "      <td>Â£20.66</td>\n",
       "      <td>In stock</td>\n",
       "    </tr>\n",
       "    <tr>\n",
       "      <th>11</th>\n",
       "      <td>Set Me Free</td>\n",
       "      <td>Â£17.46</td>\n",
       "      <td>In stock</td>\n",
       "    </tr>\n",
       "    <tr>\n",
       "      <th>12</th>\n",
       "      <td>Scott Pilgrim's Precious Little Life (Scott Pi...</td>\n",
       "      <td>Â£52.29</td>\n",
       "      <td>In stock</td>\n",
       "    </tr>\n",
       "    <tr>\n",
       "      <th>13</th>\n",
       "      <td>Rip it Up and Start Again</td>\n",
       "      <td>Â£35.02</td>\n",
       "      <td>In stock</td>\n",
       "    </tr>\n",
       "    <tr>\n",
       "      <th>14</th>\n",
       "      <td>Our Band Could Be Your Life: Scenes from the A...</td>\n",
       "      <td>Â£57.25</td>\n",
       "      <td>In stock</td>\n",
       "    </tr>\n",
       "    <tr>\n",
       "      <th>15</th>\n",
       "      <td>Olio</td>\n",
       "      <td>Â£23.88</td>\n",
       "      <td>In stock</td>\n",
       "    </tr>\n",
       "    <tr>\n",
       "      <th>16</th>\n",
       "      <td>Mesaerion: The Best Science Fiction Stories 18...</td>\n",
       "      <td>Â£37.59</td>\n",
       "      <td>In stock</td>\n",
       "    </tr>\n",
       "    <tr>\n",
       "      <th>17</th>\n",
       "      <td>Libertarianism for Beginners</td>\n",
       "      <td>Â£51.33</td>\n",
       "      <td>In stock</td>\n",
       "    </tr>\n",
       "    <tr>\n",
       "      <th>18</th>\n",
       "      <td>It's Only the Himalayas</td>\n",
       "      <td>Â£45.17</td>\n",
       "      <td>In stock</td>\n",
       "    </tr>\n",
       "  </tbody>\n",
       "</table>\n",
       "</div>"
      ],
      "text/plain": [
       "                                                 name    price     stock\n",
       "0                                  Tipping the Velvet  Â£53.74  In stock\n",
       "1                                          Soumission  Â£50.10  In stock\n",
       "2                                       Sharp Objects  Â£47.82  In stock\n",
       "3               Sapiens: A Brief History of Humankind  Â£54.23  In stock\n",
       "4                                     The Requiem Red  Â£22.65  In stock\n",
       "5   The Dirty Little Secrets of Getting Your Dream...  Â£33.34  In stock\n",
       "6   The Coming Woman: A Novel Based on the Life of...  Â£17.93  In stock\n",
       "7   The Boys in the Boat: Nine Americans and Their...  Â£22.60  In stock\n",
       "8                                     The Black Maria  Â£52.15  In stock\n",
       "9      Starving Hearts (Triangular Trade Trilogy, #1)  Â£13.99  In stock\n",
       "10                              Shakespeare's Sonnets  Â£20.66  In stock\n",
       "11                                        Set Me Free  Â£17.46  In stock\n",
       "12  Scott Pilgrim's Precious Little Life (Scott Pi...  Â£52.29  In stock\n",
       "13                          Rip it Up and Start Again  Â£35.02  In stock\n",
       "14  Our Band Could Be Your Life: Scenes from the A...  Â£57.25  In stock\n",
       "15                                               Olio  Â£23.88  In stock\n",
       "16  Mesaerion: The Best Science Fiction Stories 18...  Â£37.59  In stock\n",
       "17                       Libertarianism for Beginners  Â£51.33  In stock\n",
       "18                            It's Only the Himalayas  Â£45.17  In stock"
      ]
     },
     "execution_count": 1682,
     "metadata": {},
     "output_type": "execute_result"
    }
   ],
   "source": [
    "df"
   ]
  },
  {
   "cell_type": "code",
   "execution_count": null,
   "metadata": {},
   "outputs": [],
   "source": []
  }
 ],
 "metadata": {
  "kernelspec": {
   "display_name": "Python 3",
   "language": "python",
   "name": "python3"
  },
  "language_info": {
   "codemirror_mode": {
    "name": "ipython",
    "version": 3
   },
   "file_extension": ".py",
   "mimetype": "text/x-python",
   "name": "python",
   "nbconvert_exporter": "python",
   "pygments_lexer": "ipython3",
   "version": "3.8.2"
  }
 },
 "nbformat": 4,
 "nbformat_minor": 2
}
