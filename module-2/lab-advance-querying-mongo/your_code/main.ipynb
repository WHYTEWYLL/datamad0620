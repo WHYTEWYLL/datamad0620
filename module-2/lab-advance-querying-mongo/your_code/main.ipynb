{
 "cells": [
  {
   "cell_type": "markdown",
   "metadata": {},
   "source": [
    "# Advanced Querying Mongo"
   ]
  },
  {
   "cell_type": "markdown",
   "metadata": {},
   "source": [
    "Importing libraries and setting up connection"
   ]
  },
  {
   "cell_type": "code",
   "execution_count": 232,
   "metadata": {},
   "outputs": [],
   "source": [
    "from pymongo import MongoClient\n",
    "client = MongoClient(\"mongodb://localhost/companies\",connectTimeoutMS=2000,serverSelectionTimeoutMS=2000)\n",
    "db=client.get_database()"
   ]
  },
  {
   "cell_type": "markdown",
   "metadata": {},
   "source": [
    "### 1. All the companies whose name match 'Babelgum'. Retrieve only their `name` field."
   ]
  },
  {
   "cell_type": "code",
   "execution_count": 1,
   "metadata": {},
   "outputs": [],
   "source": [
    "# Your Code\n",
    "query={\"name\":\"Babelgum\"}\n",
    "list(db.companies.find(query))"
   ]
  },
  {
   "cell_type": "markdown",
   "metadata": {},
   "source": [
    "### 2. All the companies that have more than 5000 employees. Limit the search to 20 companies and sort them by **number of employees**."
   ]
  },
  {
   "cell_type": "code",
   "execution_count": 35,
   "metadata": {},
   "outputs": [],
   "source": [
    "# Your Code\n",
    "from pymongo import ASCENDING, DESCENDING\n",
    "query={'number_of_employees':{\"$gt\": 5000 }}\n",
    "list(db.companies.find(query,{'number_of_employees':1, \"name\":1}).sort((\"number_of_employees\"),DESCENDING).limit(20))"
   ]
  },
  {
   "cell_type": "markdown",
   "metadata": {},
   "source": [
    "### 3. All the companies founded between 2000 and 2005, both years included. Retrieve only the `name` and `founded_year` fields."
   ]
  },
  {
   "cell_type": "code",
   "execution_count": 2,
   "metadata": {},
   "outputs": [],
   "source": [
    "# Your Code\n",
    "query={\"$and\":[{'founded_year':{\"$gte\": 2000 }},{'founded_year':{\"$lte\": 2005 }}]}\n",
    "list(db.companies.find(query,{'founded_year':1, \"name\":1}))"
   ]
  },
  {
   "cell_type": "markdown",
   "metadata": {},
   "source": [
    "### 4. All the companies that had a Valuation Amount of more than 100.000.000 and have been founded before 2010. Retrieve only the `name` and `ipo` fields."
   ]
  },
  {
   "cell_type": "code",
   "execution_count": 85,
   "metadata": {},
   "outputs": [
    {
     "data": {
      "text/plain": [
       "[{'_id': ObjectId('52cdef7c4bab8bd675297d8e'),\n",
       "  'founded_year': 2004,\n",
       "  'ipo': {'valuation_amount': 104000000000}},\n",
       " {'_id': ObjectId('52cdef7c4bab8bd675297d94'),\n",
       "  'founded_year': 2006,\n",
       "  'ipo': {'valuation_amount': 18100000000}},\n",
       " {'_id': ObjectId('52cdef7c4bab8bd675297de0'),\n",
       "  'founded_year': 2004,\n",
       "  'ipo': {'valuation_amount': 1300000000}},\n",
       " {'_id': ObjectId('52cdef7c4bab8bd675297e0c'),\n",
       "  'founded_year': 2003,\n",
       "  'ipo': {'valuation_amount': 9310000000}},\n",
       " {'_id': ObjectId('52cdef7c4bab8bd675297e81'),\n",
       "  'founded_year': 2004,\n",
       "  'ipo': {'valuation_amount': 290000000}}]"
      ]
     },
     "execution_count": 85,
     "metadata": {},
     "output_type": "execute_result"
    }
   ],
   "source": [
    "# Your Code\n",
    "query={\"$and\":[{\"ipo.valuation_amount\":{\"$gte\":100000000}},{'founded_year':{\"$lte\": 2010 }}]}\n",
    "list(db.companies.find(query,{'founded_year':1,\"ipo.valuation_amount\":1}).limit(5))"
   ]
  },
  {
   "cell_type": "markdown",
   "metadata": {},
   "source": [
    "### 5. All the companies that have less than 1000 employees and have been founded before 2005. Order them by the number of employees and limit the search to 10 companies."
   ]
  },
  {
   "cell_type": "code",
   "execution_count": 5,
   "metadata": {},
   "outputs": [],
   "source": [
    "# Your Code\n",
    "query={\"$and\":[{'founded_year':{\"$lte\": 2005 }},{'number_of_employees':{\"$lte\": 1000 }}]}\n",
    "list(db.companies.find(query,{'founded_year':1, \"name\":1}).sort((\"number_of_employees\"),DESCENDING))"
   ]
  },
  {
   "cell_type": "markdown",
   "metadata": {},
   "source": [
    "### 6. All the companies that don't include the `partners` field."
   ]
  },
  {
   "cell_type": "code",
   "execution_count": 78,
   "metadata": {},
   "outputs": [
    {
     "data": {
      "text/plain": [
       "[]"
      ]
     },
     "execution_count": 78,
     "metadata": {},
     "output_type": "execute_result"
    }
   ],
   "source": [
    "# Your Code\n",
    "list(db.companies.find({\"partners\":{\"$exists\":False}}))"
   ]
  },
  {
   "cell_type": "markdown",
   "metadata": {},
   "source": [
    "### 7. All the companies that have a null type of value on the `category_code` field."
   ]
  },
  {
   "cell_type": "code",
   "execution_count": 6,
   "metadata": {},
   "outputs": [],
   "source": [
    "# Your Code\n",
    "list(db.companies.find({\"category_code\":{\"$type\":10}}).limit(7))"
   ]
  },
  {
   "cell_type": "markdown",
   "metadata": {},
   "source": [
    "### 8. All the companies that have at least 100 employees but less than 1000. Retrieve only the `name` and `number of employees` fields."
   ]
  },
  {
   "cell_type": "code",
   "execution_count": 7,
   "metadata": {},
   "outputs": [],
   "source": [
    "# Your Code\n",
    "query={\"$and\":[{'number_of_employees':{\"$gte\": 100 }},{'number_of_employees':{\"$lt\": 1000 }}]}\n",
    "list(db.companies.find(query,{'name':1, \"number_of_employees\":1}))"
   ]
  },
  {
   "cell_type": "markdown",
   "metadata": {},
   "source": [
    "### 9. Order all the companies by their IPO price in a descending order."
   ]
  },
  {
   "cell_type": "code",
   "execution_count": 8,
   "metadata": {},
   "outputs": [],
   "source": [
    "# Your Code\n",
    "list(db.companies.find().sort(\"ipo.valuation_amount\",DESCENDING).limit(5))"
   ]
  },
  {
   "cell_type": "markdown",
   "metadata": {},
   "source": [
    "### 10. Retrieve the 10 companies with more employees, order by the `number of employees`"
   ]
  },
  {
   "cell_type": "code",
   "execution_count": 9,
   "metadata": {},
   "outputs": [],
   "source": [
    "# Your Code\n",
    "list(db.companies.find().sort(\"number_of_employees\",DESCENDING).limit(10))"
   ]
  },
  {
   "cell_type": "markdown",
   "metadata": {},
   "source": [
    "### 11. All the companies founded on the second semester of the year. Limit your search to 1000 companies."
   ]
  },
  {
   "cell_type": "code",
   "execution_count": 10,
   "metadata": {},
   "outputs": [],
   "source": [
    "# Your Code\n",
    "query={\"$and\":[{'founded_month':{\"$gte\": 7 }},{'founded_month':{\"$lt\": 12 }}]}\n",
    "list(db.companies.find(query).limit(2))"
   ]
  },
  {
   "cell_type": "markdown",
   "metadata": {},
   "source": [
    "### 12. All the companies founded before 2000 that have an acquisition amount of more than 10.000.00"
   ]
  },
  {
   "cell_type": "code",
   "execution_count": 11,
   "metadata": {},
   "outputs": [],
   "source": [
    "# Your Code\n",
    "query={\"$and\":[{'founded_year':{\"$lt\": 2000 }},{'acquisition.price_amount':{\"$gt\": 1000000 }}]}\n",
    "list(db.companies.find(query).limit(2))"
   ]
  },
  {
   "cell_type": "markdown",
   "metadata": {},
   "source": [
    "### 13. All the companies that have been acquired after 2010, order by the acquisition amount, and retrieve only their `name` and `acquisition` field."
   ]
  },
  {
   "cell_type": "code",
   "execution_count": 12,
   "metadata": {},
   "outputs": [],
   "source": [
    "# Your Code\n",
    "query={\"acquisition.acquired_year\":{\"$gte\": 2010 }}\n",
    "list(db.companies.find(query,{\"name\":1, \"acquisition\":1}).sort(\"acquisition.price_amount\").limit(2))"
   ]
  },
  {
   "cell_type": "markdown",
   "metadata": {},
   "source": [
    "### 14. Order the companies by their `founded year`, retrieving only their `name` and `founded year`."
   ]
  },
  {
   "cell_type": "code",
   "execution_count": 132,
   "metadata": {},
   "outputs": [
    {
     "data": {
      "text/plain": [
       "[{'_id': ObjectId('52cdef7c4bab8bd675297fec'),\n",
       "  'name': 'Fixya',\n",
       "  'founded_year': 2013},\n",
       " {'_id': ObjectId('52cdef7c4bab8bd67529801f'),\n",
       "  'name': 'Wamba',\n",
       "  'founded_year': 2013}]"
      ]
     },
     "execution_count": 132,
     "metadata": {},
     "output_type": "execute_result"
    }
   ],
   "source": [
    "# Your Code\n",
    "list(db.companies.find({},{\"name\":1, \"founded_year\":1}).sort(\"founded_year\", DESCENDING).limit(2))"
   ]
  },
  {
   "cell_type": "markdown",
   "metadata": {},
   "source": [
    "### 15. All the companies that have been founded on the first seven days of the month, including the seventh. Sort them by their `acquisition price` in a descending order. Limit the search to 10 documents."
   ]
  },
  {
   "cell_type": "code",
   "execution_count": 13,
   "metadata": {},
   "outputs": [],
   "source": [
    "# Your Code\n",
    "query={\"$and\":[{'founded_day':{\"$gte\": 1 }},{'founded_day':{\"$lte\": 7 }}]}\n",
    "list(db.companies.find(query).sort(\"acquisition.price_amount\",DESCENDING).limit(10))"
   ]
  },
  {
   "cell_type": "markdown",
   "metadata": {},
   "source": [
    "### 16. All the companies on the 'web' `category` that have more than 4000 employees. Sort them by the amount of employees in ascending order."
   ]
  },
  {
   "cell_type": "code",
   "execution_count": 14,
   "metadata": {},
   "outputs": [],
   "source": [
    "# Your Code\n",
    "query={\"$and\":[{'category_code':\"web\"},{'number_of_employees':{\"$gte\": 4000}}]}\n",
    "list(db.companies.find(query).sort(\"number_of_employees\",ASCENDING).limit(10))"
   ]
  },
  {
   "cell_type": "markdown",
   "metadata": {},
   "source": [
    "### 17. All the companies whose acquisition amount is more than 10.000.000, and currency is 'EUR'."
   ]
  },
  {
   "cell_type": "code",
   "execution_count": 1,
   "metadata": {},
   "outputs": [],
   "source": [
    "# Your Code\n",
    "query={\"$and\":[{'acquisition.price_currency_code':\"EUR\"},{'acquisition.price_amount':{\"$gte\": 10000000}}]}\n",
    "list(db.companies.find(query).limit(10))"
   ]
  },
  {
   "cell_type": "markdown",
   "metadata": {},
   "source": [
    "### 18. All the companies that have been acquired on the first trimester of the year. Limit the search to 10 companies, and retrieve only their `name` and `acquisition` fields."
   ]
  },
  {
   "cell_type": "code",
   "execution_count": 2,
   "metadata": {},
   "outputs": [],
   "source": [
    "# Your Code\n",
    "query={\"$and\":[{'acquisition.acquired_month':{\"$gte\": 1 }},{'acquisition.acquired_month':{\"$lte\": 3 }}]}\n",
    "list(db.companies.find(query,{\"name\":1,\"acquisition\":1}).limit(2))"
   ]
  },
  {
   "cell_type": "markdown",
   "metadata": {},
   "source": [
    "# Bonus\n",
    "### 19. All the companies that have been founded between 2000 and 2010, but have not been acquired before 2011."
   ]
  },
  {
   "cell_type": "code",
   "execution_count": 3,
   "metadata": {},
   "outputs": [],
   "source": [
    "# Your Code\n",
    "query={\"$and\":[{'founded_year':{\"$gte\": 2000 }},{'founded_year':{\"$lte\": 2010 }},{\"acquisition.acquired_year\":{\"$not\":{\"$lt\":2011}}}]}\n",
    "list(db.companies.find(query).limit(1))"
   ]
  },
  {
   "cell_type": "markdown",
   "metadata": {},
   "source": [
    "### 20. All the companies that have been 'deadpooled' after the third year."
   ]
  },
  {
   "cell_type": "code",
   "execution_count": 284,
   "metadata": {},
   "outputs": [],
   "source": [
    "#where permite leer codigo javascript, y se usa el this para hacer referencia a los documentos dentro del string,"
   ]
  },
  {
   "cell_type": "code",
   "execution_count": 282,
   "metadata": {},
   "outputs": [],
   "source": [
    "query={\"$and\":[{\"$where\" : \"this.deadpooled_year > (this.founded_year)+3\" },{\"founded_year\":{\"$ne\":None}}]\n",
    "        } "
   ]
  },
  {
   "cell_type": "code",
   "execution_count": null,
   "metadata": {},
   "outputs": [],
   "source": [
    "list(db.companies.find(query,{\"deadpooled_year\":1,\"founded_year\":1}))"
   ]
  },
  {
   "cell_type": "code",
   "execution_count": null,
   "metadata": {},
   "outputs": [],
   "source": []
  }
 ],
 "metadata": {
  "kernelspec": {
   "display_name": "Python 3",
   "language": "python",
   "name": "python3"
  },
  "language_info": {
   "codemirror_mode": {
    "name": "ipython",
    "version": 3
   },
   "file_extension": ".py",
   "mimetype": "text/x-python",
   "name": "python",
   "nbconvert_exporter": "python",
   "pygments_lexer": "ipython3",
   "version": "3.8.2"
  }
 },
 "nbformat": 4,
 "nbformat_minor": 2
}
